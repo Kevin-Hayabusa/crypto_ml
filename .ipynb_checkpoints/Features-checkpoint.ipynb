{
 "cells": [
  {
   "cell_type": "code",
   "execution_count": 28,
   "metadata": {},
   "outputs": [],
   "source": [
    "import os\n",
    "import pandas as pd\n",
    "import numpy as np\n",
    "import matplotlib.pyplot as plt\n",
    "import seaborn as sns\n",
    "from datetime import date,datetime"
   ]
  },
  {
   "cell_type": "code",
   "execution_count": 29,
   "metadata": {},
   "outputs": [],
   "source": [
    "# Little function to keep track of code execution.\n",
    "def Keep_Track():\n",
    "    print(\"Executed successfully. \" + datetime.now().strftime(\"%a %d %b @ %H:%M:%S\") + \"\\n\")"
   ]
  },
  {
   "cell_type": "code",
   "execution_count": 20,
   "metadata": {},
   "outputs": [],
   "source": [
    "top_mkt = pd.read_excel('TopMarket_Cap.xlsx')\n",
    "tickers = list(top_mkt.symbol+'USDT')\n",
    "path='./data'"
   ]
  },
  {
   "cell_type": "code",
   "execution_count": 24,
   "metadata": {},
   "outputs": [],
   "source": [
    "def load_data(tickers,kline_interval,path):\n",
    "    '''\n",
    "    load feather file and return panel data with OHLCV\n",
    "    '''\n",
    "    l={}\n",
    "    for tkrs in tickers:\n",
    "        try:\n",
    "            df = pd.read_feather(os.path.join(path,f'{tkrs}_{kline_interval}.feather'))\n",
    "            df = df.set_index('Open Time')\n",
    "            l[tkrs]=df[['Open','High','Low','Close','Volume']]\n",
    "        except:\n",
    "            print(f'{tkrs} is missing')\n",
    "    df_panel = pd.concat(l).swaplevel().sort_index(level=[0,1])\n",
    "    df_panel.index.set_names('Ticker',1,inplace=True)\n",
    "    print(f'total ticker queried {len(tickers)}, total record returned {len(df_panel.index.get_level_values(1).unique())}')\n",
    "    return df_panel"
   ]
  },
  {
   "cell_type": "code",
   "execution_count": 25,
   "metadata": {},
   "outputs": [
    {
     "name": "stdout",
     "output_type": "stream",
     "text": [
      "DAIUSDT is missing\n",
      "total ticker queried 29, total record returned 28\n"
     ]
    }
   ],
   "source": [
    "df_panel = load_data(tickers=tickers,kline_interval='1HOUR',path=path)"
   ]
  },
  {
   "cell_type": "code",
   "execution_count": null,
   "metadata": {},
   "outputs": [],
   "source": [
    "def cal_close_avg(df,w):\n",
    "    #close/avg\n",
    "    d={}\n",
    "    for i in w:\n",
    "        ds = (df.Close/(df.Close.rolling(i).mean()))\n",
    "        d[f'close_avg_{i}']=ds\n",
    "    return pd.concat(d,axis=1)"
   ]
  },
  {
   "cell_type": "code",
   "execution_count": null,
   "metadata": {},
   "outputs": [],
   "source": [
    "def cal_volume_avg(df,w):\n",
    "    #volume/avg\n",
    "    d={}\n",
    "    for i in w:\n",
    "        ds = (df.Volume/(df.Volume.rolling(i).mean()))\n",
    "        d[f'volume_avg_{i}']=ds\n",
    "    return pd.concat(d,axis=1)"
   ]
  },
  {
   "cell_type": "code",
   "execution_count": null,
   "metadata": {},
   "outputs": [],
   "source": [
    "def cal_bk_return(df,w):\n",
    "    d={}\n",
    "    for i in w:\n",
    "        ds = df.Close.pct_change(i)\n",
    "        d[f'bk_return_{i}']=ds\n",
    "    return pd.concat(d,axis=1)"
   ]
  },
  {
   "cell_type": "code",
   "execution_count": null,
   "metadata": {},
   "outputs": [],
   "source": [
    "def cal_fwd_return(df,w):\n",
    "    d={}\n",
    "    for i in w:\n",
    "        ds = df.Close.pct_change(i).shift(-i)\n",
    "        d[f'fwd_return_{i}']=ds\n",
    "    return pd.concat(d,axis=1)"
   ]
  },
  {
   "cell_type": "code",
   "execution_count": null,
   "metadata": {},
   "outputs": [],
   "source": [
    "def cal_high_low(df,w):\n",
    "    d={}\n",
    "    for i in w:\n",
    "        ds=df.High.rolling(i).max()/df.Low.rolling(i).min()\n",
    "        d[f'max_min_{i}']=ds\n",
    "    return pd.concat(d,axis=1)"
   ]
  },
  {
   "cell_type": "code",
   "execution_count": null,
   "metadata": {},
   "outputs": [],
   "source": [
    "def cal_max_mean(df,w):\n",
    "    d={}\n",
    "    for i in w:\n",
    "        ds=df.High.rolling(i).max()/df.Close.rolling(i).mean()\n",
    "        d[f'max_mean_{i}']=ds\n",
    "    return pd.concat(d,axis=1)"
   ]
  },
  {
   "cell_type": "code",
   "execution_count": null,
   "metadata": {},
   "outputs": [],
   "source": [
    "def cal_min_mean(df,w):\n",
    "    d={}\n",
    "    for i in w:\n",
    "        ds=df.Low.rolling(i).min()/df.Close.rolling(i).mean()\n",
    "        d[f'min_mean_{i}']=ds\n",
    "    return pd.concat(d,axis=1)"
   ]
  },
  {
   "cell_type": "code",
   "execution_count": null,
   "metadata": {},
   "outputs": [],
   "source": [
    "def cal_max_mean_volume(df,w):\n",
    "    d={}\n",
    "    for i in w:\n",
    "        ds=df.Volume.rolling(i).max()/df.Volume.rolling(i).mean()\n",
    "        d[f'max_mean_volume_{i}']=ds\n",
    "    return pd.concat(d,axis=1)"
   ]
  },
  {
   "cell_type": "code",
   "execution_count": null,
   "metadata": {},
   "outputs": [],
   "source": [
    "def cal_min_mean_volume(df,w):\n",
    "    d={}\n",
    "    for i in w:\n",
    "        ds=df.Volume.rolling(i).min()/df.Volume.rolling(i).mean()\n",
    "        d[f'min_mean_volume_{i}']=ds\n",
    "    return pd.concat(d,axis=1)"
   ]
  },
  {
   "cell_type": "code",
   "execution_count": null,
   "metadata": {},
   "outputs": [],
   "source": [
    "def cal_std(df,w):\n",
    "    d={}\n",
    "    for i in w:\n",
    "        ds=df.Close.rolling(i).std()\n",
    "        d[f'std_{i}']=ds\n",
    "    return pd.concat(d,axis=1)"
   ]
  },
  {
   "cell_type": "code",
   "execution_count": null,
   "metadata": {},
   "outputs": [],
   "source": [
    "#register functions in the list for batch processing\n",
    "factor_functions=[cal_close_avg,cal_bk_return,cal_high_low,cal_max_mean,cal_min_mean,cal_volume_avg,cal_max_mean_volume,cal_min_mean_volume,cal_std]"
   ]
  },
  {
   "cell_type": "code",
   "execution_count": null,
   "metadata": {},
   "outputs": [],
   "source": [
    "def generate_factors(df_panel,factor_functions,w):\n",
    "    l=[]\n",
    "    for f in factor_functions:\n",
    "        factor = df_panel.groupby('Ticker').apply(f,w)\n",
    "        l.append(factor)\n",
    "    return pd.concat(l,axis=1)"
   ]
  },
  {
   "cell_type": "code",
   "execution_count": null,
   "metadata": {},
   "outputs": [],
   "source": [
    "factors = generate_factors(df_panel,factor_functions,[2,5,10])"
   ]
  },
  {
   "cell_type": "code",
   "execution_count": null,
   "metadata": {},
   "outputs": [],
   "source": [
    "factors"
   ]
  },
  {
   "cell_type": "code",
   "execution_count": null,
   "metadata": {},
   "outputs": [],
   "source": [
    "fwd_return_rank = fwd_return.groupby('Open Time').apply(pd.DataFrame.rank)\n",
    "fwd_return_rank"
   ]
  },
  {
   "cell_type": "code",
   "execution_count": null,
   "metadata": {},
   "outputs": [],
   "source": []
  }
 ],
 "metadata": {
  "kernelspec": {
   "display_name": "trading_lab",
   "language": "python",
   "name": "trading_lab"
  },
  "language_info": {
   "codemirror_mode": {
    "name": "ipython",
    "version": 3
   },
   "file_extension": ".py",
   "mimetype": "text/x-python",
   "name": "python",
   "nbconvert_exporter": "python",
   "pygments_lexer": "ipython3",
   "version": "3.8.5"
  }
 },
 "nbformat": 4,
 "nbformat_minor": 4
}
