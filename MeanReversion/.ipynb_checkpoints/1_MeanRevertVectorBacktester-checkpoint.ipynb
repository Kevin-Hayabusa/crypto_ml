{
 "cells": [
  {
   "cell_type": "markdown",
   "id": "378f696c",
   "metadata": {},
   "source": [
    "### ------------------ Module 1: MeanRevertVectorBacktester ------------------"
   ]
  },
  {
   "cell_type": "markdown",
   "id": "96e662fd",
   "metadata": {},
   "source": [
    "- What: Mean revertion algo\n",
    "- Who : Code from Kevin.\n",
    "- When: 16 August 2022 \n",
    "- A few additions to compute sharpe and maxdd"
   ]
  },
  {
   "cell_type": "markdown",
   "id": "2129a23d",
   "metadata": {},
   "source": [
    "$\\color{red}{\\text{Define Parameters:}}$"
   ]
  },
  {
   "cell_type": "code",
   "execution_count": 128,
   "id": "f7c2d9cf",
   "metadata": {},
   "outputs": [
    {
     "name": "stdout",
     "output_type": "stream",
     "text": [
      "* Path to data: ../Modules/Data/\n",
      "* File type   : feather\n",
      "* File name   : BTCUSDT_1MINUTE_2Y\n"
     ]
    }
   ],
   "source": [
    "# Path to previously collected data\n",
    "path = '../Modules/Data/'\n",
    "type = 'feather'\n",
    "symbol = 'BTCUSDT_1MINUTE_2Y'\n",
    "\n",
    "print('* Path to data:', path)\n",
    "print('* File type   :', type)\n",
    "print('* File name   :', symbol)"
   ]
  },
  {
   "cell_type": "markdown",
   "id": "873f201d",
   "metadata": {},
   "source": [
    "#### 1. Load some key libaries"
   ]
  },
  {
   "cell_type": "code",
   "execution_count": 1,
   "id": "895d2e2d",
   "metadata": {},
   "outputs": [
    {
     "name": "stdout",
     "output_type": "stream",
     "text": [
      "Executed successfully. Tue 16 Aug @ 09:14:51\n",
      "\n"
     ]
    }
   ],
   "source": [
    "import os\n",
    "import numpy as np\n",
    "import pandas as pd\n",
    "import matplotlib.pyplot as plt\n",
    "from datetime import  date,datetime\n",
    "\n",
    "# Little function to keep track of code execution.\n",
    "def Keep_Track():\n",
    "    print(\"Executed successfully. \" + datetime.now().strftime(\"%a %d %b @ %H:%M:%S\") + \"\\n\")\n",
    "    \n",
    "Keep_Track()"
   ]
  },
  {
   "cell_type": "markdown",
   "id": "0174c478",
   "metadata": {},
   "source": [
    "#### 2. Define the class"
   ]
  },
  {
   "cell_type": "code",
   "execution_count": 2,
   "id": "7140d2c2",
   "metadata": {},
   "outputs": [
    {
     "name": "stdout",
     "output_type": "stream",
     "text": [
      "* Class created.\n",
      "\n",
      "Executed successfully. Tue 16 Aug @ 09:14:57\n",
      "\n"
     ]
    }
   ],
   "source": [
    "class SingleVectorBT():\n",
    "    '''\n",
    "    Class for basic meanrevert strategy in vectorized backtesting\n",
    "     Attributes\n",
    "        ==========\n",
    "        symbol: str\n",
    "           financial instrument to work with\n",
    "        start: str\n",
    "            start date for data selection\n",
    "        end: str\n",
    "            end date for data selection\n",
    "        tc: float\n",
    "            proportional transaction costs (e.g. 0.5% = 0.005) per trade\n",
    "        Methods\n",
    "        =======\n",
    "        get_data:\n",
    "            retrieves and prepares the base data set\n",
    "        run_strategy:\n",
    "            runs the backtest for the momentum-based strategy\n",
    "        plot_results:\n",
    "            plots the performance of the strategy compared to the symbol\n",
    "    '''\n",
    "\n",
    "    def __init__(self,symbol,start,end,tc):\n",
    "        self.symbol=symbol\n",
    "        self.start = start\n",
    "        self.end = end\n",
    "        self.tc = tc\n",
    "        self.results = None\n",
    "    \n",
    "    def get_data(self,path,type):\n",
    "        '''\n",
    "        :param path: file path for import\n",
    "        :param type: file type CSV or Feather\n",
    "        :return:dataframe with cleaned data\n",
    "        '''\n",
    "        if type=='feather':\n",
    "            df = pd.read_feather(os.path.join(path, f'{self.symbol}.{type}'))\n",
    "            df = df.set_index('Open Time')\n",
    "        elif type =='csv':\n",
    "            df = pd.read_csv(os.path.join(path, f'{self.symbol}.{type}'))\n",
    "            df = df.set_index('Open Time')\n",
    "        else:\n",
    "            print('type not supported')\n",
    "        \n",
    "        self.data = df.loc[self.start:self.end]\n",
    "    \n",
    "    def run_strategy(self):\n",
    "        pass\n",
    "    \n",
    "    def plot_results(self):\n",
    "        if self.results is None:\n",
    "            print('No results to plot yet. Run a strategy')\n",
    "        title='%s | TC = %.4f' % (self.symbol, self.tc)\n",
    "        self.results[['cum_returns', 'cum_strategy']].plot(title=title,\n",
    "                                                     figsize=(10, 6))\n",
    "        plt.show()\n",
    "    \n",
    "    def calculate_perf(self):\n",
    "        def calc_drawdown(cum_rets):\n",
    "            # Calculate the running maximum\n",
    "            running_max = np.maximum.accumulate(cum_rets.dropna())\n",
    "\n",
    "            # Ensure the value never drops below 1\n",
    "            running_max[running_max < 1] = 1\n",
    "\n",
    "            # Calculate the percentage drawdown\n",
    "            drawdown = (cum_rets) / running_max - 1\n",
    "            return drawdown\n",
    "        \n",
    "        daily_return =self.results['strategy'].resample('D').agg(lambda x: (x + 1).prod() - 1)\n",
    "        cum_return = (1+daily_return).cumprod()\n",
    "        if np.std(daily_return) == 0:\n",
    "            self.sharpe = 0\n",
    "        else:\n",
    "            self.sharpe = np.mean(daily_return) / np.std(daily_return) * (252 ** 0.5)\n",
    "        drawdown = calc_drawdown(cum_return)\n",
    "        self.max_dd = drawdown.min()\n",
    "\n",
    "class SingleVectorBT_MR(SingleVectorBT):\n",
    "    \n",
    "    def run_strategy(self,lookback,threshold):\n",
    "        '''\n",
    "        :param lookback:lookback period for the strategy\n",
    "        :param threshold:threshold for entry and exit\n",
    "        :return: strategy return\n",
    "        '''\n",
    "        self.lookback=lookback\n",
    "        self.threshold=threshold\n",
    "        print(f'Running strategy: lookback = {lookback},threshold = {threshold},tc = {self.tc}')\n",
    "        data=self.data.copy().dropna()\n",
    "        data['Mean'] = data.Close.rolling(self.lookback).mean()\n",
    "        data['Std'] = data.Close.rolling(self.lookback).std(ddof=0)\n",
    "        data['Zscore'] = (data.Close - data.Mean) / data.Std\n",
    "        data = data.dropna()\n",
    "        data['return'] = data.Close.pct_change()\n",
    "\n",
    "        # sell signals\n",
    "        data['position'] = np.where(data['Zscore'] > self.threshold, -1, np.nan)\n",
    "        \n",
    "        # buy signals\n",
    "        data['position'] = np.where(data['Zscore'] < -self.threshold, 1, data.position)\n",
    "\n",
    "        # exit when revert to mean (close above / below mean => negative)\n",
    "        data['position'] = np.where(data['Zscore'] * data['Zscore'].shift(1) < 0, 0, data.position)\n",
    "        \n",
    "        data['position'] = data.position.ffill().fillna(0)\n",
    "        \n",
    "        # calculate strategy daily return\n",
    "        data['strategy'] = data['position'].shift(1) * data['return']\n",
    "\n",
    "        # substract transaction cost\n",
    "        trades = (data['position'].diff().fillna(0) != 0)\n",
    "        data.loc[trades, 'strategy'] -= tc\n",
    "\n",
    "        # calculate strategy returns\n",
    "        data['cum_returns'] = (1 + data['return']).cumprod()\n",
    "        data['cum_strategy'] = (1 + data['strategy']).cumprod()\n",
    "        \n",
    "        self.raw_return = data['cum_returns'].iloc[-1] - 1\n",
    "        self.total_return = data['cum_strategy'].iloc[-1] - 1\n",
    "        self.results=data\n",
    "        self.calculate_perf()\n",
    "        self.trade_summary()\n",
    "        print(f'raw return:{self.raw_return},total return:{self.total_return},sharpe:{self.sharpe},max_dd:{self.max_dd}')\n",
    "        return (self.total_return,self.sharpe,self.max_dd)\n",
    "#         return 0\n",
    "    \n",
    "\n",
    "\n",
    "    def trade_summary(self):\n",
    "        self.results.loc[self.results.position!=0,'sign']=1\n",
    "        self.results['trades']=self.results.sign.shift(1)*self.results.strategy\n",
    "        events = np.split(self.results.trades, np.where(np.isnan(self.results.trades.values))[0])\n",
    "        events = [ev[~np.isnan(ev.values)] for ev in events if not isinstance(ev, np.ndarray)]\n",
    "        # removing empty DataFrames\n",
    "        events = [ev for ev in events if not ev.empty]\n",
    "        d={}\n",
    "        for e in events:\n",
    "            if len(e)==1: #special case of 1 trade\n",
    "                d[e.index[0]]=e[0]\n",
    "            else:\n",
    "                cum = (1+e).cumprod() #cum returns\n",
    "                d[e.index[0]]=cum[-1]/cum[0]-1\n",
    "        trades = pd.DataFrame.from_dict(d,orient='index')\n",
    "        trades.columns=['trade_return']\n",
    "        self.results.loc[trades.index,'trade_return']=trades.values\n",
    "        self.results['trade_return_lag'] = self.results['trade_return'].shift(-1)\n",
    "        self.results['Performance'] = self.results.sign * self.results.trade_return_lag.ffill()\n",
    "        self.results['Performance'] = self.results['Performance'].shift(1)\n",
    "        self.results['Performance'] = self.results.Performance.fillna(0)\n",
    "\n",
    "    def plot_result(self):\n",
    "        self.results=self.data.dropna()\n",
    "        if self.results is None:\n",
    "            print('No results to plot yet. Run a strategy')\n",
    "        title='%s | FTC = %.4f,PTC = %.4f'% (self.symbol, self.ftc,self.ptc)\n",
    "        plot = self.results[['cum_returns', 'cum_strategy']].plot(title=title,\n",
    "                                                     figsize=(10, 6))\n",
    "        return plot\n",
    "\n",
    "print('* Class created.')  \n",
    "print('')\n",
    "Keep_Track()    "
   ]
  },
  {
   "cell_type": "markdown",
   "id": "6f205f87",
   "metadata": {},
   "source": [
    "#### 3. Usage"
   ]
  },
  {
   "cell_type": "code",
   "execution_count": 3,
   "id": "e1f17d8f",
   "metadata": {},
   "outputs": [
    {
     "name": "stdout",
     "output_type": "stream",
     "text": [
      "* Creating class\n",
      "* Collecting data\n",
      "* Running strategy\n",
      "Running strategy: lookback = 50,threshold = 2.5,tc = 0\n",
      "raw return:1.0642585628870536,total return:73.51998129800498,sharpe:3.7651350749728287,max_dd:-0.2650560559730234\n",
      "\n",
      "Executed successfully. Tue 16 Aug @ 09:17:16\n",
      "\n"
     ]
    }
   ],
   "source": [
    "# Define start and end dates for the algo run.\n",
    "start = '2020-08-01'\n",
    "end = '2022-08-01'\n",
    "# start = '2021-01-01'\n",
    "# end = '2022-05-01'\n",
    "# start = '2021-01-01'\n",
    "# end = '2021-02-01'\n",
    "lookback = 50\n",
    "threshold = 2.5\n",
    "tc=0\n",
    "\n",
    "print('* Creating class')\n",
    "mrbt = SingleVectorBT_MR(symbol,start,end,tc)\n",
    "\n",
    "print('* Collecting data')\n",
    "mrbt.get_data(path,type)\n",
    "\n",
    "print('* Running strategy')\n",
    "mrbt.run_strategy(lookback,threshold)\n",
    "\n",
    "print('')\n",
    "Keep_Track()"
   ]
  },
  {
   "cell_type": "markdown",
   "id": "4d33165b",
   "metadata": {},
   "source": [
    "3.1 Take a look at the results or save the data"
   ]
  },
  {
   "cell_type": "code",
   "execution_count": 6,
   "id": "38941510",
   "metadata": {},
   "outputs": [],
   "source": [
    "# mrbt.plot_results()\n",
    "# mrbt.results.reset_index().to_feather('backtesting_vt_Bostock_2Y.feather')\n",
    "# mrbt.results"
   ]
  },
  {
   "cell_type": "markdown",
   "id": "03336758",
   "metadata": {},
   "source": [
    "#### 4. Further analysis"
   ]
  },
  {
   "cell_type": "markdown",
   "id": "373c2d1e",
   "metadata": {},
   "source": [
    "4.1 Define a few useful functions to assist in calculating drawdown etc"
   ]
  },
  {
   "cell_type": "code",
   "execution_count": 148,
   "id": "3797b9cd",
   "metadata": {},
   "outputs": [
    {
     "name": "stdout",
     "output_type": "stream",
     "text": [
      "Executed successfully. Wed 17 Aug @ 13:51:19\n",
      "\n"
     ]
    }
   ],
   "source": [
    "# Shift function - needed to pick up all return data for drawdown calculations.\n",
    "# Example\n",
    "# a = np.array([0,0,0,1,1,1,0,0,0,1,1,0,0])\n",
    "# shift(a,1) adds an extra one to the end of each group\n",
    "# [0,0,0,1,1,1,1,0,0,1,1,1,0]\n",
    "def shift(xs, n):\n",
    "    e = np.empty_like(xs)\n",
    "    if n >= 0:\n",
    "        e[:n] = 0\n",
    "        e[n:] = xs[:-n]\n",
    "    return ((e==1) | (xs==1))*1\n",
    "\n",
    "# This function allows us to cherry pick algo runs (say those predicted by a model as good)\n",
    "# Using the example above we have 2 runs\n",
    "# so define Blocks = [1,1] includes them all.  Blocks = [0,1] will only pick up the second one.\n",
    "# Get_Algo_Runs(a, [0,1]) = [0,0,0,0,0,0,0,0,0,1,1,0,0]\n",
    "# Note this adds an extra one using the shift function.\n",
    "def Get_Algo_Runs(All_Runs, Blocks):\n",
    "\n",
    "    Started = False\n",
    "    Skipping = False\n",
    "    Block_Counter = 0\n",
    "    \n",
    "    # Collect model results\n",
    "    Model_Run = np.empty(0)\n",
    "    print('*', len(All_Runs))\n",
    "    for indx,i in enumerate(All_Runs):\n",
    "        if indx%100000 == 0:\n",
    "            print(indx)\n",
    "        # The start of a trade and it is a trade we are keeping\n",
    "        if i == 1 and Blocks[Block_Counter] == 1:\n",
    "            Started = True\n",
    "\n",
    "        # The start of a trade we are ignoring\n",
    "        if i == 1 and Blocks[Block_Counter] == 0:\n",
    "            Skipping = True\n",
    "\n",
    "        # We are skipping and the trade has finished    \n",
    "        if i == 0 and Skipping:\n",
    "            Skipping = False\n",
    "            Block_Counter = Block_Counter+1\n",
    "        \n",
    "        # We have started and the trade has ended.\n",
    "        if i == 0 and Started:\n",
    "            Started = False\n",
    "            Block_Counter = Block_Counter+1     \n",
    "\n",
    "        if Started:\n",
    "            Model_Run = np.append(Model_Run,1)\n",
    "        else:\n",
    "            Model_Run = np.append(Model_Run,0)\n",
    "        \n",
    "    return shift(Model_Run,1)\n",
    "\n",
    "Keep_Track()"
   ]
  },
  {
   "cell_type": "code",
   "execution_count": 18,
   "id": "fb10c261",
   "metadata": {},
   "outputs": [
    {
     "data": {
      "text/plain": [
       "array([1, 1, 0, 0, 0, 0, 0, 0, 0, 1, 1, 1, 1, 1, 0])"
      ]
     },
     "execution_count": 18,
     "metadata": {},
     "output_type": "execute_result"
    }
   ],
   "source": [
    "# Example\n",
    "a = np.array([1,0,0,1,1,1,0,0,0,1,1,1,1,0,0])\n",
    "Get_Algo_Runs(a, [1,0,1,0])"
   ]
  },
  {
   "cell_type": "markdown",
   "id": "cae8a913",
   "metadata": {},
   "source": [
    "Function to calculate drawdown and sharpe ratio using selected runs"
   ]
  },
  {
   "cell_type": "code",
   "execution_count": 139,
   "id": "98558b4a",
   "metadata": {},
   "outputs": [
    {
     "name": "stdout",
     "output_type": "stream",
     "text": [
      "Executed successfully. Wed 17 Aug @ 13:28:47\n",
      "\n"
     ]
    }
   ],
   "source": [
    "def calculate_perf(mid, end, Threshold):\n",
    "    \n",
    "    # Define the drawdown function.\n",
    "    def calc_drawdown(cum_rets):\n",
    "        # Calculate the running maximum\n",
    "        running_max = np.maximum.accumulate(cum_rets.dropna())\n",
    "\n",
    "        # Ensure the value never drops below 1\n",
    "        running_max[running_max < 1] = 1\n",
    "\n",
    "        # Calculate the percentage drawdown\n",
    "        drawdown = (cum_rets) / running_max - 1\n",
    "        return drawdown\n",
    "    \n",
    "    # Create a copy of the results for testing.\n",
    "    Bostock_Temp = mrbt.results.copy()\n",
    "    \n",
    "    Bostock_Temp = Bostock_Temp.reset_index()\n",
    "    \n",
    "    # Keep only the data in the specified range.\n",
    "    Bostock_Temp = Bostock_Temp[(Bostock_Temp['Open Time'] >= mid)  & (Bostock_Temp['Open Time'] < end)]\n",
    "    \n",
    "#     print(len(Bostock_Temp))\n",
    "    \n",
    "    Bostock_Temp = Bostock_Temp.set_index('Open Time')\n",
    "    \n",
    "    # Define an indicator (i.e. the block defintion to decide which trades to keep.)\n",
    "    # The dropna keeps only the single trade return result for each run.\n",
    "    Indicator = ((Bostock_Temp['trade_return'].dropna() > Threshold)*1).values\n",
    "    \n",
    "#     Indicator = Ind\n",
    "    \n",
    "#     print(len(Indicator))\n",
    "\n",
    "    # The earliest date in the split that starts a position.\n",
    "    # The idea is to capture where we have created a split in the data mid trade.\n",
    "    Earliest_Date = np.min((Bostock_Temp['trade_return_lag'].reset_index().dropna())['Open Time'])\n",
    "\n",
    "    # Set all positions prior to this to first date to zero \n",
    "    Bostock_Temp.loc['2001-06-01':Earliest_Date,  'position'] = 0 \n",
    "    Bostock_Temp.loc['2001-06-01':Earliest_Date,  'strategy'] = 0\n",
    "\n",
    "    # Extract all possible runs\n",
    "    # So this looks like [0,0,0,0,1,1,1,1,0,0,0, etc]\n",
    "    All_Runs = ((~(Bostock_Temp['position'] == 0))*1).values\n",
    "\n",
    "    # Calculate the Indicator run.\n",
    "    # This creates a copy of the position indicator but with selected runs only.\n",
    "    print('here')\n",
    "    Bostock_Temp['Indicator_Run'] = Get_Algo_Runs(All_Runs, Indicator)  \n",
    "    print('here2')\n",
    "    ####    \n",
    "\n",
    "    # Resample to calculate daily returns\n",
    "#     daily_return_All = (Bostock_Temp['strategy'] * (Bostock_Temp['Performance'] > Threshold)).resample('D').agg(lambda x: (x + 1).prod() - 1)\n",
    "\n",
    "#     Bostock_Temp['Use_Performance'] = (Bostock_Temp['strategy'] * (Bostock_Temp['Performance'] > Threshold))\n",
    "    \n",
    "    # Resample to calculate daily returns\n",
    "    daily_return_All = (Bostock_Temp['strategy'] * (Bostock_Temp['Indicator_Run'])).resample('D').agg(lambda x: (x + 1).prod() - 1)\n",
    "\n",
    "    # Use as is (useful for testing)\n",
    "#     daily_return_All = Bostock_Temp['strategy'] * Bostock_Temp['Indicator_Run']\n",
    "\n",
    "#     Bostock_Temp['Use_Indicator'] = (Bostock_Temp['strategy'] * (Bostock_Temp['Indicator_Run']))\n",
    "    \n",
    "#     print((Bostock_Temp['strategy'] * (Bostock_Temp['Performance'] > Threshold)).tail(50))\n",
    "    \n",
    "    # Calculate cum returns\n",
    "    cum_return = (1+daily_return_All).cumprod()\n",
    "\n",
    "    drawdown = calc_drawdown(cum_return)\n",
    "    \n",
    "    if np.std(daily_return_All) == 0:\n",
    "        sharpe = 0\n",
    "    else:\n",
    "        sharpe = np.mean(daily_return_All) / np.std(daily_return_All) * (252 ** 0.5)\n",
    "       \n",
    "    \n",
    "    return drawdown.min(), sharpe\n",
    "#     return Bostock_Temp\n",
    "\n",
    "Keep_Track()\n"
   ]
  },
  {
   "cell_type": "markdown",
   "id": "eb7e5e9c",
   "metadata": {},
   "source": [
    "$\\color{blue}{\\text{Testing only}}$"
   ]
  },
  {
   "cell_type": "code",
   "execution_count": 86,
   "id": "a741a8c9",
   "metadata": {},
   "outputs": [],
   "source": [
    "# Example\n",
    "# a,b = calculate_perf('2022-02-01','2022-05-01', 0.0015)\n",
    "# a"
   ]
  },
  {
   "cell_type": "code",
   "execution_count": 85,
   "id": "7c4f197d",
   "metadata": {},
   "outputs": [
    {
     "data": {
      "text/plain": [
       "-0.15711499963802034"
      ]
     },
     "execution_count": 85,
     "metadata": {},
     "output_type": "execute_result"
    }
   ],
   "source": [
    "a"
   ]
  },
  {
   "cell_type": "code",
   "execution_count": 50,
   "id": "eaa66b51",
   "metadata": {},
   "outputs": [
    {
     "data": {
      "text/plain": [
       "521"
      ]
     },
     "execution_count": 50,
     "metadata": {},
     "output_type": "execute_result"
    }
   ],
   "source": [
    "# Example of a model run for testing (output from module 2): testing only\n",
    "Ind = np.load('ModelOutput.npy')\n",
    "np.sum(Ind)"
   ]
  },
  {
   "cell_type": "markdown",
   "id": "10711287",
   "metadata": {},
   "source": [
    "#### 5. Save the data (possibly for testing)"
   ]
  },
  {
   "cell_type": "code",
   "execution_count": 84,
   "id": "09cb39df",
   "metadata": {},
   "outputs": [
    {
     "name": "stdout",
     "output_type": "stream",
     "text": [
      "* Saving file to cumtest.csv\n",
      "\n",
      "Executed successfully. Tue 16 Aug @ 13:53:13\n",
      "\n"
     ]
    }
   ],
   "source": [
    "SaveFile = 'cumtest.csv'\n",
    "print('* Saving file to', SaveFile)\n",
    "b.to_csv(SaveFile, index=False)\n",
    "print('')\n",
    "Keep_Track()"
   ]
  },
  {
   "cell_type": "markdown",
   "id": "6cf3f02f",
   "metadata": {},
   "source": [
    "#### 6 Analysis"
   ]
  },
  {
   "cell_type": "markdown",
   "id": "06d7c037",
   "metadata": {},
   "source": [
    "Look at some distributions over a range of look back and thresholds"
   ]
  },
  {
   "cell_type": "code",
   "execution_count": 97,
   "id": "35350815",
   "metadata": {},
   "outputs": [
    {
     "name": "stdout",
     "output_type": "stream",
     "text": [
      "* Running strategy 10 : 1.5\n",
      "Running strategy: lookback = 10,threshold = 1.5,tc = 0\n",
      "raw return:1.0486854703016233,total return:4239.143496613693,sharpe:6.1491199200345,max_dd:-0.3092627698703857\n",
      "* Running strategy 10 : 2.5\n",
      "Running strategy: lookback = 10,threshold = 2.5,tc = 0\n",
      "raw return:1.0486854703016233,total return:1.855995469234435,sharpe:1.6537861519679358,max_dd:-0.32785605385574956\n",
      "* Running strategy 10 : 3.5\n",
      "Running strategy: lookback = 10,threshold = 3.5,tc = 0\n",
      "raw return:1.0486854703016233,total return:-0.004219594695784257,sharpe:-0.5875418959121735,max_dd:-0.004219594695784257\n",
      "* Running strategy 30 : 1.5\n",
      "Running strategy: lookback = 30,threshold = 1.5,tc = 0\n",
      "raw return:1.0660960241389814,total return:243.42939201266353,sharpe:4.16126610981309,max_dd:-0.5234644683121428\n",
      "* Running strategy 30 : 2.5\n",
      "Running strategy: lookback = 30,threshold = 2.5,tc = 0\n",
      "raw return:1.0660960241389814,total return:46.83844020220068,sharpe:3.4662034242479844,max_dd:-0.40286572473165505\n",
      "* Running strategy 30 : 3.5\n",
      "Running strategy: lookback = 30,threshold = 3.5,tc = 0\n",
      "raw return:1.0660960241389814,total return:0.33551630334673455,sharpe:0.5806100267611194,max_dd:-0.3306251187949928\n",
      "* Running strategy 50 : 1.5\n",
      "Running strategy: lookback = 50,threshold = 1.5,tc = 0\n",
      "raw return:1.0642585628870536,total return:33.46715957352638,sharpe:2.74102711260355,max_dd:-0.6027684267425872\n",
      "* Running strategy 50 : 2.5\n",
      "Running strategy: lookback = 50,threshold = 2.5,tc = 0\n",
      "raw return:1.0642585628870536,total return:73.51998129800498,sharpe:3.7651350749728287,max_dd:-0.2650560559730234\n",
      "* Running strategy 50 : 3.5\n",
      "Running strategy: lookback = 50,threshold = 3.5,tc = 0\n",
      "raw return:1.0642585628870536,total return:2.042364269252294,sharpe:1.4970555845699638,max_dd:-0.2830533228801685\n"
     ]
    }
   ],
   "source": [
    "# path = '../Modules/Data/'\n",
    "# type = 'feather'\n",
    "# symbol = 'BTCUSDT_1MINUTE_2Y'\n",
    "start = '2020-08-01'\n",
    "end = '2022-08-01'\n",
    "\n",
    "lookback = 50\n",
    "threshold = 2.5\n",
    "tc=0\n",
    "\n",
    "\n",
    "# Create the class\n",
    "mrbt = SingleVectorBT_MR(symbol,start,end,tc)\n",
    "\n",
    "# collect the data\n",
    "mrbt.get_data(path,type)\n",
    "\n",
    "dict_arrays = {}\n",
    "\n",
    "# run the strategy\n",
    "for lookback in [10,30,50]:\n",
    "    for threshold in [1.5,2.5,3.5]:\n",
    "        print('* Running strategy', lookback,':',threshold)\n",
    "        mrbt.run_strategy(lookback,threshold)\n",
    "        Name='data_plot_'+str(lookback)+str(threshold*10)\n",
    "        dict_arrays[Name]=mrbt.results.reset_index()"
   ]
  },
  {
   "cell_type": "code",
   "execution_count": 127,
   "id": "2aa64b47",
   "metadata": {},
   "outputs": [
    {
     "data": {
      "image/png": "[encoded data removed]",
      "text/plain": [
       "<Figure size 1332x1116 with 5 Axes>"
      ]
     },
     "metadata": {
      "needs_background": "light"
     },
     "output_type": "display_data"
    }
   ],
   "source": [
    "# Setup the bins and min/max of plot.\n",
    "max_range = 0.02\n",
    "min_range = -0.02\n",
    "\n",
    "# setting up the axes\n",
    "fig, axs = plt.subplots(5, 1, sharey='all', sharex='all')\n",
    "fig.set_size_inches(18.5, 15.5)\n",
    "\n",
    "# Create the plot\n",
    "axs[0].set_title('1min Frequency, Capital Return % All data')\n",
    "axs[0].set_ylabel('Density')\n",
    "axs[0].set_xlabel('Cap Ret %')\n",
    "axs[0].hist(dict_arrays['data_plot_3035.0'][~dict_arrays['data_plot_3035.0']['trade_return'].isna()][['trade_return']], 150, alpha = 0.4, density=True, color = \"green\", ec = 'black', lw = 1, label = 'LB/TH : 30/3.5')\n",
    "axs[0].axvline(x=0, c='black', lw = 0.4)\n",
    "axs[0].axvline(x=np.mean(dict_arrays['data_plot_3035.0'][~dict_arrays['data_plot_3035.0']['trade_return'].isna()]['trade_return']), c='green', lw = 1)\n",
    "axs[1].hist(dict_arrays['data_plot_3025.0'][~dict_arrays['data_plot_3025.0']['trade_return'].isna()][['trade_return']], 150, alpha = 0.4, density=True, color = \"red\", ec = 'black', lw = 1, label = 'LB/TH : 30/2.5')\n",
    "axs[1].axvline(x=0, c='black', lw = 0.4)\n",
    "axs[1].axvline(x=np.mean(dict_arrays['data_plot_3025.0'][~dict_arrays['data_plot_3025.0']['trade_return'].isna()]['trade_return']), c='red', lw = 0.4)\n",
    "axs[2].hist(dict_arrays['data_plot_3015.0'][~dict_arrays['data_plot_3015.0']['trade_return'].isna()][['trade_return']], 150, alpha = 0.4, density=True, color = \"blue\", ec = 'black', lw = 1, label = 'LB/TH : 30/1.5')\n",
    "axs[2].axvline(x=0, c='black', lw = 0.4)\n",
    "axs[2].axvline(x=np.mean(dict_arrays['data_plot_3015.0'][~dict_arrays['data_plot_3015.0']['trade_return'].isna()]['trade_return']), c='blue', lw = 0.4)\n",
    "axs[3].hist(dict_arrays['data_plot_1025.0'][~dict_arrays['data_plot_1025.0']['trade_return'].isna()][['trade_return']], 150, alpha = 0.4, density=True, color = \"white\", ec = 'black', lw = 1, label = 'LB/TH : 10/2.5')\n",
    "axs[3].axvline(x=0, c='black', lw = 0.4)\n",
    "axs[3].axvline(x=np.mean(dict_arrays['data_plot_1025.0'][~dict_arrays['data_plot_1025.0']['trade_return'].isna()]['trade_return']), c='black', lw = 0.4)\n",
    "axs[4].hist(dict_arrays['data_plot_5025.0'][~dict_arrays['data_plot_5025.0']['trade_return'].isna()][['trade_return']], 150, alpha = 0.4, density=True, color = \"grey\", ec = 'black', lw = 1, label = 'LB/TH : 50/2.5')\n",
    "axs[4].axvline(x=0, c='black', lw = 0.4)\n",
    "axs[4].axvline(x=np.mean(dict_arrays['data_plot_5025.0'][~dict_arrays['data_plot_5025.0']['trade_return'].isna()]['trade_return']), c='black', lw = 0.4)\n",
    "\n",
    "axs[0].legend(loc='upper right')\n",
    "axs[1].legend(loc='upper right')\n",
    "axs[2].legend(loc='upper right')\n",
    "axs[3].legend(loc='upper right')\n",
    "axs[4].legend(loc='upper right')\n",
    "axs[0].set_xlim([min_range,max_range]) \n",
    "\n",
    "plt.show()"
   ]
  },
  {
   "cell_type": "markdown",
   "id": "0b39db3c",
   "metadata": {},
   "source": [
    "Analysis to look at wining trades, mean return and metrics for various thresholds / lookbacks"
   ]
  },
  {
   "cell_type": "code",
   "execution_count": 151,
   "id": "43422bc1",
   "metadata": {},
   "outputs": [
    {
     "name": "stdout",
     "output_type": "stream",
     "text": [
      "* Running strategy 30 : 0.5\n",
      "Running strategy: lookback = 30,threshold = 0.5,tc = 0\n",
      "raw return:1.0660960241389814,total return:369.96946105474404,sharpe:4.099706998875137,max_dd:-0.600871011521375\n",
      "* Running strategy 30 : 0.6\n",
      "Running strategy: lookback = 30,threshold = 0.6,tc = 0\n",
      "raw return:1.0660960241389814,total return:324.48452848838605,sharpe:4.030089422859549,max_dd:-0.6020100697281493\n",
      "* Running strategy 30 : 0.7\n",
      "Running strategy: lookback = 30,threshold = 0.7,tc = 0\n",
      "raw return:1.0660960241389814,total return:285.2844006083837,sharpe:4.009871385418963,max_dd:-0.5917922902450168\n",
      "* Running strategy 30 : 0.7999999999999999\n",
      "Running strategy: lookback = 30,threshold = 0.7999999999999999,tc = 0\n",
      "raw return:1.0660960241389814,total return:219.59062726928244,sharpe:3.8740488832914473,max_dd:-0.5865152889716887\n",
      "* Running strategy 30 : 0.8999999999999999\n",
      "Running strategy: lookback = 30,threshold = 0.8999999999999999,tc = 0\n",
      "raw return:1.0660960241389814,total return:215.91394218486752,sharpe:3.882093233597735,max_dd:-0.5923825267701934\n",
      "* Running strategy 30 : 0.9999999999999999\n",
      "Running strategy: lookback = 30,threshold = 0.9999999999999999,tc = 0\n",
      "raw return:1.0660960241389814,total return:195.21985793279103,sharpe:3.817307275971256,max_dd:-0.6286420823087364\n",
      "* Running strategy 30 : 1.0999999999999999\n",
      "Running strategy: lookback = 30,threshold = 1.0999999999999999,tc = 0\n",
      "raw return:1.0660960241389814,total return:191.26044749658217,sharpe:3.870629244722104,max_dd:-0.6273287170575363\n",
      "* Running strategy 30 : 1.1999999999999997\n",
      "Running strategy: lookback = 30,threshold = 1.1999999999999997,tc = 0\n",
      "raw return:1.0660960241389814,total return:185.68016449160018,sharpe:3.8981540289343015,max_dd:-0.5952093193327775\n",
      "* Running strategy 30 : 1.2999999999999998\n",
      "Running strategy: lookback = 30,threshold = 1.2999999999999998,tc = 0\n",
      "raw return:1.0660960241389814,total return:182.62068762146959,sharpe:3.8999966491147218,max_dd:-0.5884637422400685\n",
      "* Running strategy 30 : 1.4\n",
      "Running strategy: lookback = 30,threshold = 1.4,tc = 0\n",
      "raw return:1.0660960241389814,total return:223.29592958005392,sharpe:4.081323467435989,max_dd:-0.5460862797681516\n",
      "* Running strategy 30 : 1.4999999999999998\n",
      "Running strategy: lookback = 30,threshold = 1.4999999999999998,tc = 0\n",
      "raw return:1.0660960241389814,total return:243.42939201266353,sharpe:4.16126610981309,max_dd:-0.5234644683121428\n",
      "* Running strategy 30 : 1.5999999999999996\n",
      "Running strategy: lookback = 30,threshold = 1.5999999999999996,tc = 0\n",
      "raw return:1.0660960241389814,total return:278.0233648747645,sharpe:4.294591361937491,max_dd:-0.5210173595013936\n",
      "* Running strategy 30 : 1.6999999999999997\n",
      "Running strategy: lookback = 30,threshold = 1.6999999999999997,tc = 0\n",
      "raw return:1.0660960241389814,total return:401.2281501471476,sharpe:4.524022661845473,max_dd:-0.4913693378546774\n",
      "* Running strategy 30 : 1.7999999999999998\n",
      "Running strategy: lookback = 30,threshold = 1.7999999999999998,tc = 0\n",
      "raw return:1.0660960241389814,total return:423.00645673543596,sharpe:4.652221659846938,max_dd:-0.4887491434641077\n",
      "* Running strategy 30 : 1.8999999999999997\n",
      "Running strategy: lookback = 30,threshold = 1.8999999999999997,tc = 0\n",
      "raw return:1.0660960241389814,total return:408.60790191161516,sharpe:4.699664468262036,max_dd:-0.46091010037582725\n",
      "* Running strategy 30 : 1.9999999999999996\n",
      "Running strategy: lookback = 30,threshold = 1.9999999999999996,tc = 0\n",
      "raw return:1.0660960241389814,total return:338.26972604345053,sharpe:4.699768583206073,max_dd:-0.42657120138721527\n",
      "* Running strategy 30 : 2.0999999999999996\n",
      "Running strategy: lookback = 30,threshold = 2.0999999999999996,tc = 0\n",
      "raw return:1.0660960241389814,total return:348.4112536660079,sharpe:4.843450647518912,max_dd:-0.4331028068990166\n",
      "* Running strategy 30 : 2.1999999999999997\n",
      "Running strategy: lookback = 30,threshold = 2.1999999999999997,tc = 0\n",
      "raw return:1.0660960241389814,total return:250.40798616551564,sharpe:4.621796889890824,max_dd:-0.4761685191455566\n",
      "* Running strategy 30 : 2.3\n",
      "Running strategy: lookback = 30,threshold = 2.3,tc = 0\n",
      "raw return:1.0660960241389814,total return:163.27261805407446,sharpe:4.272910540336736,max_dd:-0.4644726352947085\n",
      "* Running strategy 30 : 2.3999999999999995\n",
      "Running strategy: lookback = 30,threshold = 2.3999999999999995,tc = 0\n",
      "raw return:1.0660960241389814,total return:89.56982178331776,sharpe:3.9714402650662888,max_dd:-0.41724268696550715\n",
      "* Running strategy 30 : 2.4999999999999996\n",
      "Running strategy: lookback = 30,threshold = 2.4999999999999996,tc = 0\n",
      "raw return:1.0660960241389814,total return:46.83844020220068,sharpe:3.4662034242479844,max_dd:-0.40286572473165505\n",
      "* Running strategy 30 : 2.5999999999999996\n",
      "Running strategy: lookback = 30,threshold = 2.5999999999999996,tc = 0\n",
      "raw return:1.0660960241389814,total return:31.837158592575634,sharpe:3.234013386435914,max_dd:-0.4372794922845069\n",
      "* Running strategy 30 : 2.6999999999999993\n",
      "Running strategy: lookback = 30,threshold = 2.6999999999999993,tc = 0\n",
      "raw return:1.0660960241389814,total return:26.1762776092578,sharpe:3.2550712006484024,max_dd:-0.24651402466644767\n",
      "* Running strategy 30 : 2.7999999999999994\n",
      "Running strategy: lookback = 30,threshold = 2.7999999999999994,tc = 0\n",
      "raw return:1.0660960241389814,total return:13.561929461093241,sharpe:2.7828292760967677,max_dd:-0.273446329810375\n",
      "* Running strategy 30 : 2.8999999999999995\n",
      "Running strategy: lookback = 30,threshold = 2.8999999999999995,tc = 0\n",
      "raw return:1.0660960241389814,total return:12.60631644061808,sharpe:2.888475894127448,max_dd:-0.2727764860559799\n",
      "* Running strategy 30 : 2.9999999999999996\n",
      "Running strategy: lookback = 30,threshold = 2.9999999999999996,tc = 0\n",
      "raw return:1.0660960241389814,total return:9.604259194186868,sharpe:2.7992226931663553,max_dd:-0.22483644363432376\n",
      "* Running strategy 30 : 3.0999999999999996\n",
      "Running strategy: lookback = 30,threshold = 3.0999999999999996,tc = 0\n",
      "raw return:1.0660960241389814,total return:4.919254641852702,sharpe:2.304600256298748,max_dd:-0.25320531847486083\n",
      "* Running strategy 30 : 3.1999999999999993\n",
      "Running strategy: lookback = 30,threshold = 3.1999999999999993,tc = 0\n",
      "raw return:1.0660960241389814,total return:2.5066708130933013,sharpe:1.7824517401061213,max_dd:-0.2965524710491758\n",
      "* Running strategy 30 : 3.2999999999999994\n",
      "Running strategy: lookback = 30,threshold = 3.2999999999999994,tc = 0\n",
      "raw return:1.0660960241389814,total return:1.2332917611190348,sharpe:1.241852925617291,max_dd:-0.3560617087528891\n",
      "* Running strategy 30 : 3.3999999999999995\n",
      "Running strategy: lookback = 30,threshold = 3.3999999999999995,tc = 0\n",
      "raw return:1.0660960241389814,total return:0.7269150455681608,sharpe:0.9252011140291423,max_dd:-0.27554968120146184\n",
      "* Running strategy 30 : 3.499999999999999\n",
      "Running strategy: lookback = 30,threshold = 3.499999999999999,tc = 0\n",
      "raw return:1.0660960241389814,total return:0.33551630334673455,sharpe:0.5806100267611194,max_dd:-0.3306251187949928\n",
      "* Running strategy 30 : 3.599999999999999\n",
      "Running strategy: lookback = 30,threshold = 3.599999999999999,tc = 0\n",
      "raw return:1.0660960241389814,total return:0.28505984151022123,sharpe:0.5488672206226909,max_dd:-0.31086600410336584\n",
      "* Running strategy 30 : 3.6999999999999993\n",
      "Running strategy: lookback = 30,threshold = 3.6999999999999993,tc = 0\n",
      "raw return:1.0660960241389814,total return:0.172473133572127,sharpe:0.4046740735289018,max_dd:-0.28497379035710446\n",
      "* Running strategy 30 : 3.7999999999999994\n",
      "Running strategy: lookback = 30,threshold = 3.7999999999999994,tc = 0\n",
      "raw return:1.0660960241389814,total return:-0.058413671434801806,sharpe:-0.039609632452652546,max_dd:-0.3587012778264802\n",
      "* Running strategy 30 : 3.8999999999999995\n",
      "Running strategy: lookback = 30,threshold = 3.8999999999999995,tc = 0\n",
      "raw return:1.0660960241389814,total return:-0.12386251115937885,sharpe:-0.20791334261097877,max_dd:-0.33947480245758277\n",
      "* Running strategy 30 : 3.999999999999999\n",
      "Running strategy: lookback = 30,threshold = 3.999999999999999,tc = 0\n",
      "raw return:1.0660960241389814,total return:-0.21174705249859183,sharpe:-0.4970652775641783,max_dd:-0.3764607487443241\n",
      "* Running strategy 30 : 4.1\n",
      "Running strategy: lookback = 30,threshold = 4.1,tc = 0\n",
      "raw return:1.0660960241389814,total return:-0.207404278401652,sharpe:-0.5113751999522392,max_dd:-0.3443590622619198\n"
     ]
    },
    {
     "name": "stdout",
     "output_type": "stream",
     "text": [
      "* Running strategy 50 : 0.5\n",
      "Running strategy: lookback = 50,threshold = 0.5,tc = 0\n",
      "raw return:1.0642585628870536,total return:67.39225777369458,sharpe:2.982829143241722,max_dd:-0.7713909285814973\n",
      "* Running strategy 50 : 0.6\n",
      "Running strategy: lookback = 50,threshold = 0.6,tc = 0\n",
      "raw return:1.0642585628870536,total return:49.75283667969422,sharpe:2.8439735751412205,max_dd:-0.7898717191345046\n",
      "* Running strategy 50 : 0.7\n",
      "Running strategy: lookback = 50,threshold = 0.7,tc = 0\n",
      "raw return:1.0642585628870536,total return:34.398920717957026,sharpe:2.631771413097803,max_dd:-0.7879732144803122\n",
      "* Running strategy 50 : 0.7999999999999999\n",
      "Running strategy: lookback = 50,threshold = 0.7999999999999999,tc = 0\n",
      "raw return:1.0642585628870536,total return:31.604318022861342,sharpe:2.5943814866321064,max_dd:-0.759498305908305\n",
      "* Running strategy 50 : 0.8999999999999999\n",
      "Running strategy: lookback = 50,threshold = 0.8999999999999999,tc = 0\n",
      "raw return:1.0642585628870536,total return:27.482671719019752,sharpe:2.5338615430042495,max_dd:-0.7418099939385637\n",
      "* Running strategy 50 : 0.9999999999999999\n",
      "Running strategy: lookback = 50,threshold = 0.9999999999999999,tc = 0\n",
      "raw return:1.0642585628870536,total return:24.46848593693913,sharpe:2.4718296707156227,max_dd:-0.7058780511711189\n",
      "* Running strategy 50 : 1.0999999999999999\n",
      "Running strategy: lookback = 50,threshold = 1.0999999999999999,tc = 0\n",
      "raw return:1.0642585628870536,total return:22.956194194979307,sharpe:2.4373137685486905,max_dd:-0.6812106783755412\n",
      "* Running strategy 50 : 1.1999999999999997\n",
      "Running strategy: lookback = 50,threshold = 1.1999999999999997,tc = 0\n",
      "raw return:1.0642585628870536,total return:17.760819665333862,sharpe:2.2572053699205794,max_dd:-0.6790724224435628\n",
      "* Running strategy 50 : 1.2999999999999998\n",
      "Running strategy: lookback = 50,threshold = 1.2999999999999998,tc = 0\n",
      "raw return:1.0642585628870536,total return:22.091436715967912,sharpe:2.406524956397977,max_dd:-0.6853962168840416\n",
      "* Running strategy 50 : 1.4\n",
      "Running strategy: lookback = 50,threshold = 1.4,tc = 0\n",
      "raw return:1.0642585628870536,total return:21.69982058400096,sharpe:2.430314550298805,max_dd:-0.6689676576452556\n",
      "* Running strategy 50 : 1.4999999999999998\n",
      "Running strategy: lookback = 50,threshold = 1.4999999999999998,tc = 0\n",
      "raw return:1.0642585628870536,total return:33.46715957352638,sharpe:2.74102711260355,max_dd:-0.6027684267425872\n",
      "* Running strategy 50 : 1.5999999999999996\n",
      "Running strategy: lookback = 50,threshold = 1.5999999999999996,tc = 0\n",
      "raw return:1.0642585628870536,total return:34.64401829989702,sharpe:2.8334947057738993,max_dd:-0.5733653743861974\n",
      "* Running strategy 50 : 1.6999999999999997\n",
      "Running strategy: lookback = 50,threshold = 1.6999999999999997,tc = 0\n",
      "raw return:1.0642585628870536,total return:34.46636959576129,sharpe:2.8820249344030966,max_dd:-0.5519967244515186\n",
      "* Running strategy 50 : 1.7999999999999998\n",
      "Running strategy: lookback = 50,threshold = 1.7999999999999998,tc = 0\n",
      "raw return:1.0642585628870536,total return:47.569280673918854,sharpe:3.109286755631285,max_dd:-0.5078522646394006\n",
      "* Running strategy 50 : 1.8999999999999997\n",
      "Running strategy: lookback = 50,threshold = 1.8999999999999997,tc = 0\n",
      "raw return:1.0642585628870536,total return:74.4186139665131,sharpe:3.4202958277043614,max_dd:-0.486942605205265\n",
      "* Running strategy 50 : 1.9999999999999996\n",
      "Running strategy: lookback = 50,threshold = 1.9999999999999996,tc = 0\n",
      "raw return:1.0642585628870536,total return:103.15999155811198,sharpe:3.6948020967749575,max_dd:-0.48119539645620846\n",
      "* Running strategy 50 : 2.0999999999999996\n",
      "Running strategy: lookback = 50,threshold = 2.0999999999999996,tc = 0\n",
      "raw return:1.0642585628870536,total return:107.58002184647594,sharpe:3.847375208429084,max_dd:-0.4574717790770909\n",
      "* Running strategy 50 : 2.1999999999999997\n",
      "Running strategy: lookback = 50,threshold = 2.1999999999999997,tc = 0\n",
      "raw return:1.0642585628870536,total return:127.67254825686129,sharpe:4.036579716297489,max_dd:-0.4046686635971223\n",
      "* Running strategy 50 : 2.3\n",
      "Running strategy: lookback = 50,threshold = 2.3,tc = 0\n",
      "raw return:1.0642585628870536,total return:98.23701090412074,sharpe:3.8426480756878134,max_dd:-0.39592551399437637\n",
      "* Running strategy 50 : 2.3999999999999995\n",
      "Running strategy: lookback = 50,threshold = 2.3999999999999995,tc = 0\n",
      "raw return:1.0642585628870536,total return:69.57790955162886,sharpe:3.6372862094111413,max_dd:-0.36644835259812425\n",
      "* Running strategy 50 : 2.4999999999999996\n",
      "Running strategy: lookback = 50,threshold = 2.4999999999999996,tc = 0\n",
      "raw return:1.0642585628870536,total return:73.51998129800498,sharpe:3.7651350749728287,max_dd:-0.2650560559730234\n",
      "* Running strategy 50 : 2.5999999999999996\n",
      "Running strategy: lookback = 50,threshold = 2.5999999999999996,tc = 0\n",
      "raw return:1.0642585628870536,total return:42.43032917499219,sharpe:3.3532226006178707,max_dd:-0.3050677092365992\n",
      "* Running strategy 50 : 2.6999999999999993\n",
      "Running strategy: lookback = 50,threshold = 2.6999999999999993,tc = 0\n",
      "raw return:1.0642585628870536,total return:45.98131084322844,sharpe:3.515665788387043,max_dd:-0.20516353712091984\n",
      "* Running strategy 50 : 2.7999999999999994\n",
      "Running strategy: lookback = 50,threshold = 2.7999999999999994,tc = 0\n",
      "raw return:1.0642585628870536,total return:35.55981233034336,sharpe:3.391433061105972,max_dd:-0.20092227178098454\n",
      "* Running strategy 50 : 2.8999999999999995\n",
      "Running strategy: lookback = 50,threshold = 2.8999999999999995,tc = 0\n",
      "raw return:1.0642585628870536,total return:22.52797925049028,sharpe:3.123560572037104,max_dd:-0.2098052661758062\n",
      "* Running strategy 50 : 2.9999999999999996\n",
      "Running strategy: lookback = 50,threshold = 2.9999999999999996,tc = 0\n",
      "raw return:1.0642585628870536,total return:13.816394828145164,sharpe:2.809940402180213,max_dd:-0.19446670075058403\n",
      "* Running strategy 50 : 3.0999999999999996\n",
      "Running strategy: lookback = 50,threshold = 3.0999999999999996,tc = 0\n",
      "raw return:1.0642585628870536,total return:8.488412078220495,sharpe:2.413928265246392,max_dd:-0.19150560929522464\n",
      "* Running strategy 50 : 3.1999999999999993\n",
      "Running strategy: lookback = 50,threshold = 3.1999999999999993,tc = 0\n",
      "raw return:1.0642585628870536,total return:5.060756046739123,sharpe:2.048694898997418,max_dd:-0.19584354163163398\n",
      "* Running strategy 50 : 3.2999999999999994\n",
      "Running strategy: lookback = 50,threshold = 3.2999999999999994,tc = 0\n",
      "raw return:1.0642585628870536,total return:3.1025370346725003,sharpe:1.7287303952265725,max_dd:-0.2713234602761232\n",
      "* Running strategy 50 : 3.3999999999999995\n",
      "Running strategy: lookback = 50,threshold = 3.3999999999999995,tc = 0\n",
      "raw return:1.0642585628870536,total return:2.36187690269437,sharpe:1.5881426565319425,max_dd:-0.25437514040762277\n",
      "* Running strategy 50 : 3.499999999999999\n",
      "Running strategy: lookback = 50,threshold = 3.499999999999999,tc = 0\n",
      "raw return:1.0642585628870536,total return:2.042364269252294,sharpe:1.4970555845699638,max_dd:-0.2830533228801685\n",
      "* Running strategy 50 : 3.599999999999999\n",
      "Running strategy: lookback = 50,threshold = 3.599999999999999,tc = 0\n",
      "raw return:1.0642585628870536,total return:1.8917815727373957,sharpe:1.5236886574944666,max_dd:-0.3341831986155974\n",
      "* Running strategy 50 : 3.6999999999999993\n",
      "Running strategy: lookback = 50,threshold = 3.6999999999999993,tc = 0\n",
      "raw return:1.0642585628870536,total return:0.765968521159405,sharpe:0.9198502487082596,max_dd:-0.38098799390413063\n",
      "* Running strategy 50 : 3.7999999999999994\n",
      "Running strategy: lookback = 50,threshold = 3.7999999999999994,tc = 0\n",
      "raw return:1.0642585628870536,total return:0.42687719823770376,sharpe:0.6447087437419587,max_dd:-0.34709470239051643\n",
      "* Running strategy 50 : 3.8999999999999995\n",
      "Running strategy: lookback = 50,threshold = 3.8999999999999995,tc = 0\n",
      "raw return:1.0642585628870536,total return:0.21751085604795173,sharpe:0.41270127962401276,max_dd:-0.31832056665337527\n",
      "* Running strategy 50 : 3.999999999999999\n",
      "Running strategy: lookback = 50,threshold = 3.999999999999999,tc = 0\n",
      "raw return:1.0642585628870536,total return:-0.035427002940134455,sharpe:0.04186079988636208,max_dd:-0.41079041224194535\n",
      "* Running strategy 50 : 4.1\n",
      "Running strategy: lookback = 50,threshold = 4.1,tc = 0\n",
      "raw return:1.0642585628870536,total return:-0.2079123805703862,sharpe:-0.31326057290958575,max_dd:-0.4376777708152826\n"
     ]
    },
    {
     "name": "stdout",
     "output_type": "stream",
     "text": [
      "\n",
      "Executed successfully. Thu 18 Aug @ 08:57:39\n",
      "\n"
     ]
    }
   ],
   "source": [
    "# Slow calculation\n",
    "start = '2020-08-01'\n",
    "end = '2022-08-01'\n",
    "\n",
    "tc=0\n",
    "\n",
    "# Create the class\n",
    "mrbt = SingleVectorBT_MR(symbol,start,end,tc)\n",
    "\n",
    "# collect the data\n",
    "mrbt.get_data(path,type)\n",
    "\n",
    "Mean_Results = np.empty(0)\n",
    "Trades_Results = np.empty(0)\n",
    "Winning_Results = np.empty(0)\n",
    "DD_Results = np.empty(0)\n",
    "Sharpe_Results = np.empty(0)\n",
    "        \n",
    "        \n",
    "dict_Mean = {}\n",
    "dict_Win = {}\n",
    "dict_Trades = {}\n",
    "dict_DD = {}\n",
    "dict_Sharpe = {}\n",
    "\n",
    "Thresh_Range = np.arange(start = 0.5, stop = 4.2, step = 0.1)\n",
    "\n",
    "# run the strategy\n",
    "for lookback in [30,50]:\n",
    "    for Threshold in Thresh_Range:\n",
    "\n",
    "        print('* Running strategy', lookback,':',Threshold)\n",
    "        \n",
    "        mrbt.run_strategy(lookback,Threshold)\n",
    "        Output = mrbt.results.reset_index()\n",
    "        Output = Output[~Output['trade_return'].isna()]['trade_return']\n",
    "        \n",
    "        Mean_Results = np.append(Mean_Results,np.mean(Output))\n",
    "        Trades_Results = np.append(Trades_Results, len(Output))\n",
    "        \n",
    "        if len(Output) == 0:\n",
    "            Winning =  0\n",
    "        else:\n",
    "            Winning = np.sum(Output>0)/len(Output)\n",
    "        \n",
    "        Winning_Results = np.append(Winning_Results,Winning)\n",
    "        \n",
    "        DD, Shar = mrbt.max_dd, mrbt.sharpe#calculate_perf(start, end, -999) # Note the threshold here is algo param (too slow)\n",
    "        DD_Results = np.append(DD_Results, DD)\n",
    "        Sharpe_Results = np.append(Sharpe_Results, Shar)\n",
    "        \n",
    "    Name='stress_plot_'+ str(lookback)\n",
    "    dict_Mean[Name] = Mean_Results  \n",
    "    dict_Win[Name] = Winning_Results \n",
    "    dict_Trades[Name] = Trades_Results \n",
    "    dict_DD[Name] = DD_Results \n",
    "    dict_Sharpe[Name] = Sharpe_Results\n",
    "\n",
    "print('')    \n",
    "Keep_Track()        "
   ]
  },
  {
   "cell_type": "code",
   "execution_count": 159,
   "id": "d1743aac",
   "metadata": {},
   "outputs": [
    {
     "data": {
      "text/plain": [
       "37"
      ]
     },
     "execution_count": 159,
     "metadata": {},
     "output_type": "execute_result"
    }
   ],
   "source": [
    "len(dict_Mean['stress_plot_50'][37:])"
   ]
  },
  {
   "cell_type": "code",
   "execution_count": 167,
   "id": "18897060",
   "metadata": {},
   "outputs": [
    {
     "data": {
      "text/plain": [
       "<matplotlib.legend.Legend at 0x2b14270dca0>"
      ]
     },
     "execution_count": 167,
     "metadata": {},
     "output_type": "execute_result"
    },
    {
     "data": {
      "image/png": "[encoded data removed]",
      "text/plain": [
       "<Figure size 1332x1296 with 5 Axes>"
      ]
     },
     "metadata": {
      "needs_background": "light"
     },
     "output_type": "display_data"
    }
   ],
   "source": [
    "# Plot results\n",
    "fig, axs = plt.subplots(5,1)\n",
    "fig.set_size_inches(18.5, 18)\n",
    "\n",
    "# Create the  plot\n",
    "axs[0].plot(np.arange(start = 0.5, stop = 4.2, step = 0.1), dict_Mean['stress_plot_30'], color = 'r',label = 'Lookback 30')\n",
    "axs[0].plot(np.arange(start = 0.5, stop = 4.2, step = 0.1), dict_Mean['stress_plot_50'][37:], color = 'b',label = 'Lookback 50')\n",
    "\n",
    "axs[0].set_ylabel('Mean')\n",
    "axs[0].set_title('Mean')\n",
    "# axs[0].set_xlim([0,1])\n",
    "# axs[0].set_ylim([-0.0006,0.0006])\n",
    "\n",
    "axs[1].plot(np.arange(start = 0.5, stop = 4.2, step = 0.1), dict_Win['stress_plot_30'], color = 'r',label = 'Lookback 30')\n",
    "axs[1].plot(np.arange(start = 0.5, stop = 4.2, step = 0.1), dict_Win['stress_plot_50'][37:], color = 'b',label = 'Lookback 50')\n",
    "\n",
    "axs[1].set_ylabel('Winning')\n",
    "axs[1].set_title('Winning')\n",
    "axs[1].set_ylim([0.6,0.8])\n",
    "\n",
    "axs[2].plot(np.arange(start = 0.5, stop = 4.2, step = 0.1), dict_Trades['stress_plot_30'], color = 'r',label = 'Lookback 30')\n",
    "axs[2].plot(np.arange(start = 0.5, stop = 4.2, step = 0.1), dict_Trades['stress_plot_50'][37:], color = 'b',label = 'Lookback 50')\n",
    "\n",
    "axs[2].set_ylabel('Trades')\n",
    "axs[2].set_title('Trades')\n",
    "\n",
    "axs[3].plot(np.arange(start = 0.5, stop = 4.2, step = 0.1), dict_DD['stress_plot_30'], color = 'r',label = 'Lookback 30')\n",
    "axs[3].plot(np.arange(start = 0.5, stop = 4.2, step = 0.1), dict_DD['stress_plot_50'][37:], color = 'b',label = 'Lookback 50')\n",
    "\n",
    "axs[3].set_ylabel('Max Drawdown')\n",
    "axs[3].set_title('Max Drawdown')\n",
    "\n",
    "axs[4].plot(np.arange(start = 0.5, stop = 4.2, step = 0.1), dict_Sharpe['stress_plot_30'], color = 'r',label = 'Lookback 30')\n",
    "axs[4].plot(np.arange(start = 0.5, stop = 4.2, step = 0.1), dict_Sharpe['stress_plot_50'][37:], color = 'b',label = 'Lookback 50')\n",
    "\n",
    "axs[4].set_ylabel('Sharpe')\n",
    "axs[4].set_title('Sharpe')\n",
    "\n",
    "axs[0].legend(loc='upper right')\n",
    "axs[1].legend(loc='upper right')\n",
    "axs[2].legend(loc='upper right')\n",
    "axs[3].legend(loc='upper right')\n",
    "axs[4].legend(loc='upper right')"
   ]
  }
 ],
 "metadata": {
  "kernelspec": {
   "display_name": "Python 3 (ipykernel)",
   "language": "python",
   "name": "python3"
  },
  "language_info": {
   "codemirror_mode": {
    "name": "ipython",
    "version": 3
   },
   "file_extension": ".py",
   "mimetype": "text/x-python",
   "name": "python",
   "nbconvert_exporter": "python",
   "pygments_lexer": "ipython3",
   "version": "3.9.7"
  }
 },
 "nbformat": 4,
 "nbformat_minor": 5
}
