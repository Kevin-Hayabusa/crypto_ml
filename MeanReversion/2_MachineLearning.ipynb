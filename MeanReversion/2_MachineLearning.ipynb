{
 "cells": [
  {
   "cell_type": "markdown",
   "id": "801a650c",
   "metadata": {},
   "source": [
    "### ------------------ Module 2: Machine Learning ------------------"
   ]
  },
  {
   "cell_type": "markdown",
   "id": "fed8e44d",
   "metadata": {},
   "source": [
    "- What: Train Model and perform analysis\n",
    "- Who : Code from Kevin.\n",
    "- Updates : Weights to capture skew bias, Rolling validation, max drawdown with model output       \n",
    "- When: 18 August 2022   "
   ]
  },
  {
   "cell_type": "markdown",
   "id": "f576fd8a",
   "metadata": {},
   "source": [
    "$\\color{red}{\\text{Define Parameters:}}$"
   ]
  },
  {
   "cell_type": "code",
   "execution_count": null,
   "id": "0fa8e0b3",
   "metadata": {},
   "outputs": [],
   "source": [
    "# Path to previously collected data\n",
    "path='..\\\\Modules\\\\Data\\\\AlgoRun\\\\'\n",
    "\n",
    "print('* Path to data:', path)"
   ]
  },
  {
   "cell_type": "markdown",
   "id": "871444ed",
   "metadata": {},
   "source": [
    "#### 1. Load some key libaries"
   ]
  },
  {
   "cell_type": "code",
   "execution_count": 1,
   "id": "b6d7aa40",
   "metadata": {},
   "outputs": [
    {
     "name": "stdout",
     "output_type": "stream",
     "text": [
      "Executed successfully. Thu 18 Aug @ 09:09:06\n",
      "\n"
     ]
    }
   ],
   "source": [
    "import numpy as np\n",
    "import pandas as pd\n",
    "from hurst import compute_Hc, random_walk\n",
    "from sklearn.ensemble import RandomForestRegressor\n",
    "from sklearn.ensemble import RandomForestClassifier\n",
    "from sklearn.ensemble import GradientBoostingClassifier\n",
    "from sklearn.metrics import confusion_matrix\n",
    "from sklearn.inspection import permutation_importance\n",
    "from sklearn import  metrics\n",
    "import matplotlib.pyplot as plt\n",
    "from dateutil.relativedelta import relativedelta\n",
    "from datetime import  date,datetime\n",
    "\n",
    "# Little function to keep track of code execution.\n",
    "def Keep_Track():\n",
    "    print(\"Executed successfully. \" + datetime.now().strftime(\"%a %d %b @ %H:%M:%S\") + \"\\n\")\n",
    "    \n",
    "Keep_Track()"
   ]
  },
  {
   "cell_type": "markdown",
   "id": "9979ef80",
   "metadata": {},
   "source": [
    "A couple of functions needed"
   ]
  },
  {
   "cell_type": "code",
   "execution_count": 5,
   "id": "39aafb98",
   "metadata": {},
   "outputs": [
    {
     "name": "stdout",
     "output_type": "stream",
     "text": [
      "Executed successfully. Thu 18 Aug @ 09:11:01\n",
      "\n"
     ]
    }
   ],
   "source": [
    "# Shifts an array    \n",
    "def shift(xs, n):\n",
    "    e = np.empty_like(xs)\n",
    "    if n >= 0:\n",
    "        e[:n] = 0\n",
    "        e[n:] = xs[:-n]\n",
    "    return ((e==1) | (xs==1))*1\n",
    "\n",
    "# Extracts algo run times from all possible runs and block\n",
    "# E.g. All_Runs = [0,1,1,1,0,0,0,0,1,1,1,1,0,0,1,1,0,0,0]\n",
    "#                      run 1         run 2     run 3\n",
    "# Blocks = [1,0,1] (there are only 3 runs) (i.e. model output forecasts)\n",
    "# returns         [0,1,1,1,0,0,0,0,0,0,0,0,0,0,1,1,0,0,0] i.e. 2nd run removed\n",
    "# Note the shift is needed due to some fiddly pieces to pick up return data.\n",
    "def Get_Algo_Runs(All_Runs, Blocks):\n",
    "\n",
    "    Started = False\n",
    "    Skipping = False\n",
    "    Block_Counter = 0\n",
    "    \n",
    "    # Collect model results\n",
    "    Model_Run = np.empty(0)\n",
    "\n",
    "    for indx,i in enumerate(All_Runs):\n",
    "        \n",
    "        # The start of a trade and it is a trade we are keeping\n",
    "        if i == 1 and Blocks[Block_Counter] == 1:\n",
    "            Started = True\n",
    "\n",
    "        # The start of a trade we are ignoring\n",
    "        if i == 1 and Blocks[Block_Counter] == 0:\n",
    "            Skipping = True\n",
    "\n",
    "        # We are skipping and the trade has finished    \n",
    "        if i == 0 and Skipping:\n",
    "            Skipping = False\n",
    "            Block_Counter = Block_Counter+1\n",
    "        \n",
    "        # We have started and the trade has ended.\n",
    "        if i == 0 and Started:\n",
    "            Started = False\n",
    "            Block_Counter = Block_Counter+1     \n",
    "\n",
    "        if Started:\n",
    "            Model_Run = np.append(Model_Run,1)\n",
    "        else:\n",
    "            Model_Run = np.append(Model_Run,0)\n",
    "        \n",
    "    return shift(Model_Run,1) \n",
    "\n",
    "Keep_Track()"
   ]
  },
  {
   "cell_type": "markdown",
   "id": "735a0cd9",
   "metadata": {},
   "source": [
    "#### 2. Define the class"
   ]
  },
  {
   "cell_type": "code",
   "execution_count": 6,
   "id": "b0029db6",
   "metadata": {},
   "outputs": [
    {
     "name": "stdout",
     "output_type": "stream",
     "text": [
      "Executed successfully. Thu 18 Aug @ 09:14:39\n",
      "\n"
     ]
    }
   ],
   "source": [
    "# Class definition from Kevin with various additions to compute max drawdown etc.\n",
    "\n",
    "# Class to create the features from the data.\n",
    "class Features(object):\n",
    "    '''\n",
    "    class to take in OHLC data and generate features\n",
    "    '''\n",
    "\n",
    "    @staticmethod\n",
    "    def cal_close_avg(df, w):\n",
    "        # Current close/avg\n",
    "        d = {}\n",
    "        for i in w:\n",
    "            ds = (df.Close / (df.Close.rolling(i).mean()))\n",
    "            d[f'FactorCurCloseDivAvg_{i}'] = ds\n",
    "        return pd.concat(d, axis=1)\n",
    "\n",
    "    @staticmethod\n",
    "    def cal_volume_avg(df, w):\n",
    "        # Current volume/avg\n",
    "        d = {}\n",
    "        for i in w:\n",
    "            ds = (df.Volume / (df.Volume.rolling(i).mean()))\n",
    "            d[f'FactorCurVolumeDivAvg_{i}'] = ds\n",
    "        return pd.concat(d, axis=1)\n",
    "\n",
    "    @staticmethod\n",
    "    def cal_bk_return(df, w):\n",
    "        # Period return up to now\n",
    "        d = {}\n",
    "        for i in w:\n",
    "            ds = df.Close.pct_change(i)\n",
    "            d[f'FactorBackReturn_{i}'] = ds\n",
    "        return pd.concat(d, axis=1)\n",
    "\n",
    "    @staticmethod\n",
    "    def cal_fwd_return(df, w):\n",
    "        # Period forward return up to w\n",
    "        d = {}\n",
    "        for i in w:\n",
    "            ds = df.Close.pct_change(i).shift(-i)\n",
    "            d[f'FactorFwdReturn_{i}'] = ds\n",
    "        return pd.concat(d, axis=1)\n",
    "\n",
    "    @staticmethod\n",
    "    def cal_high_low(df, w):\n",
    "        # rolling high/rolling low\n",
    "        d = {}\n",
    "        for i in w:\n",
    "            ds = df.High.rolling(i).max() / df.Low.rolling(i).min()\n",
    "            d[f'FactorHighDivLow_{i}'] = ds\n",
    "        return pd.concat(d, axis=1)\n",
    "\n",
    "    @staticmethod\n",
    "    def cal_max_mean(df, w):\n",
    "        # rolling high/rolling mean\n",
    "        d = {}\n",
    "        for i in w:\n",
    "            ds = df.High.rolling(i).max() / df.Close.rolling(i).mean()\n",
    "            d[f'FactorMaxDivMean_{i}'] = ds\n",
    "        return pd.concat(d, axis=1)\n",
    "\n",
    "    @staticmethod\n",
    "    def cal_min_mean(df, w):\n",
    "        # rolling min/rolling mean\n",
    "        d = {}\n",
    "        for i in w:\n",
    "            ds = df.Low.rolling(i).min() / df.Close.rolling(i).mean()\n",
    "            d[f'FactorMinDivMean_{i}'] = ds\n",
    "        return pd.concat(d, axis=1)\n",
    "\n",
    "    @staticmethod\n",
    "    def cal_max_mean_volume(df, w):\n",
    "        # rolling high/rolling mean for volume\n",
    "        d = {}\n",
    "        for i in w:\n",
    "            ds = df.Volume.rolling(i).max() / df.Volume.rolling(i).mean()\n",
    "            d[f'FactorMaxDivMeanVolume_{i}'] = ds\n",
    "        return pd.concat(d, axis=1)\n",
    "\n",
    "    @staticmethod\n",
    "    def cal_min_mean_volume(df, w):\n",
    "        # rolling min/rolling mean for volume\n",
    "        d = {}\n",
    "        for i in w:\n",
    "            ds = df.Volume.rolling(i).min() / df.Volume.rolling(i).mean()\n",
    "            d[f'FactorMinDivMeanVolume_{i}'] = ds\n",
    "        return pd.concat(d, axis=1)\n",
    "\n",
    "    @staticmethod\n",
    "    def cal_std(df, w):\n",
    "        # rolling std\n",
    "        d = {}\n",
    "        for i in w:\n",
    "            ds = df.Close.rolling(i).std()\n",
    "            d[f'FactorStd_{i}'] = ds\n",
    "        return pd.concat(d, axis=1)\n",
    "\n",
    "    @staticmethod\n",
    "    def Closing(df, w):\n",
    "        # rolling std\n",
    "        d = {}\n",
    "        for i in w:\n",
    "            ds = df.Close.shift(i)\n",
    "            d[f'FactorClose_{i}'] = ds\n",
    "\n",
    "        # Include current by default\n",
    "        d[f'FactorClose_{0}'] = df.Close\n",
    "        return pd.concat(d, axis=1)\n",
    "\n",
    "    @staticmethod\n",
    "    def Volume(df, w):\n",
    "        # rolling std\n",
    "        d = {}\n",
    "        for i in w:\n",
    "            ds = df.Volume.shift(i)\n",
    "            d[f'FactorVolume_{i}'] = ds\n",
    "\n",
    "        # Include current by default\n",
    "        d[f'FactorVolume_{0}'] = df.Volume\n",
    "        return pd.concat(d, axis=1)\n",
    "\n",
    "    @staticmethod\n",
    "    def r_zscore(df, w):\n",
    "        # z_score Tina\n",
    "        d = {}\n",
    "        for i in w:\n",
    "            ds = (np.log(df.Volume) - np.log(df.Volume).rolling(i).mean()) / np.log(df.Volume).rolling(i).std()\n",
    "            d[f'FactorZ_Volume_{i}'] = ds\n",
    "\n",
    "        return pd.concat(d, axis=1)\n",
    "\n",
    "    @staticmethod\n",
    "    def Parkinson(df, w):\n",
    "        # z_score Tina\n",
    "        d = {}\n",
    "\n",
    "        for i in w:\n",
    "            ds = np.log(df.High / df.Low) ** 2\n",
    "            d[f'FactorParkinson_{i}'] = 0.5 * np.sqrt(ds.rolling(i).sum()) / np.sqrt(np.log(2) * i / (365 * 1440))\n",
    "\n",
    "        return pd.concat(d, axis=1)\n",
    "\n",
    "    @staticmethod\n",
    "    def Hurst(df, w):\n",
    "        d = {}\n",
    "        Hurst = lambda x: compute_Hc(x, kind='price')[0]\n",
    "\n",
    "        w = [180, 360]\n",
    "\n",
    "        for i in w:\n",
    "            if i > 100:  # else hurst function fails\n",
    "                d[f'FactorHurst{i}'] = df.Close.rolling(i).apply(Hurst)\n",
    "\n",
    "        return pd.concat(d, axis=1)\n",
    "\n",
    "    @staticmethod\n",
    "    def generate_factors(df_panel, factor_functions, w):\n",
    "        '''\n",
    "        generate factors on panel data with rolling window w\n",
    "        '''\n",
    "        l = []\n",
    "        for f in factor_functions:\n",
    "            #factor = df_panel.groupby('Ticker').apply(f, w)\n",
    "            factor = f(df_panel,w)\n",
    "            l.append(factor)\n",
    "        return pd.concat(l, axis=1)\n",
    "\n",
    "# Bostock:  Adjusted the code here to remove na's from specific columns    \n",
    "    def generate_features(self, data,factor_functions,lag):\n",
    "        data_features = Features.generate_factors(data, factor_functions, lag)\n",
    "        combine = pd.concat([data, data_features], axis=1)\n",
    "        data_ml = combine\n",
    "#         data_ml = combine[~combine['trade_return'].isna()].dropna()\n",
    "        \n",
    "        # Need to be more careful about which col to remove na from\n",
    "        # Later we will select the feature fields\n",
    "#         data_ml = combine[~combine['trade_return'].isna()]\n",
    "        \n",
    "        #Remove missing values in the features just generated column\n",
    "        # These must be removed for ml to use them\n",
    "        self.data_ml = data_ml.dropna(subset = data_features.columns)\n",
    "        \n",
    "#         print('In gen features, first self.data after feature nas dropped',len((self.data_ml['trade_return'].dropna())))\n",
    "    \n",
    "        # For ml use the trade return record (this is what is used to build the categorical variable)\n",
    "        data_ml = self.data_ml.dropna(subset = ['trade_return'])\n",
    "        \n",
    "#         print('In gen features, data_ml after na dropped',len(data_ml['trade_return']))\n",
    "        \n",
    "#         data_ml = data_ml.dropna(subset = data_ml.columns.difference(['trade_return_lag','Performance']))\n",
    "        \n",
    "        return data_ml.copy()      \n",
    "    \n",
    "class MachineLearning(object):\n",
    "   \n",
    "    # Initialise with the data\n",
    "    def __init__(self,data):\n",
    "        \n",
    "        self.data = data\n",
    "               \n",
    "        # Keep everything here\n",
    "        self.All_Data = data\n",
    "    \n",
    "    # Generate the features\n",
    "    def GenerateFeature(self,lag,factor_functions,return_threhold):\n",
    "        self.data=Features.generate_features(self, self.data, factor_functions, lag)\n",
    "        \n",
    "        # Create the target for the training\n",
    "        self.data['results'] = np.where(self.data.trade_return > return_threhold, 1, 0)\n",
    "    \n",
    "    def RunModel(self,max_depth,n_estimators,random_state,IndexField,Forecast_Field,Features_Field,start,mid,end):\n",
    "          \n",
    "        \n",
    "        self.Train, self.TrainX, self.TrainY, self.Test, self.TestX, self.TestY = MachineLearning.Train_Test_Build(self.data, IndexField,\n",
    "                                                                                     Features_Field,\n",
    "                                                                                     Forecast_Field, start,\n",
    "                                                                                     mid,\n",
    "                                                                                     end)\n",
    "        \n",
    "#         self.Model = RandomForestClassifier(max_depth=max_depth, random_state=random_state, n_estimators=n_estimators)\n",
    "        # Add in class weights to manange skew in data.\n",
    "        self.Model = RandomForestClassifier(max_depth=max_depth, \n",
    "                                            random_state=random_state, \n",
    "                                            n_estimators=n_estimators,\n",
    "                                            class_weight = 'balanced')\n",
    "        \n",
    "        self.Model.fit(self.TrainX, self.TrainY)\n",
    "        print(\"Model trained\")\n",
    "        print(\"-------------\")\n",
    "        # print(\"Estimators :\", Estimators)\n",
    "        print(\"Features   :\", self.Model.n_features_in_)\n",
    "        # print(\"OOB        :\", Model.oob_score_)\n",
    "\n",
    "        # Generate some forecasts\n",
    "        self.ForecastsTrainY = self.Model.predict(self.TrainX)\n",
    "        self.ForecastsTestY = self.Model.predict(self.TestX)\n",
    "\n",
    "        Mat = confusion_matrix(self.TestY, self.ForecastsTestY)\n",
    "        print('')\n",
    "        print('* Testing set')\n",
    "        MachineLearning.Metrics(Mat)\n",
    "\n",
    "        Mat = confusion_matrix(self.TrainY, self.ForecastsTrainY)\n",
    "        print('')\n",
    "        print('* Training set')\n",
    "        MachineLearning.Metrics(Mat)\n",
    "        \n",
    "        metrics.plot_confusion_matrix(self.Model,self.TestX,self.TestY)\n",
    "        \n",
    "        #TODO: Allow to save this somewhere else (Paul)\n",
    "#         plt.savefig('MeanRevert/Results/ConfusionMatrix.png')\n",
    "        self.RecallTest = metrics.recall_score(self.TestY,self.ForecastsTestY)\n",
    "        self.PrecisionTest = metrics.precision_score(self.TestY,self.ForecastsTestY)\n",
    "        self.F1Test = metrics.f1_score(self.TestY,self.ForecastsTestY)\n",
    "        self.AccuracyTest = metrics.accuracy_score(self.TestY,self.ForecastsTestY)\n",
    "        self.AucTest = metrics.roc_auc_score(self.TestY,self.Model.predict_proba(self.TestX)[:,1])\n",
    "        self.TrainSkew = np.sum(self.TrainY)/len(self.TrainY)\n",
    "        self.TestSkew = np.sum(self.TestY)/len(self.TestY)\n",
    "        self.TrainLen = len(self.TrainX)\n",
    "        self.TestLen = len(self.TestX)\n",
    "        #print(metrics.classification_report(self.TestY, self.ForecastsTestY))\n",
    "        \n",
    "        # Calculate maxdd etc.\n",
    "        # Create a copy to use\n",
    "        Bostock_Temp = self.data_ml\n",
    "        \n",
    "#         Bostock_Temp = Bostock_Temp.loc[mid:end] # This filters differently\n",
    "        Bostock_Temp = Bostock_Temp[(Bostock_Temp['Open Time'] >= mid)  & (Bostock_Temp['Open Time'] < end)]\n",
    "    \n",
    "        Bostock_Temp = Bostock_Temp.set_index('Open Time')\n",
    "        \n",
    "#         print('self.ml after filter', len((Bostock_Temp['trade_return'].dropna())))\n",
    "        ####    \n",
    "#         Indicator = ((Bostock_Temp['trade_return'].dropna() > Threshold)*1).values\n",
    "        # Use the model output as the indicator to compute maxdd etc using model output\n",
    "        Indicator = self.ForecastsTestY\n",
    "    \n",
    "        # The earliest date in the split that starts a position.\n",
    "        Earliest_Date = np.min((Bostock_Temp['trade_return_lag'].reset_index().dropna())['Open Time'])\n",
    "\n",
    "        # Set all positions prior to this to first date to zero \n",
    "        Bostock_Temp.loc['2001-06-01':Earliest_Date,  'position'] = 0\n",
    "\n",
    "        # Extract all possible runs    \n",
    "        All_Runs = ((~(Bostock_Temp['position'] == 0))*1).values\n",
    "\n",
    "        # Calculate the Indicator run.\n",
    "        Bostock_Temp['Indicator_Run'] = Get_Algo_Runs(All_Runs, Indicator)   \n",
    "        ####    \n",
    "        \n",
    "        # Resample to calculate daily returns\n",
    "#         daily_return = Bostock_Temp['strategy'].resample('D').agg(lambda x: (x + 1).prod() - 1)\n",
    "        daily_return = (Bostock_Temp['strategy'] * (Bostock_Temp['Indicator_Run'])).resample('D').agg(lambda x: (x + 1).prod() - 1)\n",
    "\n",
    "        \n",
    "        # Calculate cum returns\n",
    "        cum_return = (1+daily_return).cumprod()\n",
    "        \n",
    "        if np.std(daily_return) == 0:\n",
    "            self.sharpe = 0\n",
    "        else:\n",
    "            self.sharpe = np.mean(daily_return) / np.std(daily_return) * (252 ** 0.5)\n",
    "        \n",
    "        def calc_drawdown(cum_rets):\n",
    "            # Calculate the running maximum\n",
    "            running_max = np.maximum.accumulate(cum_rets.dropna())\n",
    "\n",
    "            # Ensure the value never drops below 1\n",
    "            running_max[running_max < 1] = 1\n",
    "\n",
    "            # Calculate the percentage drawdown\n",
    "            drawdown = (cum_rets) / running_max - 1\n",
    "            return drawdown\n",
    "\n",
    "        drawdown = calc_drawdown(cum_return)\n",
    "        \n",
    "        # Drawdown for the run.\n",
    "        self.max_dd = drawdown.min()\n",
    "    \n",
    "    # Run over \n",
    "    def RollingValidation(self,max_depth,n_estimators,random_state,IndexField,Forecast_Field,Features_Field,start_date,end_date,train_period,test_period):\n",
    "        \n",
    "        dates = MachineLearning.GenerateDates(start_date, end_date, train_period, test_period)\n",
    "        print(dates)\n",
    "        results = []\n",
    "        for i, d in dates.iterrows():\n",
    "            start = d['start'].strftime('%Y-%m-%d')\n",
    "            mid = d['mid'].strftime('%Y-%m-%d')\n",
    "            end = d['end'].strftime('%Y-%m-%d')\n",
    "            self.RunModel(max_depth,n_estimators,random_state,IndexField, Forecast_Field, Features_Field, start, mid, end)\n",
    "            \n",
    "            results.append([start, mid, end, self.PrecisionTest, self.RecallTest, self.F1Test, \n",
    "                            self.AccuracyTest, self.TestSkew,self.TrainLen, self.TestLen, \n",
    "                            self.sharpe, self.max_dd])            \n",
    "        df = pd.DataFrame(results)\n",
    "        df.columns = ['start', 'mid', 'end', 'precision', 'recall', 'f1', 'accuracy', 'testskew', 'trainlen',\n",
    "                      'testlen', 'sharpe_model', 'max_dd_model']\n",
    "        return df\n",
    "    \n",
    "    def RollingTesting(self,max_depth,n_estimators,random_state,IndexField,Forecast_Field,Features_Field,start_date,end_date,train_period,test_period):\n",
    "        \n",
    "        dates = MachineLearning.GenerateDates(start_date, end_date, train_period, test_period)\n",
    "\n",
    "        for i, d in dates.iterrows():\n",
    "            start = d['start'].strftime('%Y-%m-%d')\n",
    "            mid = d['mid'].strftime('%Y-%m-%d')\n",
    "            end = d['end'].strftime('%Y-%m-%d')\n",
    "            self.RunModel(max_depth, n_estimators, random_state, IndexField, Forecast_Field, Features_Field, start, mid,\n",
    "                          end)\n",
    "            y_pred = self.Model.predict_proba(self.TestX)[:,1]\n",
    "            self.data.loc[self.TestX.index,'predict']=y_pred\n",
    "\n",
    "    def StressTest(self,n_depth,n_estimators):\n",
    "        Train = np.empty(0)\n",
    "        Test = np.empty(0)\n",
    "        Depth_plot = np.empty(0)\n",
    "        Tree_plot = np.empty(0)\n",
    "        for Depth in n_depth:\n",
    "            Model = RandomForestClassifier(max_depth=Depth, random_state=4021, n_estimators=50)\n",
    "            Model.fit(self.TrainX, self.TrainY)\n",
    "\n",
    "            Train_Error = np.sum(Model.predict(self.TrainX) == self.TrainY) / len(self.TrainY)\n",
    "            Train = np.append(Train, Train_Error)\n",
    "\n",
    "            Test_Error = np.sum(Model.predict(self.TestX) == self.TestY) / len(self.TestY)\n",
    "            Test = np.append(Test, Test_Error)\n",
    "\n",
    "            Depth_plot = np.append(Depth_plot, Depth)\n",
    "\n",
    "        fig, axs = plt.subplots(2, 1)\n",
    "        fig.set_size_inches(18.5, 10)\n",
    "\n",
    "        # Create the  plot\n",
    "        axs[0].scatter(Depth_plot, Train, s=10)\n",
    "\n",
    "        axs[0].set_xlabel('Depth')\n",
    "        axs[0].set_ylabel('Acc')\n",
    "        axs[0].set_title('Train')\n",
    "        axs[1].scatter(Depth_plot, Test, color='r', s=10)\n",
    "        # axs[1].scatter(Depth_plot, Test_2, color = 'r', s= 10)\n",
    "        axs[1].set_xlabel('Depth')\n",
    "        axs[1].set_ylabel('Acc')\n",
    "        axs[1].set_title('Test')\n",
    "#         fig.savefig('MeanRevert/Results/depth.png')\n",
    "\n",
    "\n",
    "        Train = np.empty(0)\n",
    "        Test = np.empty(0)\n",
    "        Depth_plot = np.empty(0)\n",
    "        Tree_plot = np.empty(0)\n",
    "\n",
    "        for tree in n_estimators:\n",
    "            Model = RandomForestClassifier(max_depth=5, random_state=4021, n_estimators=tree)\n",
    "            Model.fit(self.TrainX, self.TrainY)\n",
    "\n",
    "            Train_Error = np.sum(Model.predict(self.TrainX) == self.TrainY) / len(self.TrainY)\n",
    "            Train = np.append(Train, Train_Error)\n",
    "\n",
    "            Test_Error = np.sum(Model.predict(self.TestX) == self.TestY) / len(self.TestY)\n",
    "            Test = np.append(Test, Test_Error)\n",
    "\n",
    "            Tree_plot = np.append(Tree_plot, tree)\n",
    "\n",
    "        fig, axs = plt.subplots(2, 1)\n",
    "        fig.set_size_inches(18.5, 10)\n",
    "\n",
    "        # Create the  plot\n",
    "        axs[0].scatter(Tree_plot, Train, s=10)\n",
    "\n",
    "        axs[0].set_xlabel('Tree')\n",
    "        axs[0].set_ylabel('Acc')\n",
    "        axs[0].set_title('Train')\n",
    "        axs[1].scatter(Tree_plot, Test, color='r', s=10)\n",
    "\n",
    "        axs[1].set_xlabel('Tree')\n",
    "        axs[1].set_ylabel('Acc')\n",
    "        axs[1].set_title('Test')\n",
    "#         fig.savefig('MeanRevert/Results/tree.png')\n",
    "    \n",
    "    def FeatureImportance(self):\n",
    "        result_test = permutation_importance(self.Model, self.TestX, self.TestY, n_repeats=10,\n",
    "                                             random_state=0,scoring=['f1','precision','recall', 'neg_log_loss'])\n",
    "        fig = MachineLearning.Plot_Importance(result_test, 'f1', self.TrainX)\n",
    "\n",
    "        return fig\n",
    "    \n",
    "    @staticmethod\n",
    "    def Sample_Data(Data, Field=-1, UpperDate=-1, LowerDate=-1):\n",
    "        # if no field is defined\n",
    "        if Field == -1:\n",
    "            # If no upper date is defined\n",
    "            if UpperDate == -1:\n",
    "                return Data[LowerDate:].sort_index()\n",
    "\n",
    "            # If no lower date is not define\n",
    "            if LowerDate == -1:\n",
    "                return Data[:UpperDate].sort_index()\n",
    "\n",
    "            return Data[LowerDate:UpperDate].sort_index()\n",
    "        else:\n",
    "            # If no upper date is defined\n",
    "            if UpperDate == -1:\n",
    "                return Data[(Data[Field] >= LowerDate)].sort_values(by=[Field])\n",
    "\n",
    "            # If no lower date is not define\n",
    "            if LowerDate == -1:\n",
    "                return Data[(Data[Field] < UpperDate)].sort_values(by=[Field])\n",
    "            \n",
    "            return Data[(Data[Field] < UpperDate) & (Data[Field] >= LowerDate)].sort_values(by=[Field])\n",
    "\n",
    "    @staticmethod\n",
    "    def Train_Test_Build(Data,Index_Field ,Features_Field,Forecast_Field, Start, Mid, End):\n",
    "        print('* Train / Test split with ~')\n",
    "        print('         - Forecast field:', Forecast_Field)\n",
    "        print('         - Training      :', Start, \"->\", Mid)\n",
    "        print('         - Testing       :', Mid, \"->\", End)\n",
    "        print('')\n",
    "\n",
    "        # Filter by date to create train and test sets\n",
    "        Train = MachineLearning.Sample_Data(Data, Field=Index_Field,LowerDate=Start, UpperDate=Mid)\n",
    "        Test = MachineLearning.Sample_Data(Data, Field=Index_Field, LowerDate=Mid, UpperDate=End)\n",
    "\n",
    "#         print('Test data:', Test)\n",
    "        \n",
    "        TrainX = Train[Features_Field]\n",
    "        TestX = Test[Features_Field]\n",
    "        TrainY = Train[[Forecast_Field]]\n",
    "        TestY = Test[[Forecast_Field]]\n",
    "\n",
    "        # summarise the % split\n",
    "        print(\"* Test Length   :\", len(TestY[Forecast_Field]))\n",
    "        print(\"* Train Length  :\", len(TrainY[Forecast_Field]))\n",
    "\n",
    "        # # Convert to numpy arrays\n",
    "        #TrainX = TrainX.values\n",
    "        TrainY = TrainY.values.ravel()\n",
    "\n",
    "        #TestX = TestX.values\n",
    "        TestY = TestY.values.ravel()\n",
    "\n",
    "        print('* X shape       :', np.shape(TrainX))\n",
    "        print('* Y shape       :', np.shape(TrainY))\n",
    "\n",
    "        print('Train Skew      : ', np.sum(TrainY) / len(TrainY))\n",
    "        print('Test Skew       : ', np.sum(TestY) / len(TestY))\n",
    "        \n",
    "\n",
    "        return Train, TrainX, TrainY, Test, TestX, TestY\n",
    "    \n",
    "    @staticmethod\n",
    "    def Metrics(Mat):\n",
    "\n",
    "        P = Mat[1, 1] / (Mat[0, 1] + Mat[1, 1])\n",
    "        R = Mat[1, 1] / (Mat[1, 0] + Mat[1, 1])\n",
    "\n",
    "        print('  - Accuracy :', round((Mat[0, 0] + Mat[1, 1]) / (Mat[1, 1] + Mat[1, 0] + Mat[0, 1] + Mat[0, 0]), 3))\n",
    "        print('  - Precision:', round(P, 3))\n",
    "        print('  - Recall   :', round(R, 3))\n",
    "        print('  - F1       :', round(2 * P * R / (P + R), 3))\n",
    "    \n",
    "    @staticmethod\n",
    "    def Plot_Importance(Results_Test, Metric, Data):\n",
    "        fig, axs = plt.subplots(1, 1, figsize=(15, 10))\n",
    "\n",
    "        sorted_idx = Results_Test[Metric].importances_mean.argsort()\n",
    "        axs.boxplot(Results_Test[Metric].importances[sorted_idx].T, vert=False, labels=Data.columns[sorted_idx])\n",
    "        axs.set_title(\"Permutation Importances (Test set) \" + Metric)\n",
    "        fig.tight_layout()\n",
    "        return fig\n",
    "    \n",
    "    @staticmethod\n",
    "    def Compute_ROC(Model,DataX, DataY, step):\n",
    "        # Compute the model probabilities for the data points.\n",
    "        Prob = Model.predict_proba(DataX)\n",
    "        DataY = DataY.astype(bool)\n",
    "\n",
    "        # We need only keep one of the entries (since they sum to 1)\n",
    "        # Keep the first one\n",
    "        Prob = Prob[:, 1]\n",
    "\n",
    "        TPR = np.empty(0)\n",
    "        FPR = np.empty(0)\n",
    "        Prec = np.empty(0)\n",
    "        F1 = np.empty(0)\n",
    "        XEnt = np.empty(0)\n",
    "\n",
    "        # Then forecast over a range of thresholds and compare to actuals.\n",
    "        for T in np.arange(0, 1, step):\n",
    "            Prob_T = Prob > T\n",
    "\n",
    "            # The compute metrics\n",
    "            R = np.sum(Prob_T & DataY) / np.sum(DataY)\n",
    "            TPR = np.append(TPR, R)\n",
    "\n",
    "            FPR = np.append(FPR, np.sum(Prob_T & ~DataY) / (len(DataY) - np.sum(DataY)))\n",
    "            P = np.sum(Prob_T & DataY) / (np.sum(Prob_T & ~DataY) + np.sum(Prob_T & DataY))\n",
    "            Prec = np.append(Prec, P)\n",
    "            F1 = np.append(F1, 2 * P * R / (R + P))\n",
    "            # XEnt = np.append(XEnt, -np.sum(Prob_T * np.log(DataY + 0.00000000001)))\n",
    "\n",
    "        return pd.DataFrame({'T': np.arange(0, 1, step), 'TPR': TPR, 'FPR': FPR, 'Prec': Prec, 'F1': F1})\n",
    "    \n",
    "    @staticmethod\n",
    "    def plot_ROC(Curve_Test,Curve_Train):\n",
    "        fig, axs = plt.subplots(2, 4)\n",
    "        fig.set_size_inches(18.5, 10)\n",
    "\n",
    "        min_range, max_range = 0.01, 50\n",
    "        x = np.linspace(min_range, max_range, num=100)\n",
    "\n",
    "        Best_T = Curve_Test['T'][np.argmax(Curve_Test['F1'])]\n",
    "        F1 = Curve_Test['F1'][np.argmax(Curve_Test['F1'])]\n",
    "        Precision = Curve_Test['Prec'][np.argmax(Curve_Test['F1'])]\n",
    "        Recall = Curve_Test['TPR'][np.argmax(Curve_Test['F1'])]\n",
    "\n",
    "        Best_T_Train = Curve_Train['T'][np.argmax(Curve_Train['F1'])]\n",
    "        F1_Train = Curve_Train['F1'][np.argmax(Curve_Train['F1'])]\n",
    "        Precision_Train = Curve_Train['Prec'][np.argmax(Curve_Train['F1'])]\n",
    "        Recall_Train = Curve_Train['TPR'][np.argmax(Curve_Train['F1'])]\n",
    "\n",
    "        # Create the  plot\n",
    "        axs[0, 0].scatter(Curve_Test['FPR'], Curve_Test['TPR'], s=10)\n",
    "        axs[0, 0].axline((0, 0), slope=1, color='r', lw=0.5)\n",
    "        axs[0, 0].set_xlabel('FPR')\n",
    "        axs[0, 0].set_ylabel('TPR')\n",
    "        axs[0, 0].set_title('Test: ROC')\n",
    "        axs[0, 0].set_xlim([0, 1])\n",
    "        axs[0, 0].set_ylim([0, 1])\n",
    "\n",
    "        axs[0, 1].scatter(Curve_Test['T'], Curve_Test['F1'], s=1.5)\n",
    "        axs[0, 1].set_xlabel('Threshold')\n",
    "        axs[0, 1].set_ylabel('F1')\n",
    "        axs[0, 1].set_title('Test: F1 (' + str(round(F1, 3)) + ') T = ' + str(round(Best_T, 3)))\n",
    "        axs[0, 1].axvline(x=Best_T, lw=0.5, alpha=0.5, color='b')\n",
    "        axs[0, 1].set_xlim([0, 1])\n",
    "        axs[0, 1].set_ylim([0, 1])\n",
    "\n",
    "        axs[0, 2].scatter(Curve_Test['T'], Curve_Test['Prec'], s=1.5)\n",
    "        axs[0, 2].axvline(x=Best_T, lw=0.5, alpha=0.5, color='b')\n",
    "        axs[0, 2].set_xlabel('Threshold')\n",
    "        axs[0, 2].set_ylabel('Precision')\n",
    "        axs[0, 2].set_title('Test: Precision (' + str(round(Precision, 3)) + ')')\n",
    "        axs[0, 2].set_xlim([0, 1])\n",
    "        axs[0, 2].set_ylim([0, 1])\n",
    "\n",
    "        axs[0, 3].scatter(Curve_Test['T'], Curve_Test['TPR'], s=1.5)\n",
    "        axs[0, 3].axvline(x=Best_T, lw=0.5, alpha=0.5, color='b')\n",
    "        axs[0, 3].set_xlabel('Threshold')\n",
    "        axs[0, 3].set_ylabel('Recall')\n",
    "        axs[0, 3].set_title('Test: Recall (' + str(round(Recall, 3)) + ')')\n",
    "        axs[0, 3].set_xlim([0, 1])\n",
    "        axs[0, 3].set_ylim([0, 1])\n",
    "\n",
    "        axs[1, 0].scatter(Curve_Train['FPR'], Curve_Train['TPR'], s=10)\n",
    "        axs[1, 0].axline((0, 0), slope=1, color='r', lw=0.5)\n",
    "        axs[1, 0].set_xlabel('FPR')\n",
    "        axs[1, 0].set_ylabel('TPR')\n",
    "        axs[1, 0].set_title('Train: ROC')\n",
    "        axs[1, 0].set_xlim([0, 1])\n",
    "        axs[1, 0].set_ylim([0, 1])\n",
    "\n",
    "        axs[1, 1].scatter(Curve_Train['T'], Curve_Train['F1'], s=1.5)\n",
    "        axs[1, 1].axvline(x=Best_T_Train, lw=0.5, alpha=0.5, color='b')\n",
    "        axs[1, 1].set_xlabel('Threshold')\n",
    "        axs[1, 1].set_ylabel('F1')\n",
    "        axs[1, 1].set_title('Train: F1 (' + str(round(F1_Train, 3)) + ') T = ' + str(round(Best_T_Train, 3)))\n",
    "        axs[1, 1].set_xlim([0, 1])\n",
    "        axs[1, 1].set_ylim([0, 1])\n",
    "\n",
    "        axs[1, 2].scatter(Curve_Train['T'], Curve_Train['Prec'], s=1.5)\n",
    "        axs[1, 2].axvline(x=Best_T_Train, lw=0.5, alpha=0.5, color='b')\n",
    "        axs[1, 2].set_xlabel('Threshold')\n",
    "        axs[1, 2].set_ylabel('Precision')\n",
    "        axs[1, 2].set_title('Train: Precision (' + str(round(Precision_Train, 3)) + ')')\n",
    "        axs[1, 2].set_xlim([0, 1])\n",
    "        axs[1, 2].set_ylim([0, 1])\n",
    "\n",
    "        axs[1, 3].scatter(Curve_Train['T'], Curve_Train['TPR'], s=1.5)\n",
    "        axs[1, 3].axvline(x=Best_T_Train, lw=0.5, alpha=0.5, color='b')\n",
    "        axs[1, 3].set_xlabel('Threshold')\n",
    "        axs[1, 3].set_ylabel('Recall')\n",
    "        axs[1, 3].set_title('Train: Recall (' + str(round(Recall_Train, 3)) + ')')\n",
    "        axs[1, 3].set_xlim([0, 1])\n",
    "        axs[1, 3].set_ylim([0, 1])\n",
    "        return fig\n",
    "    \n",
    "    @staticmethod\n",
    "    def GenerateDates(start,end,train_period,test_period):\n",
    "        dates = pd.DataFrame()\n",
    "        d = start\n",
    "        interval=train_period+test_period\n",
    "        while d + relativedelta(months=interval) <= end:\n",
    "            # print(d,end)\n",
    "            mid=d+relativedelta(months=train_period)\n",
    "            ed = d + relativedelta(months=interval)\n",
    "            dates = dates.append([[d, mid,ed]])\n",
    "            d = d + relativedelta(months=test_period)\n",
    "        dates.columns = ['start','mid', 'end']\n",
    "        return dates\n",
    "\n",
    "Keep_Track()"
   ]
  },
  {
   "cell_type": "markdown",
   "id": "0f761bc9",
   "metadata": {},
   "source": [
    "#### 3. Usage"
   ]
  },
  {
   "cell_type": "code",
   "execution_count": 7,
   "id": "e4965457",
   "metadata": {},
   "outputs": [
    {
     "name": "stderr",
     "output_type": "stream",
     "text": [
      "C:\\Program Files\\Anaconda3\\envs\\DataScience\\lib\\site-packages\\pandas\\core\\arraylike.py:364: RuntimeWarning: divide by zero encountered in log\n",
      "  result = getattr(ufunc, method)(*inputs, **kwargs)\n"
     ]
    },
    {
     "name": "stdout",
     "output_type": "stream",
     "text": [
      "* Train / Test split with ~\n",
      "         - Forecast field: results\n",
      "         - Training      : 2021-05-01 -> 2022-02-01\n",
      "         - Testing       : 2022-02-01 -> 2022-05-01\n",
      "\n",
      "* Test Length   : 1565\n",
      "* Train Length  : 4868\n",
      "* X shape       : (4868, 22)\n",
      "* Y shape       : (4868,)\n",
      "Train Skew      :  0.5281429745275267\n",
      "Test Skew       :  0.40894568690095845\n",
      "Model trained\n",
      "-------------\n",
      "Features   : 22\n",
      "\n",
      "* Testing set\n",
      "  - Accuracy : 0.604\n",
      "  - Precision: 0.52\n",
      "  - Recall   : 0.423\n",
      "  - F1       : 0.467\n",
      "\n",
      "* Training set\n",
      "  - Accuracy : 0.667\n",
      "  - Precision: 0.668\n",
      "  - Recall   : 0.734\n",
      "  - F1       : 0.699\n"
     ]
    },
    {
     "name": "stderr",
     "output_type": "stream",
     "text": [
      "C:\\Program Files\\Anaconda3\\envs\\DataScience\\lib\\site-packages\\sklearn\\utils\\deprecation.py:87: FutureWarning: Function plot_confusion_matrix is deprecated; Function `plot_confusion_matrix` is deprecated in 1.0 and will be removed in 1.2. Use one of the class methods: ConfusionMatrixDisplay.from_predictions or ConfusionMatrixDisplay.from_estimator.\n",
      "  warnings.warn(msg, category=FutureWarning)\n"
     ]
    },
    {
     "data": {
      "image/png": "[encoded data removed]",
      "text/plain": [
       "<Figure size 432x288 with 2 Axes>"
      ]
     },
     "metadata": {
      "needs_background": "light"
     },
     "output_type": "display_data"
    }
   ],
   "source": [
    "start = '2021-05-01'\n",
    "mid ='2022-02-01'\n",
    "end = '2022-05-01'\n",
    "\n",
    "# data = pd.read_feather('./Data/backtesting_vt_Bostock.feather')\n",
    "data = pd.read_feather('./Data/backtesting_vt_Bostock_2Y.feather')\n",
    "lag = [60, 180]\n",
    "return_threshold = 0.0008\n",
    "return_threshold = 0.00128\n",
    "return_threshold = 0.0015\n",
    "max_depth = 6\n",
    "n_estimators = 10\n",
    "random_state = 101\n",
    "\n",
    "factor_functions = [Features.cal_close_avg, Features.cal_bk_return, Features.cal_high_low, Features.cal_max_mean,\n",
    "                    Features.cal_min_mean,\n",
    "                    Features.cal_volume_avg, Features.cal_max_mean_volume, Features.cal_min_mean_volume,\n",
    "                    Features.cal_std, Features.r_zscore, Features.Parkinson]\n",
    "\n",
    "\n",
    "# Create the class\n",
    "ml = MachineLearning(data)\n",
    "\n",
    "# # Generate the features\n",
    "ml.GenerateFeature(lag,factor_functions,return_threshold)\n",
    "\n",
    "Forecast_Field = 'results'\n",
    "Features_Field = [idx for idx in ml.data.columns if idx[:6] == 'Factor']\n",
    "\n",
    "\n",
    "ml.RunModel(max_depth,n_estimators,random_state,'Open Time',Forecast_Field,Features_Field,start,mid,end)"
   ]
  },
  {
   "cell_type": "code",
   "execution_count": 10,
   "id": "13484017",
   "metadata": {},
   "outputs": [
    {
     "name": "stdout",
     "output_type": "stream",
     "text": [
      "* Max Drawdown: -0.1375733890619073\n",
      "* Sharpe: 0.6406373856230583\n"
     ]
    }
   ],
   "source": [
    "print('* Max Drawdown:', ml.max_dd)\n",
    "print('* Sharpe:', ml.sharpe)\n"
   ]
  },
  {
   "cell_type": "markdown",
   "id": "e1e38311",
   "metadata": {},
   "source": [
    "$\\color{blue}{\\text{Testing:}}$"
   ]
  },
  {
   "cell_type": "code",
   "execution_count": null,
   "id": "40c24bd8",
   "metadata": {},
   "outputs": [],
   "source": [
    "# np.save('ModelOutput', ml.ForecastsTestY)\n",
    "# ml.ForecastsTestY"
   ]
  },
  {
   "cell_type": "markdown",
   "id": "705b845e",
   "metadata": {},
   "source": [
    "#### 4. Stresses and rolling validation"
   ]
  },
  {
   "cell_type": "code",
   "execution_count": 12,
   "id": "d188d33a",
   "metadata": {},
   "outputs": [
    {
     "name": "stderr",
     "output_type": "stream",
     "text": [
      "C:\\Program Files\\Anaconda3\\envs\\DataScience\\lib\\site-packages\\pandas\\core\\arraylike.py:364: RuntimeWarning: divide by zero encountered in log\n",
      "  result = getattr(ufunc, method)(*inputs, **kwargs)\n"
     ]
    },
    {
     "name": "stdout",
     "output_type": "stream",
     "text": [
      "* Train / Test split with ~\n",
      "         - Forecast field: results\n",
      "         - Training      : 2021-05-01 -> 2022-02-01\n",
      "         - Testing       : 2022-02-01 -> 2022-05-01\n",
      "\n",
      "* Test Length   : 1565\n",
      "* Train Length  : 4868\n",
      "* X shape       : (4868, 22)\n",
      "* Y shape       : (4868,)\n",
      "Train Skew      :  0.6994658997534922\n",
      "Test Skew       :  0.6849840255591054\n",
      "Model trained\n",
      "-------------\n",
      "Features   : 22\n",
      "\n",
      "* Testing set\n",
      "  - Accuracy : 0.584\n",
      "  - Precision: 0.702\n",
      "  - Recall   : 0.683\n",
      "  - F1       : 0.692\n",
      "\n",
      "* Training set\n",
      "  - Accuracy : 0.709\n",
      "  - Precision: 0.808\n",
      "  - Recall   : 0.765\n",
      "  - F1       : 0.786\n"
     ]
    },
    {
     "name": "stderr",
     "output_type": "stream",
     "text": [
      "C:\\Program Files\\Anaconda3\\envs\\DataScience\\lib\\site-packages\\sklearn\\utils\\deprecation.py:87: FutureWarning: Function plot_confusion_matrix is deprecated; Function `plot_confusion_matrix` is deprecated in 1.0 and will be removed in 1.2. Use one of the class methods: ConfusionMatrixDisplay.from_predictions or ConfusionMatrixDisplay.from_estimator.\n",
      "  warnings.warn(msg, category=FutureWarning)\n",
      "C:\\Program Files\\Anaconda3\\envs\\DataScience\\lib\\site-packages\\pandas\\core\\arraylike.py:364: RuntimeWarning: divide by zero encountered in log\n",
      "  result = getattr(ufunc, method)(*inputs, **kwargs)\n"
     ]
    },
    {
     "name": "stdout",
     "output_type": "stream",
     "text": [
      "* Train / Test split with ~\n",
      "         - Forecast field: results\n",
      "         - Training      : 2021-05-01 -> 2022-02-01\n",
      "         - Testing       : 2022-02-01 -> 2022-05-01\n",
      "\n",
      "* Test Length   : 1565\n",
      "* Train Length  : 4868\n",
      "* X shape       : (4868, 22)\n",
      "* Y shape       : (4868,)\n",
      "Train Skew      :  0.6920706655710764\n",
      "Test Skew       :  0.6766773162939297\n",
      "Model trained\n",
      "-------------\n",
      "Features   : 22\n",
      "\n",
      "* Testing set\n",
      "  - Accuracy : 0.566\n",
      "  - Precision: 0.706\n",
      "  - Recall   : 0.616\n",
      "  - F1       : 0.658\n",
      "\n",
      "* Training set\n",
      "  - Accuracy : 0.719\n",
      "  - Precision: 0.796\n",
      "  - Recall   : 0.798\n",
      "  - F1       : 0.797\n"
     ]
    },
    {
     "name": "stderr",
     "output_type": "stream",
     "text": [
      "C:\\Program Files\\Anaconda3\\envs\\DataScience\\lib\\site-packages\\sklearn\\utils\\deprecation.py:87: FutureWarning: Function plot_confusion_matrix is deprecated; Function `plot_confusion_matrix` is deprecated in 1.0 and will be removed in 1.2. Use one of the class methods: ConfusionMatrixDisplay.from_predictions or ConfusionMatrixDisplay.from_estimator.\n",
      "  warnings.warn(msg, category=FutureWarning)\n",
      "C:\\Program Files\\Anaconda3\\envs\\DataScience\\lib\\site-packages\\pandas\\core\\arraylike.py:364: RuntimeWarning: divide by zero encountered in log\n",
      "  result = getattr(ufunc, method)(*inputs, **kwargs)\n"
     ]
    },
    {
     "name": "stdout",
     "output_type": "stream",
     "text": [
      "* Train / Test split with ~\n",
      "         - Forecast field: results\n",
      "         - Training      : 2021-05-01 -> 2022-02-01\n",
      "         - Testing       : 2022-02-01 -> 2022-05-01\n",
      "\n",
      "* Test Length   : 1565\n",
      "* Train Length  : 4868\n",
      "* X shape       : (4868, 22)\n",
      "* Y shape       : (4868,)\n",
      "Train Skew      :  0.684264585045193\n",
      "Test Skew       :  0.6702875399361022\n",
      "Model trained\n",
      "-------------\n",
      "Features   : 22\n",
      "\n",
      "* Testing set\n",
      "  - Accuracy : 0.539\n",
      "  - Precision: 0.674\n",
      "  - Recall   : 0.604\n",
      "  - F1       : 0.637\n",
      "\n",
      "* Training set\n",
      "  - Accuracy : 0.703\n",
      "  - Precision: 0.779\n",
      "  - Recall   : 0.791\n",
      "  - F1       : 0.785\n"
     ]
    },
    {
     "name": "stderr",
     "output_type": "stream",
     "text": [
      "C:\\Program Files\\Anaconda3\\envs\\DataScience\\lib\\site-packages\\sklearn\\utils\\deprecation.py:87: FutureWarning: Function plot_confusion_matrix is deprecated; Function `plot_confusion_matrix` is deprecated in 1.0 and will be removed in 1.2. Use one of the class methods: ConfusionMatrixDisplay.from_predictions or ConfusionMatrixDisplay.from_estimator.\n",
      "  warnings.warn(msg, category=FutureWarning)\n",
      "C:\\Program Files\\Anaconda3\\envs\\DataScience\\lib\\site-packages\\pandas\\core\\arraylike.py:364: RuntimeWarning: divide by zero encountered in log\n",
      "  result = getattr(ufunc, method)(*inputs, **kwargs)\n"
     ]
    },
    {
     "name": "stdout",
     "output_type": "stream",
     "text": [
      "* Train / Test split with ~\n",
      "         - Forecast field: results\n",
      "         - Training      : 2021-05-01 -> 2022-02-01\n",
      "         - Testing       : 2022-02-01 -> 2022-05-01\n",
      "\n",
      "* Test Length   : 1565\n",
      "* Train Length  : 4868\n",
      "* X shape       : (4868, 22)\n",
      "* Y shape       : (4868,)\n",
      "Train Skew      :  0.6756368118323747\n",
      "Test Skew       :  0.6504792332268371\n",
      "Model trained\n",
      "-------------\n",
      "Features   : 22\n",
      "\n",
      "* Testing set\n",
      "  - Accuracy : 0.527\n",
      "  - Precision: 0.66\n",
      "  - Recall   : 0.563\n",
      "  - F1       : 0.608\n",
      "\n",
      "* Training set\n",
      "  - Accuracy : 0.683\n",
      "  - Precision: 0.767\n",
      "  - Recall   : 0.762\n",
      "  - F1       : 0.765\n"
     ]
    },
    {
     "name": "stderr",
     "output_type": "stream",
     "text": [
      "C:\\Program Files\\Anaconda3\\envs\\DataScience\\lib\\site-packages\\sklearn\\utils\\deprecation.py:87: FutureWarning: Function plot_confusion_matrix is deprecated; Function `plot_confusion_matrix` is deprecated in 1.0 and will be removed in 1.2. Use one of the class methods: ConfusionMatrixDisplay.from_predictions or ConfusionMatrixDisplay.from_estimator.\n",
      "  warnings.warn(msg, category=FutureWarning)\n",
      "C:\\Program Files\\Anaconda3\\envs\\DataScience\\lib\\site-packages\\pandas\\core\\arraylike.py:364: RuntimeWarning: divide by zero encountered in log\n",
      "  result = getattr(ufunc, method)(*inputs, **kwargs)\n"
     ]
    },
    {
     "name": "stdout",
     "output_type": "stream",
     "text": [
      "* Train / Test split with ~\n",
      "         - Forecast field: results\n",
      "         - Training      : 2021-05-01 -> 2022-02-01\n",
      "         - Testing       : 2022-02-01 -> 2022-05-01\n",
      "\n",
      "* Test Length   : 1565\n",
      "* Train Length  : 4868\n",
      "* X shape       : (4868, 22)\n",
      "* Y shape       : (4868,)\n",
      "Train Skew      :  0.6688578471651603\n",
      "Test Skew       :  0.6383386581469649\n",
      "Model trained\n",
      "-------------\n",
      "Features   : 22\n",
      "\n",
      "* Testing set\n",
      "  - Accuracy : 0.537\n",
      "  - Precision: 0.654\n",
      "  - Recall   : 0.584\n",
      "  - F1       : 0.617\n",
      "\n",
      "* Training set\n",
      "  - Accuracy : 0.682\n",
      "  - Precision: 0.755\n",
      "  - Recall   : 0.776\n",
      "  - F1       : 0.765\n"
     ]
    },
    {
     "name": "stderr",
     "output_type": "stream",
     "text": [
      "C:\\Program Files\\Anaconda3\\envs\\DataScience\\lib\\site-packages\\sklearn\\utils\\deprecation.py:87: FutureWarning: Function plot_confusion_matrix is deprecated; Function `plot_confusion_matrix` is deprecated in 1.0 and will be removed in 1.2. Use one of the class methods: ConfusionMatrixDisplay.from_predictions or ConfusionMatrixDisplay.from_estimator.\n",
      "  warnings.warn(msg, category=FutureWarning)\n",
      "C:\\Program Files\\Anaconda3\\envs\\DataScience\\lib\\site-packages\\pandas\\core\\arraylike.py:364: RuntimeWarning: divide by zero encountered in log\n",
      "  result = getattr(ufunc, method)(*inputs, **kwargs)\n"
     ]
    },
    {
     "name": "stdout",
     "output_type": "stream",
     "text": [
      "* Train / Test split with ~\n",
      "         - Forecast field: results\n",
      "         - Training      : 2021-05-01 -> 2022-02-01\n",
      "         - Testing       : 2022-02-01 -> 2022-05-01\n",
      "\n",
      "* Test Length   : 1565\n",
      "* Train Length  : 4868\n",
      "* X shape       : (4868, 22)\n",
      "* Y shape       : (4868,)\n",
      "Train Skew      :  0.6585866885784717\n",
      "Test Skew       :  0.6236421725239617\n",
      "Model trained\n",
      "-------------\n",
      "Features   : 22\n",
      "\n",
      "* Testing set\n",
      "  - Accuracy : 0.532\n",
      "  - Precision: 0.641\n",
      "  - Recall   : 0.566\n",
      "  - F1       : 0.601\n",
      "\n",
      "* Training set\n",
      "  - Accuracy : 0.692\n",
      "  - Precision: 0.76\n",
      "  - Recall   : 0.778\n",
      "  - F1       : 0.769\n"
     ]
    },
    {
     "name": "stderr",
     "output_type": "stream",
     "text": [
      "C:\\Program Files\\Anaconda3\\envs\\DataScience\\lib\\site-packages\\sklearn\\utils\\deprecation.py:87: FutureWarning: Function plot_confusion_matrix is deprecated; Function `plot_confusion_matrix` is deprecated in 1.0 and will be removed in 1.2. Use one of the class methods: ConfusionMatrixDisplay.from_predictions or ConfusionMatrixDisplay.from_estimator.\n",
      "  warnings.warn(msg, category=FutureWarning)\n",
      "C:\\Program Files\\Anaconda3\\envs\\DataScience\\lib\\site-packages\\pandas\\core\\arraylike.py:364: RuntimeWarning: divide by zero encountered in log\n",
      "  result = getattr(ufunc, method)(*inputs, **kwargs)\n"
     ]
    },
    {
     "name": "stdout",
     "output_type": "stream",
     "text": [
      "* Train / Test split with ~\n",
      "         - Forecast field: results\n",
      "         - Training      : 2021-05-01 -> 2022-02-01\n",
      "         - Testing       : 2022-02-01 -> 2022-05-01\n",
      "\n",
      "* Test Length   : 1565\n",
      "* Train Length  : 4868\n",
      "* X shape       : (4868, 22)\n",
      "* Y shape       : (4868,)\n",
      "Train Skew      :  0.649342645850452\n",
      "Test Skew       :  0.6083067092651757\n",
      "Model trained\n",
      "-------------\n",
      "Features   : 22\n",
      "\n",
      "* Testing set\n",
      "  - Accuracy : 0.512\n",
      "  - Precision: 0.623\n",
      "  - Recall   : 0.502\n",
      "  - F1       : 0.556\n",
      "\n",
      "* Training set\n",
      "  - Accuracy : 0.685\n",
      "  - Precision: 0.759\n",
      "  - Recall   : 0.754\n",
      "  - F1       : 0.756\n"
     ]
    },
    {
     "name": "stderr",
     "output_type": "stream",
     "text": [
      "C:\\Program Files\\Anaconda3\\envs\\DataScience\\lib\\site-packages\\sklearn\\utils\\deprecation.py:87: FutureWarning: Function plot_confusion_matrix is deprecated; Function `plot_confusion_matrix` is deprecated in 1.0 and will be removed in 1.2. Use one of the class methods: ConfusionMatrixDisplay.from_predictions or ConfusionMatrixDisplay.from_estimator.\n",
      "  warnings.warn(msg, category=FutureWarning)\n",
      "C:\\Program Files\\Anaconda3\\envs\\DataScience\\lib\\site-packages\\pandas\\core\\arraylike.py:364: RuntimeWarning: divide by zero encountered in log\n",
      "  result = getattr(ufunc, method)(*inputs, **kwargs)\n"
     ]
    },
    {
     "name": "stdout",
     "output_type": "stream",
     "text": [
      "* Train / Test split with ~\n",
      "         - Forecast field: results\n",
      "         - Training      : 2021-05-01 -> 2022-02-01\n",
      "         - Testing       : 2022-02-01 -> 2022-05-01\n",
      "\n",
      "* Test Length   : 1565\n",
      "* Train Length  : 4868\n",
      "* X shape       : (4868, 22)\n",
      "* Y shape       : (4868,)\n",
      "Train Skew      :  0.6372226787181594\n",
      "Test Skew       :  0.5897763578274761\n",
      "Model trained\n",
      "-------------\n",
      "Features   : 22\n",
      "\n",
      "* Testing set\n",
      "  - Accuracy : 0.501\n",
      "  - Precision: 0.612\n",
      "  - Recall   : 0.421\n",
      "  - F1       : 0.499\n",
      "\n",
      "* Training set\n",
      "  - Accuracy : 0.666\n",
      "  - Precision: 0.752\n",
      "  - Recall   : 0.711\n",
      "  - F1       : 0.731\n"
     ]
    },
    {
     "name": "stderr",
     "output_type": "stream",
     "text": [
      "C:\\Program Files\\Anaconda3\\envs\\DataScience\\lib\\site-packages\\sklearn\\utils\\deprecation.py:87: FutureWarning: Function plot_confusion_matrix is deprecated; Function `plot_confusion_matrix` is deprecated in 1.0 and will be removed in 1.2. Use one of the class methods: ConfusionMatrixDisplay.from_predictions or ConfusionMatrixDisplay.from_estimator.\n",
      "  warnings.warn(msg, category=FutureWarning)\n",
      "C:\\Program Files\\Anaconda3\\envs\\DataScience\\lib\\site-packages\\pandas\\core\\arraylike.py:364: RuntimeWarning: divide by zero encountered in log\n",
      "  result = getattr(ufunc, method)(*inputs, **kwargs)\n"
     ]
    },
    {
     "name": "stdout",
     "output_type": "stream",
     "text": [
      "* Train / Test split with ~\n",
      "         - Forecast field: results\n",
      "         - Training      : 2021-05-01 -> 2022-02-01\n",
      "         - Testing       : 2022-02-01 -> 2022-05-01\n",
      "\n",
      "* Test Length   : 1565\n",
      "* Train Length  : 4868\n",
      "* X shape       : (4868, 22)\n",
      "* Y shape       : (4868,)\n",
      "Train Skew      :  0.6275677896466721\n",
      "Test Skew       :  0.5680511182108626\n",
      "Model trained\n",
      "-------------\n",
      "Features   : 22\n",
      "\n",
      "* Testing set\n",
      "  - Accuracy : 0.496\n",
      "  - Precision: 0.567\n",
      "  - Recall   : 0.478\n",
      "  - F1       : 0.519\n",
      "\n",
      "* Training set\n",
      "  - Accuracy : 0.662\n",
      "  - Precision: 0.735\n",
      "  - Recall   : 0.721\n",
      "  - F1       : 0.728\n"
     ]
    },
    {
     "name": "stderr",
     "output_type": "stream",
     "text": [
      "C:\\Program Files\\Anaconda3\\envs\\DataScience\\lib\\site-packages\\sklearn\\utils\\deprecation.py:87: FutureWarning: Function plot_confusion_matrix is deprecated; Function `plot_confusion_matrix` is deprecated in 1.0 and will be removed in 1.2. Use one of the class methods: ConfusionMatrixDisplay.from_predictions or ConfusionMatrixDisplay.from_estimator.\n",
      "  warnings.warn(msg, category=FutureWarning)\n",
      "C:\\Program Files\\Anaconda3\\envs\\DataScience\\lib\\site-packages\\pandas\\core\\arraylike.py:364: RuntimeWarning: divide by zero encountered in log\n",
      "  result = getattr(ufunc, method)(*inputs, **kwargs)\n"
     ]
    },
    {
     "name": "stdout",
     "output_type": "stream",
     "text": [
      "* Train / Test split with ~\n",
      "         - Forecast field: results\n",
      "         - Training      : 2021-05-01 -> 2022-02-01\n",
      "         - Testing       : 2022-02-01 -> 2022-05-01\n",
      "\n",
      "* Test Length   : 1565\n",
      "* Train Length  : 4868\n",
      "* X shape       : (4868, 22)\n",
      "* Y shape       : (4868,)\n",
      "Train Skew      :  0.6164749383730485\n",
      "Test Skew       :  0.552076677316294\n",
      "Model trained\n",
      "-------------\n",
      "Features   : 22\n",
      "\n",
      "* Testing set\n",
      "  - Accuracy : 0.506\n",
      "  - Precision: 0.58\n",
      "  - Recall   : 0.381\n",
      "  - F1       : 0.46\n",
      "\n",
      "* Training set\n",
      "  - Accuracy : 0.647\n",
      "  - Precision: 0.707\n",
      "  - Recall   : 0.73\n",
      "  - F1       : 0.718\n"
     ]
    },
    {
     "name": "stderr",
     "output_type": "stream",
     "text": [
      "C:\\Program Files\\Anaconda3\\envs\\DataScience\\lib\\site-packages\\sklearn\\utils\\deprecation.py:87: FutureWarning: Function plot_confusion_matrix is deprecated; Function `plot_confusion_matrix` is deprecated in 1.0 and will be removed in 1.2. Use one of the class methods: ConfusionMatrixDisplay.from_predictions or ConfusionMatrixDisplay.from_estimator.\n",
      "  warnings.warn(msg, category=FutureWarning)\n",
      "C:\\Program Files\\Anaconda3\\envs\\DataScience\\lib\\site-packages\\pandas\\core\\arraylike.py:364: RuntimeWarning: divide by zero encountered in log\n",
      "  result = getattr(ufunc, method)(*inputs, **kwargs)\n"
     ]
    },
    {
     "name": "stdout",
     "output_type": "stream",
     "text": [
      "* Train / Test split with ~\n",
      "         - Forecast field: results\n",
      "         - Training      : 2021-05-01 -> 2022-02-01\n",
      "         - Testing       : 2022-02-01 -> 2022-05-01\n",
      "\n",
      "* Test Length   : 1565\n",
      "* Train Length  : 4868\n",
      "* X shape       : (4868, 22)\n",
      "* Y shape       : (4868,)\n",
      "Train Skew      :  0.6018898931799507\n",
      "Test Skew       :  0.5297124600638977\n",
      "Model trained\n",
      "-------------\n",
      "Features   : 22\n",
      "\n",
      "* Testing set\n",
      "  - Accuracy : 0.526\n",
      "  - Precision: 0.572\n",
      "  - Recall   : 0.419\n",
      "  - F1       : 0.483\n",
      "\n",
      "* Training set\n",
      "  - Accuracy : 0.66\n",
      "  - Precision: 0.711\n",
      "  - Recall   : 0.732\n",
      "  - F1       : 0.721\n"
     ]
    },
    {
     "name": "stderr",
     "output_type": "stream",
     "text": [
      "C:\\Program Files\\Anaconda3\\envs\\DataScience\\lib\\site-packages\\sklearn\\utils\\deprecation.py:87: FutureWarning: Function plot_confusion_matrix is deprecated; Function `plot_confusion_matrix` is deprecated in 1.0 and will be removed in 1.2. Use one of the class methods: ConfusionMatrixDisplay.from_predictions or ConfusionMatrixDisplay.from_estimator.\n",
      "  warnings.warn(msg, category=FutureWarning)\n",
      "C:\\Program Files\\Anaconda3\\envs\\DataScience\\lib\\site-packages\\pandas\\core\\arraylike.py:364: RuntimeWarning: divide by zero encountered in log\n",
      "  result = getattr(ufunc, method)(*inputs, **kwargs)\n"
     ]
    },
    {
     "name": "stdout",
     "output_type": "stream",
     "text": [
      "* Train / Test split with ~\n",
      "         - Forecast field: results\n",
      "         - Training      : 2021-05-01 -> 2022-02-01\n",
      "         - Testing       : 2022-02-01 -> 2022-05-01\n",
      "\n",
      "* Test Length   : 1565\n",
      "* Train Length  : 4868\n",
      "* X shape       : (4868, 22)\n",
      "* Y shape       : (4868,)\n",
      "Train Skew      :  0.5875102711585867\n",
      "Test Skew       :  0.5073482428115016\n",
      "Model trained\n",
      "-------------\n",
      "Features   : 22\n",
      "\n",
      "* Testing set\n",
      "  - Accuracy : 0.528\n",
      "  - Precision: 0.549\n",
      "  - Recall   : 0.398\n",
      "  - F1       : 0.461\n",
      "\n",
      "* Training set\n",
      "  - Accuracy : 0.668\n",
      "  - Precision: 0.703\n",
      "  - Recall   : 0.752\n",
      "  - F1       : 0.727\n"
     ]
    },
    {
     "name": "stderr",
     "output_type": "stream",
     "text": [
      "C:\\Program Files\\Anaconda3\\envs\\DataScience\\lib\\site-packages\\sklearn\\utils\\deprecation.py:87: FutureWarning: Function plot_confusion_matrix is deprecated; Function `plot_confusion_matrix` is deprecated in 1.0 and will be removed in 1.2. Use one of the class methods: ConfusionMatrixDisplay.from_predictions or ConfusionMatrixDisplay.from_estimator.\n",
      "  warnings.warn(msg, category=FutureWarning)\n",
      "C:\\Program Files\\Anaconda3\\envs\\DataScience\\lib\\site-packages\\pandas\\core\\arraylike.py:364: RuntimeWarning: divide by zero encountered in log\n",
      "  result = getattr(ufunc, method)(*inputs, **kwargs)\n"
     ]
    },
    {
     "name": "stdout",
     "output_type": "stream",
     "text": [
      "* Train / Test split with ~\n",
      "         - Forecast field: results\n",
      "         - Training      : 2021-05-01 -> 2022-02-01\n",
      "         - Testing       : 2022-02-01 -> 2022-05-01\n",
      "\n",
      "* Test Length   : 1565\n",
      "* Train Length  : 4868\n",
      "* X shape       : (4868, 22)\n",
      "* Y shape       : (4868,)\n",
      "Train Skew      :  0.5770336894001643\n",
      "Test Skew       :  0.4830670926517572\n",
      "Model trained\n",
      "-------------\n",
      "Features   : 22\n",
      "\n",
      "* Testing set\n",
      "  - Accuracy : 0.554\n",
      "  - Precision: 0.553\n",
      "  - Recall   : 0.401\n",
      "  - F1       : 0.465\n",
      "\n",
      "* Training set\n",
      "  - Accuracy : 0.665\n",
      "  - Precision: 0.697\n",
      "  - Recall   : 0.742\n",
      "  - F1       : 0.719\n"
     ]
    },
    {
     "name": "stderr",
     "output_type": "stream",
     "text": [
      "C:\\Program Files\\Anaconda3\\envs\\DataScience\\lib\\site-packages\\sklearn\\utils\\deprecation.py:87: FutureWarning: Function plot_confusion_matrix is deprecated; Function `plot_confusion_matrix` is deprecated in 1.0 and will be removed in 1.2. Use one of the class methods: ConfusionMatrixDisplay.from_predictions or ConfusionMatrixDisplay.from_estimator.\n",
      "  warnings.warn(msg, category=FutureWarning)\n",
      "C:\\Program Files\\Anaconda3\\envs\\DataScience\\lib\\site-packages\\pandas\\core\\arraylike.py:364: RuntimeWarning: divide by zero encountered in log\n",
      "  result = getattr(ufunc, method)(*inputs, **kwargs)\n"
     ]
    },
    {
     "name": "stdout",
     "output_type": "stream",
     "text": [
      "* Train / Test split with ~\n",
      "         - Forecast field: results\n",
      "         - Training      : 2021-05-01 -> 2022-02-01\n",
      "         - Testing       : 2022-02-01 -> 2022-05-01\n",
      "\n",
      "* Test Length   : 1565\n",
      "* Train Length  : 4868\n",
      "* X shape       : (4868, 22)\n",
      "* Y shape       : (4868,)\n",
      "Train Skew      :  0.5605998356614627\n",
      "Test Skew       :  0.4645367412140575\n",
      "Model trained\n",
      "-------------\n",
      "Features   : 22\n",
      "\n",
      "* Testing set\n",
      "  - Accuracy : 0.565\n",
      "  - Precision: 0.546\n",
      "  - Recall   : 0.384\n",
      "  - F1       : 0.451\n",
      "\n",
      "* Training set\n",
      "  - Accuracy : 0.664\n",
      "  - Precision: 0.683\n",
      "  - Recall   : 0.75\n",
      "  - F1       : 0.715\n"
     ]
    },
    {
     "name": "stderr",
     "output_type": "stream",
     "text": [
      "C:\\Program Files\\Anaconda3\\envs\\DataScience\\lib\\site-packages\\sklearn\\utils\\deprecation.py:87: FutureWarning: Function plot_confusion_matrix is deprecated; Function `plot_confusion_matrix` is deprecated in 1.0 and will be removed in 1.2. Use one of the class methods: ConfusionMatrixDisplay.from_predictions or ConfusionMatrixDisplay.from_estimator.\n",
      "  warnings.warn(msg, category=FutureWarning)\n",
      "C:\\Program Files\\Anaconda3\\envs\\DataScience\\lib\\site-packages\\pandas\\core\\arraylike.py:364: RuntimeWarning: divide by zero encountered in log\n",
      "  result = getattr(ufunc, method)(*inputs, **kwargs)\n"
     ]
    },
    {
     "name": "stdout",
     "output_type": "stream",
     "text": [
      "* Train / Test split with ~\n",
      "         - Forecast field: results\n",
      "         - Training      : 2021-05-01 -> 2022-02-01\n",
      "         - Testing       : 2022-02-01 -> 2022-05-01\n",
      "\n",
      "* Test Length   : 1565\n",
      "* Train Length  : 4868\n",
      "* X shape       : (4868, 22)\n",
      "* Y shape       : (4868,)\n",
      "Train Skew      :  0.543138866064092\n",
      "Test Skew       :  0.43322683706070286\n",
      "Model trained\n",
      "-------------\n",
      "Features   : 22\n",
      "\n",
      "* Testing set\n",
      "  - Accuracy : 0.593\n",
      "  - Precision: 0.541\n",
      "  - Recall   : 0.4\n",
      "  - F1       : 0.46\n",
      "\n",
      "* Training set\n",
      "  - Accuracy : 0.663\n",
      "  - Precision: 0.679\n",
      "  - Recall   : 0.72\n",
      "  - F1       : 0.699\n"
     ]
    },
    {
     "name": "stderr",
     "output_type": "stream",
     "text": [
      "C:\\Program Files\\Anaconda3\\envs\\DataScience\\lib\\site-packages\\sklearn\\utils\\deprecation.py:87: FutureWarning: Function plot_confusion_matrix is deprecated; Function `plot_confusion_matrix` is deprecated in 1.0 and will be removed in 1.2. Use one of the class methods: ConfusionMatrixDisplay.from_predictions or ConfusionMatrixDisplay.from_estimator.\n",
      "  warnings.warn(msg, category=FutureWarning)\n",
      "C:\\Program Files\\Anaconda3\\envs\\DataScience\\lib\\site-packages\\pandas\\core\\arraylike.py:364: RuntimeWarning: divide by zero encountered in log\n",
      "  result = getattr(ufunc, method)(*inputs, **kwargs)\n"
     ]
    },
    {
     "name": "stdout",
     "output_type": "stream",
     "text": [
      "* Train / Test split with ~\n",
      "         - Forecast field: results\n",
      "         - Training      : 2021-05-01 -> 2022-02-01\n",
      "         - Testing       : 2022-02-01 -> 2022-05-01\n",
      "\n",
      "* Test Length   : 1565\n",
      "* Train Length  : 4868\n",
      "* X shape       : (4868, 22)\n",
      "* Y shape       : (4868,)\n",
      "Train Skew      :  0.5281429745275267\n",
      "Test Skew       :  0.40894568690095845\n",
      "Model trained\n",
      "-------------\n",
      "Features   : 22\n",
      "\n",
      "* Testing set\n",
      "  - Accuracy : 0.604\n",
      "  - Precision: 0.52\n",
      "  - Recall   : 0.423\n",
      "  - F1       : 0.467\n",
      "\n",
      "* Training set\n",
      "  - Accuracy : 0.667\n",
      "  - Precision: 0.668\n",
      "  - Recall   : 0.734\n",
      "  - F1       : 0.699\n"
     ]
    },
    {
     "name": "stderr",
     "output_type": "stream",
     "text": [
      "C:\\Program Files\\Anaconda3\\envs\\DataScience\\lib\\site-packages\\sklearn\\utils\\deprecation.py:87: FutureWarning: Function plot_confusion_matrix is deprecated; Function `plot_confusion_matrix` is deprecated in 1.0 and will be removed in 1.2. Use one of the class methods: ConfusionMatrixDisplay.from_predictions or ConfusionMatrixDisplay.from_estimator.\n",
      "  warnings.warn(msg, category=FutureWarning)\n",
      "C:\\Program Files\\Anaconda3\\envs\\DataScience\\lib\\site-packages\\pandas\\core\\arraylike.py:364: RuntimeWarning: divide by zero encountered in log\n",
      "  result = getattr(ufunc, method)(*inputs, **kwargs)\n"
     ]
    },
    {
     "name": "stdout",
     "output_type": "stream",
     "text": [
      "* Train / Test split with ~\n",
      "         - Forecast field: results\n",
      "         - Training      : 2021-05-01 -> 2022-02-01\n",
      "         - Testing       : 2022-02-01 -> 2022-05-01\n",
      "\n",
      "* Test Length   : 1565\n",
      "* Train Length  : 4868\n",
      "* X shape       : (4868, 22)\n",
      "* Y shape       : (4868,)\n",
      "Train Skew      :  0.5104765817584224\n",
      "Test Skew       :  0.38466453674121404\n",
      "Model trained\n",
      "-------------\n",
      "Features   : 22\n",
      "\n",
      "* Testing set\n",
      "  - Accuracy : 0.622\n",
      "  - Precision: 0.511\n",
      "  - Recall   : 0.44\n",
      "  - F1       : 0.473\n",
      "\n",
      "* Training set\n",
      "  - Accuracy : 0.674\n",
      "  - Precision: 0.659\n",
      "  - Recall   : 0.749\n",
      "  - F1       : 0.701\n"
     ]
    },
    {
     "name": "stderr",
     "output_type": "stream",
     "text": [
      "C:\\Program Files\\Anaconda3\\envs\\DataScience\\lib\\site-packages\\sklearn\\utils\\deprecation.py:87: FutureWarning: Function plot_confusion_matrix is deprecated; Function `plot_confusion_matrix` is deprecated in 1.0 and will be removed in 1.2. Use one of the class methods: ConfusionMatrixDisplay.from_predictions or ConfusionMatrixDisplay.from_estimator.\n",
      "  warnings.warn(msg, category=FutureWarning)\n",
      "C:\\Program Files\\Anaconda3\\envs\\DataScience\\lib\\site-packages\\pandas\\core\\arraylike.py:364: RuntimeWarning: divide by zero encountered in log\n",
      "  result = getattr(ufunc, method)(*inputs, **kwargs)\n"
     ]
    },
    {
     "name": "stdout",
     "output_type": "stream",
     "text": [
      "* Train / Test split with ~\n",
      "         - Forecast field: results\n",
      "         - Training      : 2021-05-01 -> 2022-02-01\n",
      "         - Testing       : 2022-02-01 -> 2022-05-01\n",
      "\n",
      "* Test Length   : 1565\n",
      "* Train Length  : 4868\n",
      "* X shape       : (4868, 22)\n",
      "* Y shape       : (4868,)\n",
      "Train Skew      :  0.4926047658175842\n",
      "Test Skew       :  0.3610223642172524\n",
      "Model trained\n",
      "-------------\n",
      "Features   : 22\n",
      "\n",
      "* Testing set\n",
      "  - Accuracy : 0.625\n",
      "  - Precision: 0.479\n",
      "  - Recall   : 0.434\n",
      "  - F1       : 0.455\n",
      "\n",
      "* Training set\n",
      "  - Accuracy : 0.672\n",
      "  - Precision: 0.639\n",
      "  - Recall   : 0.765\n",
      "  - F1       : 0.697\n"
     ]
    },
    {
     "name": "stderr",
     "output_type": "stream",
     "text": [
      "C:\\Program Files\\Anaconda3\\envs\\DataScience\\lib\\site-packages\\sklearn\\utils\\deprecation.py:87: FutureWarning: Function plot_confusion_matrix is deprecated; Function `plot_confusion_matrix` is deprecated in 1.0 and will be removed in 1.2. Use one of the class methods: ConfusionMatrixDisplay.from_predictions or ConfusionMatrixDisplay.from_estimator.\n",
      "  warnings.warn(msg, category=FutureWarning)\n",
      "C:\\Program Files\\Anaconda3\\envs\\DataScience\\lib\\site-packages\\pandas\\core\\arraylike.py:364: RuntimeWarning: divide by zero encountered in log\n",
      "  result = getattr(ufunc, method)(*inputs, **kwargs)\n"
     ]
    },
    {
     "name": "stdout",
     "output_type": "stream",
     "text": [
      "* Train / Test split with ~\n",
      "         - Forecast field: results\n",
      "         - Training      : 2021-05-01 -> 2022-02-01\n",
      "         - Testing       : 2022-02-01 -> 2022-05-01\n",
      "\n",
      "* Test Length   : 1565\n",
      "* Train Length  : 4868\n",
      "* X shape       : (4868, 22)\n",
      "* Y shape       : (4868,)\n",
      "Train Skew      :  0.4763763352506163\n",
      "Test Skew       :  0.34568690095846644\n",
      "Model trained\n",
      "-------------\n",
      "Features   : 22\n",
      "\n",
      "* Testing set\n",
      "  - Accuracy : 0.658\n",
      "  - Precision: 0.505\n",
      "  - Recall   : 0.471\n",
      "  - F1       : 0.488\n",
      "\n",
      "* Training set\n",
      "  - Accuracy : 0.668\n",
      "  - Precision: 0.629\n",
      "  - Recall   : 0.736\n",
      "  - F1       : 0.678\n"
     ]
    },
    {
     "name": "stderr",
     "output_type": "stream",
     "text": [
      "C:\\Program Files\\Anaconda3\\envs\\DataScience\\lib\\site-packages\\sklearn\\utils\\deprecation.py:87: FutureWarning: Function plot_confusion_matrix is deprecated; Function `plot_confusion_matrix` is deprecated in 1.0 and will be removed in 1.2. Use one of the class methods: ConfusionMatrixDisplay.from_predictions or ConfusionMatrixDisplay.from_estimator.\n",
      "  warnings.warn(msg, category=FutureWarning)\n",
      "C:\\Program Files\\Anaconda3\\envs\\DataScience\\lib\\site-packages\\pandas\\core\\arraylike.py:364: RuntimeWarning: divide by zero encountered in log\n",
      "  result = getattr(ufunc, method)(*inputs, **kwargs)\n"
     ]
    },
    {
     "name": "stdout",
     "output_type": "stream",
     "text": [
      "* Train / Test split with ~\n",
      "         - Forecast field: results\n",
      "         - Training      : 2021-05-01 -> 2022-02-01\n",
      "         - Testing       : 2022-02-01 -> 2022-05-01\n",
      "\n",
      "* Test Length   : 1565\n",
      "* Train Length  : 4868\n",
      "* X shape       : (4868, 22)\n",
      "* Y shape       : (4868,)\n",
      "Train Skew      :  0.4580936729663106\n",
      "Test Skew       :  0.32396166134185306\n",
      "Model trained\n",
      "-------------\n",
      "Features   : 22\n",
      "\n",
      "* Testing set\n",
      "  - Accuracy : 0.675\n",
      "  - Precision: 0.498\n",
      "  - Recall   : 0.452\n",
      "  - F1       : 0.474\n",
      "\n",
      "* Training set\n",
      "  - Accuracy : 0.666\n",
      "  - Precision: 0.611\n",
      "  - Recall   : 0.748\n",
      "  - F1       : 0.673\n"
     ]
    },
    {
     "name": "stderr",
     "output_type": "stream",
     "text": [
      "C:\\Program Files\\Anaconda3\\envs\\DataScience\\lib\\site-packages\\sklearn\\utils\\deprecation.py:87: FutureWarning: Function plot_confusion_matrix is deprecated; Function `plot_confusion_matrix` is deprecated in 1.0 and will be removed in 1.2. Use one of the class methods: ConfusionMatrixDisplay.from_predictions or ConfusionMatrixDisplay.from_estimator.\n",
      "  warnings.warn(msg, category=FutureWarning)\n",
      "C:\\Program Files\\Anaconda3\\envs\\DataScience\\lib\\site-packages\\pandas\\core\\arraylike.py:364: RuntimeWarning: divide by zero encountered in log\n",
      "  result = getattr(ufunc, method)(*inputs, **kwargs)\n"
     ]
    },
    {
     "name": "stdout",
     "output_type": "stream",
     "text": [
      "* Train / Test split with ~\n",
      "         - Forecast field: results\n",
      "         - Training      : 2021-05-01 -> 2022-02-01\n",
      "         - Testing       : 2022-02-01 -> 2022-05-01\n",
      "\n",
      "* Test Length   : 1565\n",
      "* Train Length  : 4868\n",
      "* X shape       : (4868, 22)\n",
      "* Y shape       : (4868,)\n",
      "Train Skew      :  0.44309778142974526\n",
      "Test Skew       :  0.3003194888178914\n",
      "Model trained\n",
      "-------------\n",
      "Features   : 22\n",
      "\n",
      "* Testing set\n",
      "  - Accuracy : 0.699\n",
      "  - Precision: 0.499\n",
      "  - Recall   : 0.474\n",
      "  - F1       : 0.486\n",
      "\n",
      "* Training set\n",
      "  - Accuracy : 0.661\n",
      "  - Precision: 0.594\n",
      "  - Recall   : 0.743\n",
      "  - F1       : 0.66\n"
     ]
    },
    {
     "name": "stderr",
     "output_type": "stream",
     "text": [
      "C:\\Program Files\\Anaconda3\\envs\\DataScience\\lib\\site-packages\\sklearn\\utils\\deprecation.py:87: FutureWarning: Function plot_confusion_matrix is deprecated; Function `plot_confusion_matrix` is deprecated in 1.0 and will be removed in 1.2. Use one of the class methods: ConfusionMatrixDisplay.from_predictions or ConfusionMatrixDisplay.from_estimator.\n",
      "  warnings.warn(msg, category=FutureWarning)\n",
      "C:\\Program Files\\Anaconda3\\envs\\DataScience\\lib\\site-packages\\sklearn\\metrics\\_plot\\confusion_matrix.py:125: RuntimeWarning: More than 20 figures have been opened. Figures created through the pyplot interface (`matplotlib.pyplot.figure`) are retained until explicitly closed and may consume too much memory. (To control this warning, see the rcParam `figure.max_open_warning`).\n",
      "  fig, ax = plt.subplots()\n",
      "C:\\Program Files\\Anaconda3\\envs\\DataScience\\lib\\site-packages\\pandas\\core\\arraylike.py:364: RuntimeWarning: divide by zero encountered in log\n",
      "  result = getattr(ufunc, method)(*inputs, **kwargs)\n"
     ]
    },
    {
     "name": "stdout",
     "output_type": "stream",
     "text": [
      "* Train / Test split with ~\n",
      "         - Forecast field: results\n",
      "         - Training      : 2021-05-01 -> 2022-02-01\n",
      "         - Testing       : 2022-02-01 -> 2022-05-01\n",
      "\n",
      "* Test Length   : 1565\n",
      "* Train Length  : 4868\n",
      "* X shape       : (4868, 22)\n",
      "* Y shape       : (4868,)\n",
      "Train Skew      :  0.4264585045193098\n",
      "Test Skew       :  0.2837060702875399\n",
      "Model trained\n",
      "-------------\n",
      "Features   : 22\n",
      "\n",
      "* Testing set\n",
      "  - Accuracy : 0.698\n",
      "  - Precision: 0.469\n",
      "  - Recall   : 0.502\n",
      "  - F1       : 0.485\n",
      "\n",
      "* Training set\n",
      "  - Accuracy : 0.676\n",
      "  - Precision: 0.593\n",
      "  - Recall   : 0.772\n",
      "  - F1       : 0.67\n"
     ]
    },
    {
     "name": "stderr",
     "output_type": "stream",
     "text": [
      "C:\\Program Files\\Anaconda3\\envs\\DataScience\\lib\\site-packages\\sklearn\\utils\\deprecation.py:87: FutureWarning: Function plot_confusion_matrix is deprecated; Function `plot_confusion_matrix` is deprecated in 1.0 and will be removed in 1.2. Use one of the class methods: ConfusionMatrixDisplay.from_predictions or ConfusionMatrixDisplay.from_estimator.\n",
      "  warnings.warn(msg, category=FutureWarning)\n",
      "C:\\Program Files\\Anaconda3\\envs\\DataScience\\lib\\site-packages\\pandas\\core\\arraylike.py:364: RuntimeWarning: divide by zero encountered in log\n",
      "  result = getattr(ufunc, method)(*inputs, **kwargs)\n"
     ]
    },
    {
     "name": "stdout",
     "output_type": "stream",
     "text": [
      "* Train / Test split with ~\n",
      "         - Forecast field: results\n",
      "         - Training      : 2021-05-01 -> 2022-02-01\n",
      "         - Testing       : 2022-02-01 -> 2022-05-01\n",
      "\n",
      "* Test Length   : 1565\n",
      "* Train Length  : 4868\n",
      "* X shape       : (4868, 22)\n",
      "* Y shape       : (4868,)\n",
      "Train Skew      :  0.41002465078060807\n",
      "Test Skew       :  0.26517571884984026\n",
      "Model trained\n",
      "-------------\n",
      "Features   : 22\n",
      "\n",
      "* Testing set\n",
      "  - Accuracy : 0.716\n",
      "  - Precision: 0.466\n",
      "  - Recall   : 0.501\n",
      "  - F1       : 0.483\n",
      "\n",
      "* Training set\n",
      "  - Accuracy : 0.672\n",
      "  - Precision: 0.574\n",
      "  - Recall   : 0.769\n",
      "  - F1       : 0.657\n"
     ]
    },
    {
     "name": "stderr",
     "output_type": "stream",
     "text": [
      "C:\\Program Files\\Anaconda3\\envs\\DataScience\\lib\\site-packages\\sklearn\\utils\\deprecation.py:87: FutureWarning: Function plot_confusion_matrix is deprecated; Function `plot_confusion_matrix` is deprecated in 1.0 and will be removed in 1.2. Use one of the class methods: ConfusionMatrixDisplay.from_predictions or ConfusionMatrixDisplay.from_estimator.\n",
      "  warnings.warn(msg, category=FutureWarning)\n",
      "C:\\Program Files\\Anaconda3\\envs\\DataScience\\lib\\site-packages\\pandas\\core\\arraylike.py:364: RuntimeWarning: divide by zero encountered in log\n",
      "  result = getattr(ufunc, method)(*inputs, **kwargs)\n"
     ]
    },
    {
     "name": "stdout",
     "output_type": "stream",
     "text": [
      "* Train / Test split with ~\n",
      "         - Forecast field: results\n",
      "         - Training      : 2021-05-01 -> 2022-02-01\n",
      "         - Testing       : 2022-02-01 -> 2022-05-01\n",
      "\n",
      "* Test Length   : 1565\n",
      "* Train Length  : 4868\n",
      "* X shape       : (4868, 22)\n",
      "* Y shape       : (4868,)\n",
      "Train Skew      :  0.38989317995069844\n",
      "Test Skew       :  0.2504792332268371\n",
      "Model trained\n",
      "-------------\n",
      "Features   : 22\n",
      "\n",
      "* Testing set\n",
      "  - Accuracy : 0.721\n",
      "  - Precision: 0.449\n",
      "  - Recall   : 0.49\n",
      "  - F1       : 0.468\n",
      "\n",
      "* Training set\n",
      "  - Accuracy : 0.682\n",
      "  - Precision: 0.568\n",
      "  - Recall   : 0.779\n",
      "  - F1       : 0.657\n"
     ]
    },
    {
     "name": "stderr",
     "output_type": "stream",
     "text": [
      "C:\\Program Files\\Anaconda3\\envs\\DataScience\\lib\\site-packages\\sklearn\\utils\\deprecation.py:87: FutureWarning: Function plot_confusion_matrix is deprecated; Function `plot_confusion_matrix` is deprecated in 1.0 and will be removed in 1.2. Use one of the class methods: ConfusionMatrixDisplay.from_predictions or ConfusionMatrixDisplay.from_estimator.\n",
      "  warnings.warn(msg, category=FutureWarning)\n",
      "C:\\Program Files\\Anaconda3\\envs\\DataScience\\lib\\site-packages\\pandas\\core\\arraylike.py:364: RuntimeWarning: divide by zero encountered in log\n",
      "  result = getattr(ufunc, method)(*inputs, **kwargs)\n"
     ]
    },
    {
     "name": "stdout",
     "output_type": "stream",
     "text": [
      "* Train / Test split with ~\n",
      "         - Forecast field: results\n",
      "         - Training      : 2021-05-01 -> 2022-02-01\n",
      "         - Testing       : 2022-02-01 -> 2022-05-01\n",
      "\n",
      "* Test Length   : 1565\n",
      "* Train Length  : 4868\n",
      "* X shape       : (4868, 22)\n",
      "* Y shape       : (4868,)\n",
      "Train Skew      :  0.3722267871815941\n",
      "Test Skew       :  0.23578274760383386\n",
      "Model trained\n",
      "-------------\n",
      "Features   : 22\n",
      "\n",
      "* Testing set\n",
      "  - Accuracy : 0.715\n",
      "  - Precision: 0.418\n",
      "  - Recall   : 0.528\n",
      "  - F1       : 0.467\n",
      "\n",
      "* Training set\n",
      "  - Accuracy : 0.689\n",
      "  - Precision: 0.559\n",
      "  - Recall   : 0.778\n",
      "  - F1       : 0.65\n"
     ]
    },
    {
     "name": "stderr",
     "output_type": "stream",
     "text": [
      "C:\\Program Files\\Anaconda3\\envs\\DataScience\\lib\\site-packages\\sklearn\\utils\\deprecation.py:87: FutureWarning: Function plot_confusion_matrix is deprecated; Function `plot_confusion_matrix` is deprecated in 1.0 and will be removed in 1.2. Use one of the class methods: ConfusionMatrixDisplay.from_predictions or ConfusionMatrixDisplay.from_estimator.\n",
      "  warnings.warn(msg, category=FutureWarning)\n",
      "C:\\Program Files\\Anaconda3\\envs\\DataScience\\lib\\site-packages\\pandas\\core\\arraylike.py:364: RuntimeWarning: divide by zero encountered in log\n",
      "  result = getattr(ufunc, method)(*inputs, **kwargs)\n"
     ]
    },
    {
     "name": "stdout",
     "output_type": "stream",
     "text": [
      "* Train / Test split with ~\n",
      "         - Forecast field: results\n",
      "         - Training      : 2021-05-01 -> 2022-02-01\n",
      "         - Testing       : 2022-02-01 -> 2022-05-01\n",
      "\n",
      "* Test Length   : 1565\n",
      "* Train Length  : 4868\n",
      "* X shape       : (4868, 22)\n",
      "* Y shape       : (4868,)\n",
      "Train Skew      :  0.3535332785538209\n",
      "Test Skew       :  0.22555910543130991\n",
      "Model trained\n",
      "-------------\n",
      "Features   : 22\n",
      "\n",
      "* Testing set\n",
      "  - Accuracy : 0.723\n",
      "  - Precision: 0.407\n",
      "  - Recall   : 0.499\n",
      "  - F1       : 0.448\n",
      "\n",
      "* Training set\n",
      "  - Accuracy : 0.696\n",
      "  - Precision: 0.549\n",
      "  - Recall   : 0.784\n",
      "  - F1       : 0.646\n"
     ]
    },
    {
     "name": "stderr",
     "output_type": "stream",
     "text": [
      "C:\\Program Files\\Anaconda3\\envs\\DataScience\\lib\\site-packages\\sklearn\\utils\\deprecation.py:87: FutureWarning: Function plot_confusion_matrix is deprecated; Function `plot_confusion_matrix` is deprecated in 1.0 and will be removed in 1.2. Use one of the class methods: ConfusionMatrixDisplay.from_predictions or ConfusionMatrixDisplay.from_estimator.\n",
      "  warnings.warn(msg, category=FutureWarning)\n"
     ]
    },
    {
     "name": "stdout",
     "output_type": "stream",
     "text": [
      "Executed successfully. Thu 18 Aug @ 09:22:24\n",
      "\n"
     ]
    },
    {
     "data": {
      "image/png": "[encoded data removed]",
      "text/plain": [
       "<Figure size 432x288 with 2 Axes>"
      ]
     },
     "metadata": {
      "needs_background": "light"
     },
     "output_type": "display_data"
    },
    {
     "data": {
      "image/png": "[encoded data removed]",
      "text/plain": [
       "<Figure size 432x288 with 2 Axes>"
      ]
     },
     "metadata": {
      "needs_background": "light"
     },
     "output_type": "display_data"
    },
    {
     "data": {
      "image/png": "[encoded data removed]",
      "text/plain": [
       "<Figure size 432x288 with 2 Axes>"
      ]
     },
     "metadata": {
      "needs_background": "light"
     },
     "output_type": "display_data"
    },
    {
     "data": {
      "image/png": "[encoded data removed]",
      "text/plain": [
       "<Figure size 432x288 with 2 Axes>"
      ]
     },
     "metadata": {
      "needs_background": "light"
     },
     "output_type": "display_data"
    },
    {
     "data": {
      "image/png": "[encoded data removed]",
      "text/plain": [
       "<Figure size 432x288 with 2 Axes>"
      ]
     },
     "metadata": {
      "needs_background": "light"
     },
     "output_type": "display_data"
    },
    {
     "data": {
      "image/png": "[encoded data removed]",
      "text/plain": [
       "<Figure size 432x288 with 2 Axes>"
      ]
     },
     "metadata": {
      "needs_background": "light"
     },
     "output_type": "display_data"
    },
    {
     "data": {
      "image/png": "[encoded data removed]",
      "text/plain": [
       "<Figure size 432x288 with 2 Axes>"
      ]
     },
     "metadata": {
      "needs_background": "light"
     },
     "output_type": "display_data"
    },
    {
     "data": {
      "image/png": "[encoded data removed]",
      "text/plain": [
       "<Figure size 432x288 with 2 Axes>"
      ]
     },
     "metadata": {
      "needs_background": "light"
     },
     "output_type": "display_data"
    },
    {
     "data": {
      "image/png": "[encoded data removed]",
      "text/plain": [
       "<Figure size 432x288 with 2 Axes>"
      ]
     },
     "metadata": {
      "needs_background": "light"
     },
     "output_type": "display_data"
    },
    {
     "data": {
      "image/png": "[encoded data removed]",
      "text/plain": [
       "<Figure size 432x288 with 2 Axes>"
      ]
     },
     "metadata": {
      "needs_background": "light"
     },
     "output_type": "display_data"
    },
    {
     "data": {
      "image/png": "[encoded data removed]",
      "text/plain": [
       "<Figure size 432x288 with 2 Axes>"
      ]
     },
     "metadata": {
      "needs_background": "light"
     },
     "output_type": "display_data"
    },
    {
     "data": {
      "image/png": "[encoded data removed]",
      "text/plain": [
       "<Figure size 432x288 with 2 Axes>"
      ]
     },
     "metadata": {
      "needs_background": "light"
     },
     "output_type": "display_data"
    },
    {
     "data": {
      "image/png": "[encoded data removed]",
      "text/plain": [
       "<Figure size 432x288 with 2 Axes>"
      ]
     },
     "metadata": {
      "needs_background": "light"
     },
     "output_type": "display_data"
    },
    {
     "data": {
      "image/png": "[encoded data removed]",
      "text/plain": [
       "<Figure size 432x288 with 2 Axes>"
      ]
     },
     "metadata": {
      "needs_background": "light"
     },
     "output_type": "display_data"
    },
    {
     "data": {
      "image/png": "[encoded data removed]",
      "text/plain": [
       "<Figure size 432x288 with 2 Axes>"
      ]
     },
     "metadata": {
      "needs_background": "light"
     },
     "output_type": "display_data"
    },
    {
     "data": {
      "image/png": "[encoded data removed]",
      "text/plain": [
       "<Figure size 432x288 with 2 Axes>"
      ]
     },
     "metadata": {
      "needs_background": "light"
     },
     "output_type": "display_data"
    },
    {
     "data": {
      "image/png": "[encoded data removed]",
      "text/plain": [
       "<Figure size 432x288 with 2 Axes>"
      ]
     },
     "metadata": {
      "needs_background": "light"
     },
     "output_type": "display_data"
    },
    {
     "data": {
      "image/png": "[encoded data removed]",
      "text/plain": [
       "<Figure size 432x288 with 2 Axes>"
      ]
     },
     "metadata": {
      "needs_background": "light"
     },
     "output_type": "display_data"
    },
    {
     "data": {
      "image/png": "[encoded data removed]",
      "text/plain": [
       "<Figure size 432x288 with 2 Axes>"
      ]
     },
     "metadata": {
      "needs_background": "light"
     },
     "output_type": "display_data"
    },
    {
     "data": {
      "image/png": "[encoded data removed]",
      "text/plain": [
       "<Figure size 432x288 with 2 Axes>"
      ]
     },
     "metadata": {
      "needs_background": "light"
     },
     "output_type": "display_data"
    },
    {
     "data": {
      "image/png": "[encoded data removed]",
      "text/plain": [
       "<Figure size 432x288 with 2 Axes>"
      ]
     },
     "metadata": {
      "needs_background": "light"
     },
     "output_type": "display_data"
    },
    {
     "data": {
      "image/png": "[encoded data removed]",
      "text/plain": [
       "<Figure size 432x288 with 2 Axes>"
      ]
     },
     "metadata": {
      "needs_background": "light"
     },
     "output_type": "display_data"
    },
    {
     "data": {
      "image/png": "[encoded data removed]",
      "text/plain": [
       "<Figure size 432x288 with 2 Axes>"
      ]
     },
     "metadata": {
      "needs_background": "light"
     },
     "output_type": "display_data"
    },
    {
     "data": {
      "image/png": "[encoded data removed]",
      "text/plain": [
       "<Figure size 432x288 with 2 Axes>"
      ]
     },
     "metadata": {
      "needs_background": "light"
     },
     "output_type": "display_data"
    },
    {
     "data": {
      "image/png": "[encoded data removed]",
      "text/plain": [
       "<Figure size 432x288 with 2 Axes>"
      ]
     },
     "metadata": {
      "needs_background": "light"
     },
     "output_type": "display_data"
    },
    {
     "data": {
      "image/png": "[encoded data removed]",
      "text/plain": [
       "<Figure size 432x288 with 2 Axes>"
      ]
     },
     "metadata": {
      "needs_background": "light"
     },
     "output_type": "display_data"
    }
   ],
   "source": [
    "# Run some analysis over various thresholds\n",
    "start = '2021-05-01'\n",
    "mid ='2022-02-01'\n",
    "end = '2022-05-01'\n",
    "\n",
    "data = pd.read_feather('./Data/backtesting_vt_Bostock_2Y.feather')\n",
    "lag = [60, 180]\n",
    "random_state = 101\n",
    "max_depth = 6\n",
    "n_estimators = 10\n",
    "random_state = 101\n",
    "\n",
    "factor_functions = [Features.cal_close_avg, Features.cal_bk_return, Features.cal_high_low, Features.cal_max_mean,\n",
    "                    Features.cal_min_mean,\n",
    "                    Features.cal_volume_avg, Features.cal_max_mean_volume, Features.cal_min_mean_volume,\n",
    "                    Features.cal_std, Features.r_zscore, Features.Parkinson]\n",
    "\n",
    "Precision = np.empty(0)\n",
    "Recall = np.empty(0)\n",
    "Skew = np.empty(0)\n",
    "\n",
    "Drawdown = np.empty(0)\n",
    "Sharpe = np.empty(0)\n",
    "\n",
    "Stress_Range = np.arange(0,0.0026,0.0001)\n",
    "\n",
    "# Create the class\n",
    "for return_threhold in Stress_Range:\n",
    "\n",
    "    ml = MachineLearning(data)\n",
    "\n",
    "    # # Generate the features\n",
    "    ml.GenerateFeature(lag,factor_functions,return_threhold)\n",
    "\n",
    "    Forecast_Field = 'results'\n",
    "    Features_Field = [idx for idx in ml.data.columns if idx[:6] == 'Factor']\n",
    "\n",
    "    ml.RunModel(max_depth,n_estimators,random_state,'Open Time',Forecast_Field,Features_Field,start,mid,end)\n",
    "\n",
    "    Precision = np.append(Precision,ml.PrecisionTest)\n",
    "    Recall = np.append(Recall,ml.RecallTest)\n",
    "\n",
    "    # Need skew\n",
    "    Skew = np.append(Skew,np.sum(ml.TestY)/len(ml.TestY))\n",
    "    \n",
    "    # DD and Sharpe\n",
    "    Drawdown = np.append(Drawdown,ml.max_dd)  \n",
    "    Sharpe = np.append(Sharpe,ml.sharpe) \n",
    "    \n",
    "    \n",
    "Keep_Track()   "
   ]
  },
  {
   "cell_type": "code",
   "execution_count": 13,
   "id": "5f99b4e1",
   "metadata": {},
   "outputs": [
    {
     "data": {
      "text/plain": [
       "<matplotlib.legend.Legend at 0x1cc83f048b0>"
      ]
     },
     "execution_count": 13,
     "metadata": {},
     "output_type": "execute_result"
    },
    {
     "data": {
      "image/png": "[encoded data removed]",
      "text/plain": [
       "<Figure size 1332x1440 with 4 Axes>"
      ]
     },
     "metadata": {
      "needs_background": "light"
     },
     "output_type": "display_data"
    }
   ],
   "source": [
    "# Plot results\n",
    "fig, axs = plt.subplots(4,1)\n",
    "fig.set_size_inches(18.5, 20)\n",
    "\n",
    "\n",
    "# Create the  plot\n",
    "axs[0].plot(Stress_Range, Precision, color = 'r',label = 'Precision')\n",
    "axs[0].plot(Stress_Range, Skew, color = 'b',label = 'Skew')\n",
    "axs[0].axhline(y=0.5)\n",
    "# axs[0].plot(np.arange(start = 0.5, stop = 4.2, step = 0.1), Mean_Return_10, color = 'g',label = 'Lookback 10')\n",
    "# axs[0].plot(range(len(Precision_Test_Boost)), Precision_Test_Boost, color = 'black', label = 'Gradient Boost')\n",
    "# axs[0].plot(range(len(Test_Skew)), Test_Skew,color = 'grey', linestyle ='--',label = 'Random')\n",
    "axs[0].set_ylabel('Value')\n",
    "axs[0].set_title('Precision')\n",
    "# axs[0].set_xlim([0,1])\n",
    "# axs[0].set_ylim([-0.0006,0.0006])\n",
    "\n",
    "axs[1].plot(Stress_Range, Recall, color = 'r',label = 'Recall')\n",
    "axs[1].set_title('Recall')\n",
    "axs[1].set_ylabel('Recall')\n",
    "axs[1].set_xlabel('Threshold')\n",
    "# axs[1].set_title('Winning')\n",
    "# axs[1].set_ylim([0.6,0.8])\n",
    "\n",
    "axs[2].plot(Stress_Range, Drawdown,color = 'r',label = 'Model drawdown')\n",
    "# axs[2].plot(np.arange(start = 0.5, stop = 4.2, step = 0.1), Trades_30,color = 'b',label = 'Lookback 30')\n",
    "# # axs[2].plot(np.arange(start = 0.5, stop = 4.2, step = 0.1), Trades_10,color = 'g',label = 'Lookback 10')\n",
    "# # axs[2].plot(range(len(Recall_Test_Boost)), 2*Precision_Test_Boost*Recall_Test_Boost/(Precision_Test_Boost+Recall_Test_Boost), color = 'black', label = 'Gradient Boost')\n",
    "# # axs[2].plot(range(len(Train_Skew)), Train_Skew,color = 'grey', linestyle ='--', label = 'Random')\n",
    "axs[2].set_ylabel('DD')\n",
    "axs[2].set_title('Model Drawdown')\n",
    "# axs[2].set_ylim([0,1000])\n",
    "\n",
    "axs[3].plot(Stress_Range, Sharpe,color = 'r',label = 'Model Sharpe')\n",
    "# axs[2].plot(np.arange(start = 0.5, stop = 4.2, step = 0.1), Trades_30,color = 'b',label = 'Lookback 30')\n",
    "# # axs[2].plot(np.arange(start = 0.5, stop = 4.2, step = 0.1), Trades_10,color = 'g',label = 'Lookback 10')\n",
    "# # axs[2].plot(range(len(Recall_Test_Boost)), 2*Precision_Test_Boost*Recall_Test_Boost/(Precision_Test_Boost+Recall_Test_Boost), color = 'black', label = 'Gradient Boost')\n",
    "# # axs[2].plot(range(len(Train_Skew)), Train_Skew,color = 'grey', linestyle ='--', label = 'Random')\n",
    "axs[3].set_ylabel('Sharpe')\n",
    "axs[3].set_title('Model Sharpe')\n",
    "# axs[2].set_ylim([0,1000])\n",
    "\n",
    "axs[3].legend(loc='upper right')\n",
    "axs[3].legend(loc='upper left')\n"
   ]
  },
  {
   "cell_type": "code",
   "execution_count": 14,
   "id": "d361d541",
   "metadata": {},
   "outputs": [
    {
     "name": "stderr",
     "output_type": "stream",
     "text": [
      "C:\\Program Files\\Anaconda3\\envs\\DataScience\\lib\\site-packages\\pandas\\core\\arraylike.py:364: RuntimeWarning: divide by zero encountered in log\n",
      "  result = getattr(ufunc, method)(*inputs, **kwargs)\n"
     ]
    },
    {
     "name": "stdout",
     "output_type": "stream",
     "text": [
      "        start         mid         end\n",
      "0  2020-08-01  2021-08-01  2021-09-01\n",
      "0  2020-09-01  2021-09-01  2021-10-01\n",
      "0  2020-10-01  2021-10-01  2021-11-01\n",
      "0  2020-11-01  2021-11-01  2021-12-01\n",
      "0  2020-12-01  2021-12-01  2022-01-01\n",
      "0  2021-01-01  2022-01-01  2022-02-01\n",
      "0  2021-02-01  2022-02-01  2022-03-01\n",
      "0  2021-03-01  2022-03-01  2022-04-01\n",
      "0  2021-04-01  2022-04-01  2022-05-01\n",
      "0  2021-05-01  2022-05-01  2022-06-01\n",
      "0  2021-06-01  2022-06-01  2022-07-01\n",
      "0  2021-07-01  2022-07-01  2022-08-01\n",
      "* Train / Test split with ~\n",
      "         - Forecast field: results\n",
      "         - Training      : 2020-08-01 -> 2021-08-01\n",
      "         - Testing       : 2021-08-01 -> 2021-09-01\n",
      "\n",
      "* Test Length   : 533\n",
      "* Train Length  : 6492\n",
      "* X shape       : (6492, 22)\n",
      "* Y shape       : (6492,)\n",
      "Train Skew      :  0.44115834873690696\n",
      "Test Skew       :  0.4803001876172608\n",
      "Model trained\n",
      "-------------\n",
      "Features   : 22\n",
      "\n",
      "* Testing set\n",
      "  - Accuracy : 0.557\n",
      "  - Precision: 0.534\n",
      "  - Recall   : 0.609\n",
      "  - F1       : 0.569\n",
      "\n",
      "* Training set\n",
      "  - Accuracy : 0.677\n",
      "  - Precision: 0.599\n",
      "  - Recall   : 0.811\n",
      "  - F1       : 0.689\n"
     ]
    },
    {
     "name": "stderr",
     "output_type": "stream",
     "text": [
      "C:\\Program Files\\Anaconda3\\envs\\DataScience\\lib\\site-packages\\sklearn\\utils\\deprecation.py:87: FutureWarning: Function plot_confusion_matrix is deprecated; Function `plot_confusion_matrix` is deprecated in 1.0 and will be removed in 1.2. Use one of the class methods: ConfusionMatrixDisplay.from_predictions or ConfusionMatrixDisplay.from_estimator.\n",
      "  warnings.warn(msg, category=FutureWarning)\n"
     ]
    },
    {
     "name": "stdout",
     "output_type": "stream",
     "text": [
      "* Train / Test split with ~\n",
      "         - Forecast field: results\n",
      "         - Training      : 2020-09-01 -> 2021-09-01\n",
      "         - Testing       : 2021-09-01 -> 2021-10-01\n",
      "\n",
      "* Test Length   : 533\n",
      "* Train Length  : 6534\n",
      "* X shape       : (6534, 22)\n",
      "* Y shape       : (6534,)\n",
      "Train Skew      :  0.4576063666972758\n",
      "Test Skew       :  0.41088180112570355\n",
      "Model trained\n",
      "-------------\n",
      "Features   : 22\n",
      "\n",
      "* Testing set\n",
      "  - Accuracy : 0.583\n",
      "  - Precision: 0.495\n",
      "  - Recall   : 0.644\n",
      "  - F1       : 0.56\n",
      "\n",
      "* Training set\n",
      "  - Accuracy : 0.669\n",
      "  - Precision: 0.602\n",
      "  - Recall   : 0.818\n",
      "  - F1       : 0.694\n"
     ]
    },
    {
     "name": "stderr",
     "output_type": "stream",
     "text": [
      "C:\\Program Files\\Anaconda3\\envs\\DataScience\\lib\\site-packages\\sklearn\\utils\\deprecation.py:87: FutureWarning: Function plot_confusion_matrix is deprecated; Function `plot_confusion_matrix` is deprecated in 1.0 and will be removed in 1.2. Use one of the class methods: ConfusionMatrixDisplay.from_predictions or ConfusionMatrixDisplay.from_estimator.\n",
      "  warnings.warn(msg, category=FutureWarning)\n"
     ]
    },
    {
     "name": "stdout",
     "output_type": "stream",
     "text": [
      "* Train / Test split with ~\n",
      "         - Forecast field: results\n",
      "         - Training      : 2020-10-01 -> 2021-10-01\n",
      "         - Testing       : 2021-10-01 -> 2021-11-01\n",
      "\n",
      "* Test Length   : 528\n",
      "* Train Length  : 6561\n",
      "* X shape       : (6561, 22)\n",
      "* Y shape       : (6561,)\n",
      "Train Skew      :  0.4708123761621704\n",
      "Test Skew       :  0.3541666666666667\n",
      "Model trained\n",
      "-------------\n",
      "Features   : 22\n",
      "\n",
      "* Testing set\n",
      "  - Accuracy : 0.583\n",
      "  - Precision: 0.416\n",
      "  - Recall   : 0.439\n",
      "  - F1       : 0.427\n",
      "\n",
      "* Training set\n",
      "  - Accuracy : 0.668\n",
      "  - Precision: 0.612\n",
      "  - Recall   : 0.801\n",
      "  - F1       : 0.694\n"
     ]
    },
    {
     "name": "stderr",
     "output_type": "stream",
     "text": [
      "C:\\Program Files\\Anaconda3\\envs\\DataScience\\lib\\site-packages\\sklearn\\utils\\deprecation.py:87: FutureWarning: Function plot_confusion_matrix is deprecated; Function `plot_confusion_matrix` is deprecated in 1.0 and will be removed in 1.2. Use one of the class methods: ConfusionMatrixDisplay.from_predictions or ConfusionMatrixDisplay.from_estimator.\n",
      "  warnings.warn(msg, category=FutureWarning)\n"
     ]
    },
    {
     "name": "stdout",
     "output_type": "stream",
     "text": [
      "* Train / Test split with ~\n",
      "         - Forecast field: results\n",
      "         - Training      : 2020-11-01 -> 2021-11-01\n",
      "         - Testing       : 2021-11-01 -> 2021-12-01\n",
      "\n",
      "* Test Length   : 521\n",
      "* Train Length  : 6562\n",
      "* X shape       : (6562, 22)\n",
      "* Y shape       : (6562,)\n",
      "Train Skew      :  0.48384638829625115\n",
      "Test Skew       :  0.3857965451055662\n",
      "Model trained\n",
      "-------------\n",
      "Features   : 22\n",
      "\n",
      "* Testing set\n",
      "  - Accuracy : 0.599\n",
      "  - Precision: 0.478\n",
      "  - Recall   : 0.443\n",
      "  - F1       : 0.46\n",
      "\n",
      "* Training set\n",
      "  - Accuracy : 0.658\n",
      "  - Precision: 0.624\n",
      "  - Recall   : 0.742\n",
      "  - F1       : 0.678\n"
     ]
    },
    {
     "name": "stderr",
     "output_type": "stream",
     "text": [
      "C:\\Program Files\\Anaconda3\\envs\\DataScience\\lib\\site-packages\\sklearn\\utils\\deprecation.py:87: FutureWarning: Function plot_confusion_matrix is deprecated; Function `plot_confusion_matrix` is deprecated in 1.0 and will be removed in 1.2. Use one of the class methods: ConfusionMatrixDisplay.from_predictions or ConfusionMatrixDisplay.from_estimator.\n",
      "  warnings.warn(msg, category=FutureWarning)\n"
     ]
    },
    {
     "name": "stdout",
     "output_type": "stream",
     "text": [
      "* Train / Test split with ~\n",
      "         - Forecast field: results\n",
      "         - Training      : 2020-12-01 -> 2021-12-01\n",
      "         - Testing       : 2021-12-01 -> 2022-01-01\n",
      "\n",
      "* Test Length   : 522\n",
      "* Train Length  : 6563\n",
      "* X shape       : (6563, 22)\n",
      "* Y shape       : (6563,)\n",
      "Train Skew      :  0.4817918634770684\n",
      "Test Skew       :  0.3735632183908046\n",
      "Model trained\n",
      "-------------\n",
      "Features   : 22\n",
      "\n",
      "* Testing set\n",
      "  - Accuracy : 0.579\n",
      "  - Precision: 0.437\n",
      "  - Recall   : 0.446\n",
      "  - F1       : 0.442\n",
      "\n",
      "* Training set\n",
      "  - Accuracy : 0.654\n",
      "  - Precision: 0.621\n",
      "  - Recall   : 0.726\n",
      "  - F1       : 0.669\n"
     ]
    },
    {
     "name": "stderr",
     "output_type": "stream",
     "text": [
      "C:\\Program Files\\Anaconda3\\envs\\DataScience\\lib\\site-packages\\sklearn\\utils\\deprecation.py:87: FutureWarning: Function plot_confusion_matrix is deprecated; Function `plot_confusion_matrix` is deprecated in 1.0 and will be removed in 1.2. Use one of the class methods: ConfusionMatrixDisplay.from_predictions or ConfusionMatrixDisplay.from_estimator.\n",
      "  warnings.warn(msg, category=FutureWarning)\n"
     ]
    },
    {
     "name": "stdout",
     "output_type": "stream",
     "text": [
      "* Train / Test split with ~\n",
      "         - Forecast field: results\n",
      "         - Training      : 2021-01-01 -> 2022-01-01\n",
      "         - Testing       : 2022-01-01 -> 2022-02-01\n",
      "\n",
      "* Test Length   : 527\n",
      "* Train Length  : 6549\n",
      "* X shape       : (6549, 22)\n",
      "* Y shape       : (6549,)\n",
      "Train Skew      :  0.47411818598259275\n",
      "Test Skew       :  0.3700189753320683\n",
      "Model trained\n",
      "-------------\n",
      "Features   : 22\n",
      "\n",
      "* Testing set\n",
      "  - Accuracy : 0.628\n",
      "  - Precision: 0.497\n",
      "  - Recall   : 0.487\n",
      "  - F1       : 0.492\n",
      "\n",
      "* Training set\n",
      "  - Accuracy : 0.659\n",
      "  - Precision: 0.614\n",
      "  - Recall   : 0.751\n",
      "  - F1       : 0.676\n"
     ]
    },
    {
     "name": "stderr",
     "output_type": "stream",
     "text": [
      "C:\\Program Files\\Anaconda3\\envs\\DataScience\\lib\\site-packages\\sklearn\\utils\\deprecation.py:87: FutureWarning: Function plot_confusion_matrix is deprecated; Function `plot_confusion_matrix` is deprecated in 1.0 and will be removed in 1.2. Use one of the class methods: ConfusionMatrixDisplay.from_predictions or ConfusionMatrixDisplay.from_estimator.\n",
      "  warnings.warn(msg, category=FutureWarning)\n"
     ]
    },
    {
     "name": "stdout",
     "output_type": "stream",
     "text": [
      "* Train / Test split with ~\n",
      "         - Forecast field: results\n",
      "         - Training      : 2021-02-01 -> 2022-02-01\n",
      "         - Testing       : 2022-02-01 -> 2022-03-01\n",
      "\n",
      "* Test Length   : 493\n",
      "* Train Length  : 6504\n",
      "* X shape       : (6504, 22)\n",
      "* Y shape       : (6504,)\n",
      "Train Skew      :  0.45817958179581797\n",
      "Test Skew       :  0.3671399594320487\n",
      "Model trained\n",
      "-------------\n",
      "Features   : 22\n",
      "\n",
      "* Testing set\n",
      "  - Accuracy : 0.633\n",
      "  - Precision: 0.5\n",
      "  - Recall   : 0.536\n",
      "  - F1       : 0.517\n",
      "\n",
      "* Training set\n",
      "  - Accuracy : 0.657\n",
      "  - Precision: 0.6\n",
      "  - Recall   : 0.75\n",
      "  - F1       : 0.667\n"
     ]
    },
    {
     "name": "stderr",
     "output_type": "stream",
     "text": [
      "C:\\Program Files\\Anaconda3\\envs\\DataScience\\lib\\site-packages\\sklearn\\utils\\deprecation.py:87: FutureWarning: Function plot_confusion_matrix is deprecated; Function `plot_confusion_matrix` is deprecated in 1.0 and will be removed in 1.2. Use one of the class methods: ConfusionMatrixDisplay.from_predictions or ConfusionMatrixDisplay.from_estimator.\n",
      "  warnings.warn(msg, category=FutureWarning)\n"
     ]
    },
    {
     "name": "stdout",
     "output_type": "stream",
     "text": [
      "* Train / Test split with ~\n",
      "         - Forecast field: results\n",
      "         - Training      : 2021-03-01 -> 2022-03-01\n",
      "         - Testing       : 2022-03-01 -> 2022-04-01\n",
      "\n",
      "* Test Length   : 545\n",
      "* Train Length  : 6484\n",
      "* X shape       : (6484, 22)\n",
      "* Y shape       : (6484,)\n",
      "Train Skew      :  0.4461752004935225\n",
      "Test Skew       :  0.30458715596330277\n",
      "Model trained\n",
      "-------------\n",
      "Features   : 22\n",
      "\n",
      "* Testing set\n",
      "  - Accuracy : 0.701\n",
      "  - Precision: 0.51\n",
      "  - Recall   : 0.482\n",
      "  - F1       : 0.495\n",
      "\n",
      "* Training set\n",
      "  - Accuracy : 0.663\n",
      "  - Precision: 0.6\n",
      "  - Recall   : 0.732\n",
      "  - F1       : 0.66\n"
     ]
    },
    {
     "name": "stderr",
     "output_type": "stream",
     "text": [
      "C:\\Program Files\\Anaconda3\\envs\\DataScience\\lib\\site-packages\\sklearn\\utils\\deprecation.py:87: FutureWarning: Function plot_confusion_matrix is deprecated; Function `plot_confusion_matrix` is deprecated in 1.0 and will be removed in 1.2. Use one of the class methods: ConfusionMatrixDisplay.from_predictions or ConfusionMatrixDisplay.from_estimator.\n",
      "  warnings.warn(msg, category=FutureWarning)\n"
     ]
    },
    {
     "name": "stdout",
     "output_type": "stream",
     "text": [
      "* Train / Test split with ~\n",
      "         - Forecast field: results\n",
      "         - Training      : 2021-04-01 -> 2022-04-01\n",
      "         - Testing       : 2022-04-01 -> 2022-05-01\n",
      "\n",
      "* Test Length   : 527\n",
      "* Train Length  : 6465\n",
      "* X shape       : (6465, 22)\n",
      "* Y shape       : (6465,)\n",
      "Train Skew      :  0.42753286929621037\n",
      "Test Skew       :  0.2333965844402277\n",
      "Model trained\n",
      "-------------\n",
      "Features   : 22\n",
      "\n",
      "* Testing set\n",
      "  - Accuracy : 0.751\n",
      "  - Precision: 0.466\n",
      "  - Recall   : 0.447\n",
      "  - F1       : 0.456\n",
      "\n",
      "* Training set\n",
      "  - Accuracy : 0.665\n",
      "  - Precision: 0.583\n",
      "  - Recall   : 0.765\n",
      "  - F1       : 0.661\n"
     ]
    },
    {
     "name": "stderr",
     "output_type": "stream",
     "text": [
      "C:\\Program Files\\Anaconda3\\envs\\DataScience\\lib\\site-packages\\sklearn\\utils\\deprecation.py:87: FutureWarning: Function plot_confusion_matrix is deprecated; Function `plot_confusion_matrix` is deprecated in 1.0 and will be removed in 1.2. Use one of the class methods: ConfusionMatrixDisplay.from_predictions or ConfusionMatrixDisplay.from_estimator.\n",
      "  warnings.warn(msg, category=FutureWarning)\n"
     ]
    },
    {
     "name": "stdout",
     "output_type": "stream",
     "text": [
      "* Train / Test split with ~\n",
      "         - Forecast field: results\n",
      "         - Training      : 2021-05-01 -> 2022-05-01\n",
      "         - Testing       : 2022-05-01 -> 2022-06-01\n",
      "\n",
      "* Test Length   : 539\n",
      "* Train Length  : 6433\n",
      "* X shape       : (6433, 22)\n",
      "* Y shape       : (6433,)\n",
      "Train Skew      :  0.40836312762319293\n",
      "Test Skew       :  0.3525046382189239\n",
      "Model trained\n",
      "-------------\n",
      "Features   : 22\n",
      "\n",
      "* Testing set\n",
      "  - Accuracy : 0.638\n",
      "  - Precision: 0.489\n",
      "  - Recall   : 0.589\n",
      "  - F1       : 0.535\n",
      "\n",
      "* Training set\n",
      "  - Accuracy : 0.662\n",
      "  - Precision: 0.564\n",
      "  - Recall   : 0.752\n",
      "  - F1       : 0.645\n"
     ]
    },
    {
     "name": "stderr",
     "output_type": "stream",
     "text": [
      "C:\\Program Files\\Anaconda3\\envs\\DataScience\\lib\\site-packages\\sklearn\\utils\\deprecation.py:87: FutureWarning: Function plot_confusion_matrix is deprecated; Function `plot_confusion_matrix` is deprecated in 1.0 and will be removed in 1.2. Use one of the class methods: ConfusionMatrixDisplay.from_predictions or ConfusionMatrixDisplay.from_estimator.\n",
      "  warnings.warn(msg, category=FutureWarning)\n"
     ]
    },
    {
     "name": "stdout",
     "output_type": "stream",
     "text": [
      "* Train / Test split with ~\n",
      "         - Forecast field: results\n",
      "         - Training      : 2021-06-01 -> 2022-06-01\n",
      "         - Testing       : 2022-06-01 -> 2022-07-01\n",
      "\n",
      "* Test Length   : 531\n",
      "* Train Length  : 6377\n",
      "* X shape       : (6377, 22)\n",
      "* Y shape       : (6377,)\n",
      "Train Skew      :  0.38654539752234596\n",
      "Test Skew       :  0.4067796610169492\n",
      "Model trained\n",
      "-------------\n",
      "Features   : 22\n",
      "\n",
      "* Testing set\n",
      "  - Accuracy : 0.574\n",
      "  - Precision: 0.484\n",
      "  - Recall   : 0.713\n",
      "  - F1       : 0.577\n",
      "\n",
      "* Training set\n",
      "  - Accuracy : 0.656\n",
      "  - Precision: 0.537\n",
      "  - Recall   : 0.803\n",
      "  - F1       : 0.644\n"
     ]
    },
    {
     "name": "stderr",
     "output_type": "stream",
     "text": [
      "C:\\Program Files\\Anaconda3\\envs\\DataScience\\lib\\site-packages\\sklearn\\utils\\deprecation.py:87: FutureWarning: Function plot_confusion_matrix is deprecated; Function `plot_confusion_matrix` is deprecated in 1.0 and will be removed in 1.2. Use one of the class methods: ConfusionMatrixDisplay.from_predictions or ConfusionMatrixDisplay.from_estimator.\n",
      "  warnings.warn(msg, category=FutureWarning)\n"
     ]
    },
    {
     "name": "stdout",
     "output_type": "stream",
     "text": [
      "* Train / Test split with ~\n",
      "         - Forecast field: results\n",
      "         - Training      : 2021-07-01 -> 2022-07-01\n",
      "         - Testing       : 2022-07-01 -> 2022-08-01\n",
      "\n",
      "* Test Length   : 579\n",
      "* Train Length  : 6364\n",
      "* X shape       : (6364, 22)\n",
      "* Y shape       : (6364,)\n",
      "Train Skew      :  0.37539283469516027\n",
      "Test Skew       :  0.4214162348877375\n",
      "Model trained\n",
      "-------------\n",
      "Features   : 22\n",
      "\n",
      "* Testing set\n",
      "  - Accuracy : 0.547\n",
      "  - Precision: 0.478\n",
      "  - Recall   : 0.787\n",
      "  - F1       : 0.594\n",
      "\n",
      "* Training set\n",
      "  - Accuracy : 0.657\n",
      "  - Precision: 0.529\n",
      "  - Recall   : 0.795\n",
      "  - F1       : 0.635\n"
     ]
    },
    {
     "name": "stderr",
     "output_type": "stream",
     "text": [
      "C:\\Program Files\\Anaconda3\\envs\\DataScience\\lib\\site-packages\\sklearn\\utils\\deprecation.py:87: FutureWarning: Function plot_confusion_matrix is deprecated; Function `plot_confusion_matrix` is deprecated in 1.0 and will be removed in 1.2. Use one of the class methods: ConfusionMatrixDisplay.from_predictions or ConfusionMatrixDisplay.from_estimator.\n",
      "  warnings.warn(msg, category=FutureWarning)\n"
     ]
    },
    {
     "name": "stdout",
     "output_type": "stream",
     "text": [
      "Executed successfully. Thu 18 Aug @ 09:37:11\n",
      "\n"
     ]
    },
    {
     "data": {
      "image/png": "[encoded data removed]",
      "text/plain": [
       "<Figure size 432x288 with 2 Axes>"
      ]
     },
     "metadata": {
      "needs_background": "light"
     },
     "output_type": "display_data"
    },
    {
     "data": {
      "image/png": "[encoded data removed]",
      "text/plain": [
       "<Figure size 432x288 with 2 Axes>"
      ]
     },
     "metadata": {
      "needs_background": "light"
     },
     "output_type": "display_data"
    },
    {
     "data": {
      "image/png": "[encoded data removed]",
      "text/plain": [
       "<Figure size 432x288 with 2 Axes>"
      ]
     },
     "metadata": {
      "needs_background": "light"
     },
     "output_type": "display_data"
    },
    {
     "data": {
      "image/png": "[encoded data removed]",
      "text/plain": [
       "<Figure size 432x288 with 2 Axes>"
      ]
     },
     "metadata": {
      "needs_background": "light"
     },
     "output_type": "display_data"
    },
    {
     "data": {
      "image/png": "[encoded data removed]",
      "text/plain": [
       "<Figure size 432x288 with 2 Axes>"
      ]
     },
     "metadata": {
      "needs_background": "light"
     },
     "output_type": "display_data"
    },
    {
     "data": {
      "image/png": "[encoded data removed]",
      "text/plain": [
       "<Figure size 432x288 with 2 Axes>"
      ]
     },
     "metadata": {
      "needs_background": "light"
     },
     "output_type": "display_data"
    },
    {
     "data": {
      "image/png": "[encoded data removed]",
      "text/plain": [
       "<Figure size 432x288 with 2 Axes>"
      ]
     },
     "metadata": {
      "needs_background": "light"
     },
     "output_type": "display_data"
    },
    {
     "data": {
      "image/png": "[encoded data removed]",
      "text/plain": [
       "<Figure size 432x288 with 2 Axes>"
      ]
     },
     "metadata": {
      "needs_background": "light"
     },
     "output_type": "display_data"
    },
    {
     "data": {
      "image/png": "[encoded data removed]",
      "text/plain": [
       "<Figure size 432x288 with 2 Axes>"
      ]
     },
     "metadata": {
      "needs_background": "light"
     },
     "output_type": "display_data"
    },
    {
     "data": {
      "image/png": "[encoded data removed]",
      "text/plain": [
       "<Figure size 432x288 with 2 Axes>"
      ]
     },
     "metadata": {
      "needs_background": "light"
     },
     "output_type": "display_data"
    },
    {
     "data": {
      "image/png": "[encoded data removed]",
      "text/plain": [
       "<Figure size 432x288 with 2 Axes>"
      ]
     },
     "metadata": {
      "needs_background": "light"
     },
     "output_type": "display_data"
    },
    {
     "data": {
      "image/png": "[encoded data removed]",
      "text/plain": [
       "<Figure size 432x288 with 2 Axes>"
      ]
     },
     "metadata": {
      "needs_background": "light"
     },
     "output_type": "display_data"
    }
   ],
   "source": [
    "### Rolling validation.\n",
    "start = '2020-08-01'\n",
    "end = '2022-08-01'\n",
    "\n",
    "data = pd.read_feather('./Data/backtesting_vt_Bostock_2Y.feather')\n",
    "lag = [60, 180]\n",
    "return_threhold = 0.002\n",
    "max_depth = 6\n",
    "n_estimators = 10\n",
    "random_state = 101\n",
    "\n",
    "factor_functions = [Features.cal_close_avg, Features.cal_bk_return, Features.cal_high_low, Features.cal_max_mean,\n",
    "                    Features.cal_min_mean,\n",
    "                    Features.cal_volume_avg, Features.cal_max_mean_volume, Features.cal_min_mean_volume,\n",
    "                    Features.cal_std, Features.r_zscore, Features.Parkinson]\n",
    "\n",
    "# Create the class\n",
    "ml = MachineLearning(data)\n",
    "\n",
    "# # Generate the features\n",
    "ml.GenerateFeature(lag,factor_functions,return_threhold)\n",
    "\n",
    "Forecast_Field = 'results'\n",
    "Features_Field = [idx for idx in ml.data.columns if idx[:6] == 'Factor']\n",
    "\n",
    "# ml.RunModel(max_depth,n_estimators,random_state,'Open Time',Forecast_Field,Features_Field,start,mid,end)\n",
    "# Train 12mths validate 1month\n",
    "\n",
    "Rolling_Results = ml.RollingValidation(max_depth,n_estimators,random_state,'Open Time',\n",
    "                     Forecast_Field,Features_Field,\n",
    "                     date(2020, 8, 1),date(2022, 8, 1), 12, 1)\n",
    "        \n",
    "\n",
    "\n",
    "\n",
    "Keep_Track()"
   ]
  },
  {
   "cell_type": "code",
   "execution_count": 15,
   "id": "40917d33",
   "metadata": {},
   "outputs": [
    {
     "data": {
      "text/html": [
       "<div>\n",
       "<style scoped>\n",
       "    .dataframe tbody tr th:only-of-type {\n",
       "        vertical-align: middle;\n",
       "    }\n",
       "\n",
       "    .dataframe tbody tr th {\n",
       "        vertical-align: top;\n",
       "    }\n",
       "\n",
       "    .dataframe thead th {\n",
       "        text-align: right;\n",
       "    }\n",
       "</style>\n",
       "<table border=\"1\" class=\"dataframe\">\n",
       "  <thead>\n",
       "    <tr style=\"text-align: right;\">\n",
       "      <th></th>\n",
       "      <th>start</th>\n",
       "      <th>mid</th>\n",
       "      <th>end</th>\n",
       "      <th>precision</th>\n",
       "      <th>recall</th>\n",
       "      <th>f1</th>\n",
       "      <th>accuracy</th>\n",
       "      <th>testskew</th>\n",
       "      <th>trainlen</th>\n",
       "      <th>testlen</th>\n",
       "      <th>sharpe_model</th>\n",
       "      <th>max_dd_model</th>\n",
       "    </tr>\n",
       "  </thead>\n",
       "  <tbody>\n",
       "    <tr>\n",
       "      <th>0</th>\n",
       "      <td>2020-08-01</td>\n",
       "      <td>2021-08-01</td>\n",
       "      <td>2021-09-01</td>\n",
       "      <td>0.534247</td>\n",
       "      <td>0.609375</td>\n",
       "      <td>0.569343</td>\n",
       "      <td>0.557223</td>\n",
       "      <td>0.480300</td>\n",
       "      <td>6492</td>\n",
       "      <td>533</td>\n",
       "      <td>3.851336</td>\n",
       "      <td>-0.059906</td>\n",
       "    </tr>\n",
       "    <tr>\n",
       "      <th>1</th>\n",
       "      <td>2020-09-01</td>\n",
       "      <td>2021-09-01</td>\n",
       "      <td>2021-10-01</td>\n",
       "      <td>0.494737</td>\n",
       "      <td>0.643836</td>\n",
       "      <td>0.559524</td>\n",
       "      <td>0.583490</td>\n",
       "      <td>0.410882</td>\n",
       "      <td>6534</td>\n",
       "      <td>533</td>\n",
       "      <td>0.508397</td>\n",
       "      <td>-0.092251</td>\n",
       "    </tr>\n",
       "    <tr>\n",
       "      <th>2</th>\n",
       "      <td>2020-10-01</td>\n",
       "      <td>2021-10-01</td>\n",
       "      <td>2021-11-01</td>\n",
       "      <td>0.416244</td>\n",
       "      <td>0.438503</td>\n",
       "      <td>0.427083</td>\n",
       "      <td>0.583333</td>\n",
       "      <td>0.354167</td>\n",
       "      <td>6561</td>\n",
       "      <td>528</td>\n",
       "      <td>1.046034</td>\n",
       "      <td>-0.053314</td>\n",
       "    </tr>\n",
       "    <tr>\n",
       "      <th>3</th>\n",
       "      <td>2020-11-01</td>\n",
       "      <td>2021-11-01</td>\n",
       "      <td>2021-12-01</td>\n",
       "      <td>0.478495</td>\n",
       "      <td>0.442786</td>\n",
       "      <td>0.459948</td>\n",
       "      <td>0.598848</td>\n",
       "      <td>0.385797</td>\n",
       "      <td>6562</td>\n",
       "      <td>521</td>\n",
       "      <td>4.187813</td>\n",
       "      <td>-0.038526</td>\n",
       "    </tr>\n",
       "    <tr>\n",
       "      <th>4</th>\n",
       "      <td>2020-12-01</td>\n",
       "      <td>2021-12-01</td>\n",
       "      <td>2022-01-01</td>\n",
       "      <td>0.437186</td>\n",
       "      <td>0.446154</td>\n",
       "      <td>0.441624</td>\n",
       "      <td>0.578544</td>\n",
       "      <td>0.373563</td>\n",
       "      <td>6563</td>\n",
       "      <td>522</td>\n",
       "      <td>1.983189</td>\n",
       "      <td>-0.041533</td>\n",
       "    </tr>\n",
       "    <tr>\n",
       "      <th>5</th>\n",
       "      <td>2021-01-01</td>\n",
       "      <td>2022-01-01</td>\n",
       "      <td>2022-02-01</td>\n",
       "      <td>0.497382</td>\n",
       "      <td>0.487179</td>\n",
       "      <td>0.492228</td>\n",
       "      <td>0.628083</td>\n",
       "      <td>0.370019</td>\n",
       "      <td>6549</td>\n",
       "      <td>527</td>\n",
       "      <td>1.843994</td>\n",
       "      <td>-0.067889</td>\n",
       "    </tr>\n",
       "    <tr>\n",
       "      <th>6</th>\n",
       "      <td>2021-02-01</td>\n",
       "      <td>2022-02-01</td>\n",
       "      <td>2022-03-01</td>\n",
       "      <td>0.500000</td>\n",
       "      <td>0.535912</td>\n",
       "      <td>0.517333</td>\n",
       "      <td>0.632860</td>\n",
       "      <td>0.367140</td>\n",
       "      <td>6504</td>\n",
       "      <td>493</td>\n",
       "      <td>-3.129017</td>\n",
       "      <td>-0.179592</td>\n",
       "    </tr>\n",
       "    <tr>\n",
       "      <th>7</th>\n",
       "      <td>2021-03-01</td>\n",
       "      <td>2022-03-01</td>\n",
       "      <td>2022-04-01</td>\n",
       "      <td>0.509554</td>\n",
       "      <td>0.481928</td>\n",
       "      <td>0.495356</td>\n",
       "      <td>0.700917</td>\n",
       "      <td>0.304587</td>\n",
       "      <td>6484</td>\n",
       "      <td>545</td>\n",
       "      <td>1.652659</td>\n",
       "      <td>-0.125853</td>\n",
       "    </tr>\n",
       "    <tr>\n",
       "      <th>8</th>\n",
       "      <td>2021-04-01</td>\n",
       "      <td>2022-04-01</td>\n",
       "      <td>2022-05-01</td>\n",
       "      <td>0.466102</td>\n",
       "      <td>0.447154</td>\n",
       "      <td>0.456432</td>\n",
       "      <td>0.751423</td>\n",
       "      <td>0.233397</td>\n",
       "      <td>6465</td>\n",
       "      <td>527</td>\n",
       "      <td>-0.854562</td>\n",
       "      <td>-0.061004</td>\n",
       "    </tr>\n",
       "    <tr>\n",
       "      <th>9</th>\n",
       "      <td>2021-05-01</td>\n",
       "      <td>2022-05-01</td>\n",
       "      <td>2022-06-01</td>\n",
       "      <td>0.489083</td>\n",
       "      <td>0.589474</td>\n",
       "      <td>0.534606</td>\n",
       "      <td>0.638219</td>\n",
       "      <td>0.352505</td>\n",
       "      <td>6433</td>\n",
       "      <td>539</td>\n",
       "      <td>-0.855457</td>\n",
       "      <td>-0.099254</td>\n",
       "    </tr>\n",
       "    <tr>\n",
       "      <th>10</th>\n",
       "      <td>2021-06-01</td>\n",
       "      <td>2022-06-01</td>\n",
       "      <td>2022-07-01</td>\n",
       "      <td>0.484277</td>\n",
       "      <td>0.712963</td>\n",
       "      <td>0.576779</td>\n",
       "      <td>0.574388</td>\n",
       "      <td>0.406780</td>\n",
       "      <td>6377</td>\n",
       "      <td>531</td>\n",
       "      <td>0.360006</td>\n",
       "      <td>-0.099311</td>\n",
       "    </tr>\n",
       "    <tr>\n",
       "      <th>11</th>\n",
       "      <td>2021-07-01</td>\n",
       "      <td>2022-07-01</td>\n",
       "      <td>2022-08-01</td>\n",
       "      <td>0.477612</td>\n",
       "      <td>0.786885</td>\n",
       "      <td>0.594427</td>\n",
       "      <td>0.547496</td>\n",
       "      <td>0.421416</td>\n",
       "      <td>6364</td>\n",
       "      <td>579</td>\n",
       "      <td>3.136364</td>\n",
       "      <td>-0.057738</td>\n",
       "    </tr>\n",
       "  </tbody>\n",
       "</table>\n",
       "</div>"
      ],
      "text/plain": [
       "         start         mid         end  precision    recall        f1  \\\n",
       "0   2020-08-01  2021-08-01  2021-09-01   0.534247  0.609375  0.569343   \n",
       "1   2020-09-01  2021-09-01  2021-10-01   0.494737  0.643836  0.559524   \n",
       "2   2020-10-01  2021-10-01  2021-11-01   0.416244  0.438503  0.427083   \n",
       "3   2020-11-01  2021-11-01  2021-12-01   0.478495  0.442786  0.459948   \n",
       "4   2020-12-01  2021-12-01  2022-01-01   0.437186  0.446154  0.441624   \n",
       "5   2021-01-01  2022-01-01  2022-02-01   0.497382  0.487179  0.492228   \n",
       "6   2021-02-01  2022-02-01  2022-03-01   0.500000  0.535912  0.517333   \n",
       "7   2021-03-01  2022-03-01  2022-04-01   0.509554  0.481928  0.495356   \n",
       "8   2021-04-01  2022-04-01  2022-05-01   0.466102  0.447154  0.456432   \n",
       "9   2021-05-01  2022-05-01  2022-06-01   0.489083  0.589474  0.534606   \n",
       "10  2021-06-01  2022-06-01  2022-07-01   0.484277  0.712963  0.576779   \n",
       "11  2021-07-01  2022-07-01  2022-08-01   0.477612  0.786885  0.594427   \n",
       "\n",
       "    accuracy  testskew  trainlen  testlen  sharpe_model  max_dd_model  \n",
       "0   0.557223  0.480300      6492      533      3.851336     -0.059906  \n",
       "1   0.583490  0.410882      6534      533      0.508397     -0.092251  \n",
       "2   0.583333  0.354167      6561      528      1.046034     -0.053314  \n",
       "3   0.598848  0.385797      6562      521      4.187813     -0.038526  \n",
       "4   0.578544  0.373563      6563      522      1.983189     -0.041533  \n",
       "5   0.628083  0.370019      6549      527      1.843994     -0.067889  \n",
       "6   0.632860  0.367140      6504      493     -3.129017     -0.179592  \n",
       "7   0.700917  0.304587      6484      545      1.652659     -0.125853  \n",
       "8   0.751423  0.233397      6465      527     -0.854562     -0.061004  \n",
       "9   0.638219  0.352505      6433      539     -0.855457     -0.099254  \n",
       "10  0.574388  0.406780      6377      531      0.360006     -0.099311  \n",
       "11  0.547496  0.421416      6364      579      3.136364     -0.057738  "
      ]
     },
     "execution_count": 15,
     "metadata": {},
     "output_type": "execute_result"
    }
   ],
   "source": [
    "Rolling_Results"
   ]
  },
  {
   "cell_type": "code",
   "execution_count": 16,
   "id": "85552bf8",
   "metadata": {},
   "outputs": [
    {
     "data": {
      "text/plain": [
       "<matplotlib.legend.Legend at 0x1cc839dc460>"
      ]
     },
     "execution_count": 16,
     "metadata": {},
     "output_type": "execute_result"
    },
    {
     "data": {
      "image/png": "[encoded data removed]",
      "text/plain": [
       "<Figure size 1332x1080 with 3 Axes>"
      ]
     },
     "metadata": {
      "needs_background": "light"
     },
     "output_type": "display_data"
    }
   ],
   "source": [
    "# Plot results\n",
    "fig, axs = plt.subplots(3,1)\n",
    "fig.set_size_inches(18.5, 15)\n",
    "\n",
    "# Create the  plot\n",
    "axs[0].plot(range(0,12), Rolling_Results['precision'], color = 'r',label = 'Precision')\n",
    "axs[0].plot(range(0,12), Rolling_Results['testskew'], color = 'b',label = 'Skew')\n",
    "axs[0].axhline(y=0.5)\n",
    "axs[0].set_ylabel('Value')\n",
    "axs[0].set_title('Rolling validation')\n",
    "# axs[0].set_xlim([0,1])\n",
    "axs[0].set_ylim([0,1])\n",
    "\n",
    "axs[1].plot(range(0,12), Rolling_Results['max_dd_model'], color = 'r',label = 'Max Drawdown [Model]')\n",
    "# axs[0].plot(range(0,12), Rolling_Results['testskew'], color = 'b',label = 'Skew')\n",
    "axs[1].set_ylabel('Value')\n",
    "axs[1].set_title('Max Drawdown')\n",
    "# axs[0].set_xlim([0,1])\n",
    "axs[1].set_ylim([-0.4,0])\n",
    "\n",
    "axs[2].plot(range(0,12), Rolling_Results['sharpe_model'], color = 'r',label = 'Sharpe [Model]')\n",
    "# axs[0].plot(range(0,12), Rolling_Results['testskew'], color = 'b',label = 'Skew')\n",
    "axs[2].set_ylabel('Value')\n",
    "axs[2].set_title('Sharpe Ratio')\n",
    "# axs[0].set_xlim([0,1])\n",
    "# axs[2].set_ylim([-0.4,0])\n",
    "\n",
    "\n",
    "\n",
    "\n",
    "axs[0].legend(loc='upper right')\n",
    "axs[1].legend(loc='upper left')"
   ]
  }
 ],
 "metadata": {
  "kernelspec": {
   "display_name": "Python 3 (ipykernel)",
   "language": "python",
   "name": "python3"
  },
  "language_info": {
   "codemirror_mode": {
    "name": "ipython",
    "version": 3
   },
   "file_extension": ".py",
   "mimetype": "text/x-python",
   "name": "python",
   "nbconvert_exporter": "python",
   "pygments_lexer": "ipython3",
   "version": "3.9.7"
  }
 },
 "nbformat": 4,
 "nbformat_minor": 5
}
