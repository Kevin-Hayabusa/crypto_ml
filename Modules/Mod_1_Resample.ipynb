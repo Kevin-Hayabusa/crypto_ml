{
 "cells": [
  {
   "cell_type": "markdown",
   "id": "1f170d19",
   "metadata": {},
   "source": [
    "### ------------------ Module 1: Load and transform data ------------------"
   ]
  },
  {
   "cell_type": "markdown",
   "id": "573763c4",
   "metadata": {},
   "source": [
    "- What: Load Raw data and resample to minute\n",
    "- When: 13 May 2022"
   ]
  },
  {
   "cell_type": "markdown",
   "id": "308865b2",
   "metadata": {},
   "source": [
    "$\\color{red}{\\text{Define Parameters:}}$"
   ]
  },
  {
   "cell_type": "code",
   "execution_count": null,
   "id": "343a577b",
   "metadata": {},
   "outputs": [],
   "source": [
    "# Location of input data to be resampled\n",
    "FileName = 'OneDrive_1_5-6-2022/ethbusd(2022.4.1_5.10).csv'\n",
    "\n",
    "# Location of output data\n",
    "SaveFile = 'OneDrive_1_5-6-2022/ethbusd(2022.4.1_5.10)_1min.csv'\n",
    "\n",
    "# Define the resample interval\n",
    "interval='60s'"
   ]
  },
  {
   "cell_type": "markdown",
   "id": "0e67a3a0",
   "metadata": {},
   "source": [
    "#### 1. Load libraries"
   ]
  },
  {
   "cell_type": "code",
   "execution_count": null,
   "id": "a97d087d",
   "metadata": {},
   "outputs": [],
   "source": [
    "import pandas as pd\n",
    "import matplotlib.pyplot as plt\n",
    "import numpy as np\n",
    "import datetime as dt\n",
    "\n",
    "# Little function to keep track of code execution.\n",
    "def Keep_Track():\n",
    "    print(\"Executed successfully. \" + dt.datetime.now().strftime(\"%a %d %b @ %H:%M:%S\") + \"\\n\")\n",
    "\n",
    "Keep_Track()"
   ]
  },
  {
   "cell_type": "markdown",
   "id": "8a8058e4",
   "metadata": {},
   "source": [
    "#### 2. Load the raw data"
   ]
  },
  {
   "cell_type": "code",
   "execution_count": null,
   "id": "f476b33f",
   "metadata": {},
   "outputs": [],
   "source": [
    "print('* Loading data.')\n",
    "Data = pd.read_csv(FileName)\n",
    "\n",
    "# Provide a quick summary of how many records we have\n",
    "print('* Data loaded   :', len(Data),'records.')\n",
    "\n",
    "# Filter out any records with NA.\n",
    "Data = Data[~Data.isna().any(axis=1)]\n",
    "\n",
    "print('* Create datetime field')\n",
    "# Create a datatime field\n",
    "Data['trade_timestamp'] = pd.to_datetime(Data['trade_timestamp'], dayfirst=True)\n",
    "Data = Data.sort_values(by=['trade_timestamp']).reset_index()\n",
    "\n",
    "print('* First Date    :', np.min(Data['trade_timestamp']))\n",
    "print('* Last trade    :', np.max(Data['trade_timestamp']))\n",
    "\n",
    "# Reset the index on the dataframe.\n",
    "Data = Data.set_index('trade_timestamp')\n",
    "\n",
    "print('')\n",
    "Keep_Track()"
   ]
  },
  {
   "cell_type": "code",
   "execution_count": null,
   "id": "9f488ed6",
   "metadata": {},
   "outputs": [],
   "source": [
    "# Define resample interval and collect some key aggregations.\n",
    "Data = pd.concat([Data.trade_unit_price.resample(interval).ohlc(),Data.trade_amt.resample(interval).sum()],axis=1)\n",
    "Data = Data.reset_index()\n",
    "Data = Data.rename(columns = {'trade_timestamp':'start_timestamp', 'open':'open_price', 'close':'close_price','high':'high_price', 'low':'low_price'})"
   ]
  },
  {
   "cell_type": "markdown",
   "id": "56beb250",
   "metadata": {},
   "source": [
    "#### 3. Save the resampled data"
   ]
  },
  {
   "cell_type": "code",
   "execution_count": null,
   "id": "d7b7605b",
   "metadata": {},
   "outputs": [],
   "source": [
    "print('* Saving file to', SaveFile)\n",
    "Data.to_csv(SaveFile, index=False)\n",
    "print('')\n",
    "Keep_Track()"
   ]
  },
  {
   "cell_type": "markdown",
   "id": "bd9c03f7",
   "metadata": {},
   "source": [
    "Test"
   ]
  },
  {
   "cell_type": "code",
   "execution_count": null,
   "id": "398cbdf2",
   "metadata": {},
   "outputs": [],
   "source": [
    "pd.read_csv(SaveFile)"
   ]
  }
 ],
 "metadata": {
  "kernelspec": {
   "display_name": "Python 3 (ipykernel)",
   "language": "python",
   "name": "python3"
  },
  "language_info": {
   "codemirror_mode": {
    "name": "ipython",
    "version": 3
   },
   "file_extension": ".py",
   "mimetype": "text/x-python",
   "name": "python",
   "nbconvert_exporter": "python",
   "pygments_lexer": "ipython3",
   "version": "3.9.7"
  }
 },
 "nbformat": 4,
 "nbformat_minor": 5
}
