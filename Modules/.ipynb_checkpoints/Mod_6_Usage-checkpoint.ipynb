{
 "cells": [
  {
   "cell_type": "markdown",
   "metadata": {},
   "source": [
    "### ------------------ Module 6: Example Usage ------------------"
   ]
  },
  {
   "cell_type": "markdown",
   "metadata": {},
   "source": [
    "- What: Load pickled model and demonstrate use\n",
    "- When: 04 August 2022   "
   ]
  },
  {
   "cell_type": "markdown",
   "metadata": {},
   "source": [
    "$\\color{red}{\\text{Define Parameters:}}$"
   ]
  },
  {
   "cell_type": "code",
   "execution_count": 1,
   "metadata": {},
   "outputs": [],
   "source": [
    "# Path to data (if any)\n",
    "Data_Path = './data/'\n",
    "Data_Name = 'BTCUSDT_1MINUTE.feather'\n",
    "\n",
    "# Path to model (Required)\n",
    "Model_Path = './Models/'\n",
    "Model_Name = 'BTC_20210601_20211001'\n",
    "\n",
    "# Path to class (Required)\n",
    "Class_Path = './Classes/'\n",
    "Class_Name = 'Indicator_Class.txt'"
   ]
  },
  {
   "cell_type": "markdown",
   "metadata": {},
   "source": [
    "#### Load some important libaries"
   ]
  },
  {
   "cell_type": "code",
   "execution_count": 2,
   "metadata": {},
   "outputs": [
    {
     "name": "stdout",
     "output_type": "stream",
     "text": [
      "Executed successfully. Sat 06 Aug @ 11:21:12\n",
      "\n"
     ]
    }
   ],
   "source": [
    "import os\n",
    "import pandas as pd\n",
    "import numpy as np\n",
    "import pickle\n",
    "import dill\n",
    "\n",
    "from sklearn.ensemble import RandomForestClassifier\n",
    "from datetime import date,datetime\n",
    "\n",
    "# Little function to keep track of code execution.\n",
    "def Keep_Track():\n",
    "    print(\"Executed successfully. \" + datetime.now().strftime(\"%a %d %b @ %H:%M:%S\") + \"\\n\")\n",
    "    \n",
    "# Function to load the class which coordinates calculations\n",
    "def Load_Class(Class_Name):\n",
    "    try:\n",
    "        file = open(Class_Path+Class_Name, \"rb\")\n",
    "        Indicator_Model = dill.loads(file.read())\n",
    "        print('*',Class_Name, 'loaded.')\n",
    "        return Indicator_Model\n",
    "    except:\n",
    "        print('* Error loading class')\n",
    "    \n",
    "Keep_Track()"
   ]
  },
  {
   "cell_type": "markdown",
   "metadata": {},
   "source": [
    "Load the class to coordinate calculations"
   ]
  },
  {
   "cell_type": "code",
   "execution_count": 3,
   "metadata": {},
   "outputs": [
    {
     "name": "stdout",
     "output_type": "stream",
     "text": [
      "* Indicator_Class.txt loaded.\n",
      "\n",
      "Executed successfully. Sat 06 Aug @ 11:21:16\n",
      "\n"
     ]
    }
   ],
   "source": [
    "# Load the class\n",
    "# Input: Class_Name (e.g. 'Indicator_Class.txt')\n",
    "\n",
    "Indicator_Model = Load_Class(Class_Name)\n",
    "\n",
    "print('')\n",
    "Keep_Track()"
   ]
  },
  {
   "cell_type": "markdown",
   "metadata": {},
   "source": [
    "#### Example 1:  Load data from file"
   ]
  },
  {
   "cell_type": "markdown",
   "metadata": {},
   "source": [
    "1.1 Load the data from file"
   ]
  },
  {
   "cell_type": "code",
   "execution_count": 4,
   "metadata": {},
   "outputs": [
    {
     "name": "stdout",
     "output_type": "stream",
     "text": [
      "* Feather data file: BTCUSDT_1MINUTE.feather\n",
      "* Model loaded     : BTC_20210601_20211001\n",
      "\n",
      "Executed successfully. Sat 06 Aug @ 11:21:19\n",
      "\n"
     ]
    }
   ],
   "source": [
    "# Create the class and initialise with the trained models.\n",
    "# Inputs:\n",
    "# Data_Path  : The directory where the data has been stored (or a Dataframe in memory or 'Binance')\n",
    "# Model_Path : The directory where the model file is stored\n",
    "# Data_Name  : The name of the data file (None if using a dataframe in memory or 'BTCUSDT' if direct from Binance)\n",
    "# Model_Name : The name of the model\n",
    "\n",
    "Example_One = Indicator_Model(Data_Path, Model_Path, Data_Name, Model_Name) \n",
    "\n",
    "print('')\n",
    "Keep_Track()"
   ]
  },
  {
   "cell_type": "markdown",
   "metadata": {},
   "source": [
    "1.2 Take a look at the the current state of the class"
   ]
  },
  {
   "cell_type": "code",
   "execution_count": 5,
   "metadata": {},
   "outputs": [
    {
     "name": "stdout",
     "output_type": "stream",
     "text": [
      "* Data Loaded : True\n",
      "  - Symbol    : BTCUSDT_1MINUTE\n",
      "  - Type      : feather\n",
      "  - Data Error: False\n",
      "  - Loaded @  : Sat 06 Aug @ 11:21:19\n",
      "  - Records   : 525211\n",
      "  - Max date  : 2022-05-01 00:00:00\n",
      "  - Min date  : 2021-05-01 00:00:00\n",
      "* Model Loaded: True\n",
      "  - Model name: BTC_20210601_20211001\n",
      "  - Loaded @  : Sat 06 Aug @ 11:21:19\n",
      "* Forecast(s) : False\n",
      "\n",
      "  Executed successfully. Sat 06 Aug @ 11:21:23\n",
      "\n"
     ]
    }
   ],
   "source": [
    "Example_One.get_info()"
   ]
  },
  {
   "cell_type": "markdown",
   "metadata": {},
   "source": [
    "1.3 Calculate the indicator(s)"
   ]
  },
  {
   "cell_type": "code",
   "execution_count": 6,
   "metadata": {},
   "outputs": [
    {
     "data": {
      "text/html": [
       "<div>\n",
       "<style scoped>\n",
       "    .dataframe tbody tr th:only-of-type {\n",
       "        vertical-align: middle;\n",
       "    }\n",
       "\n",
       "    .dataframe tbody tr th {\n",
       "        vertical-align: top;\n",
       "    }\n",
       "\n",
       "    .dataframe thead th {\n",
       "        text-align: right;\n",
       "    }\n",
       "</style>\n",
       "<table border=\"1\" class=\"dataframe\">\n",
       "  <thead>\n",
       "    <tr style=\"text-align: right;\">\n",
       "      <th></th>\n",
       "      <th>Forecast Time</th>\n",
       "      <th>Open Time</th>\n",
       "      <th>Probability</th>\n",
       "    </tr>\n",
       "  </thead>\n",
       "  <tbody>\n",
       "    <tr>\n",
       "      <th>0</th>\n",
       "      <td>Sat 06 Aug @ 11:21:27</td>\n",
       "      <td>2022-04-30 23:59:00</td>\n",
       "      <td>0.572965</td>\n",
       "    </tr>\n",
       "    <tr>\n",
       "      <th>1</th>\n",
       "      <td>Sat 06 Aug @ 11:21:27</td>\n",
       "      <td>2022-05-01 00:00:00</td>\n",
       "      <td>0.575399</td>\n",
       "    </tr>\n",
       "  </tbody>\n",
       "</table>\n",
       "</div>"
      ],
      "text/plain": [
       "           Forecast Time           Open Time  Probability\n",
       "0  Sat 06 Aug @ 11:21:27 2022-04-30 23:59:00     0.572965\n",
       "1  Sat 06 Aug @ 11:21:27 2022-05-01 00:00:00     0.575399"
      ]
     },
     "execution_count": 6,
     "metadata": {},
     "output_type": "execute_result"
    }
   ],
   "source": [
    "Example_One.Calculate_Indicator(2)"
   ]
  },
  {
   "cell_type": "markdown",
   "metadata": {},
   "source": [
    "#### Example 2: Run directly using loaded dataframe (e.g. from Binance)"
   ]
  },
  {
   "cell_type": "markdown",
   "metadata": {},
   "source": [
    "2.1 Import Binance as an example"
   ]
  },
  {
   "cell_type": "code",
   "execution_count": 7,
   "metadata": {},
   "outputs": [],
   "source": [
    "# import the binance library\n",
    "from binance import Client, ThreadedWebsocketManager,ThreadedDepthCacheManager"
   ]
  },
  {
   "cell_type": "markdown",
   "metadata": {},
   "source": [
    "2.2 Define a function to collect the data in the required format"
   ]
  },
  {
   "cell_type": "code",
   "execution_count": 8,
   "metadata": {},
   "outputs": [
    {
     "name": "stdout",
     "output_type": "stream",
     "text": [
      "\n",
      "Executed successfully. Sat 06 Aug @ 11:21:34\n",
      "\n"
     ]
    }
   ],
   "source": [
    "def get_historical_klines_binance(client,ticker,start_time,end_time,kline_interval,path=None):\n",
    "    '''\n",
    "    Function to download historical kline data from Binance\n",
    "    \n",
    "    client        : Binance client object\n",
    "    ticker        : the ccy ticker eg: BTCBUSD\n",
    "    start_time    : start time in string format e.g '1 Jan 2021'\n",
    "    end_time      : end time in string format\n",
    "    kline_interval: kline interval eg: 15MINUTE\n",
    "    save_file     : if true will save in feather format\n",
    "    '''\n",
    "    #Query binance API and format returned dictionary into dataframe\n",
    "    raw = client.get_historical_klines(symbol=ticker, interval=getattr(Client,f'KLINE_INTERVAL_{kline_interval}'),start_str=start_time,end_str=end_time)\n",
    "    \n",
    "    # Convert to Dataframe\n",
    "    df = pd.DataFrame(raw)\n",
    "    \n",
    "    # Define columns\n",
    "    df.columns=['Open Time','Open','High','Low','Close','Volume','Close Time','Quote Asset Volume','Number of Trades','TB Base Volume','TB Quote Volume','ignore']\n",
    "    \n",
    "    # Format\n",
    "    df['Open Time']=pd.to_datetime(df['Open Time']/1000,unit='s')\n",
    "    df['Close Time']=pd.to_datetime(df['Close Time']/1000,unit='s')\n",
    "    \n",
    "    # Change object values into numeric \n",
    "    numeric_columns=['Open','High','Low','Close','Volume','Quote Asset Volume','TB Base Volume','TB Quote Volume']\n",
    "    df[numeric_columns]=df[numeric_columns].apply(pd.to_numeric,axis=1)\n",
    "    \n",
    "    # Save file into feather\n",
    "    if path is not None:\n",
    "#         file_name = f'{ticker}_{kline_interval}.feather'\n",
    "        file_name = 'Bostock_Test.feather'\n",
    "#         df.to_feather(os.path.join(path,file_name))\n",
    "        df.to_feather(file_name)\n",
    "        print(f'successful saved {file_name}')\n",
    "\n",
    "    print(f'total {len(df)} rows')\n",
    "    print(f\"first date: {np.min(df['Open Time'])}\")\n",
    "    print(f\"last date: {np.max(df['Close Time'])}\")\n",
    "    return df\n",
    "\n",
    "print('')\n",
    "Keep_Track()"
   ]
  },
  {
   "cell_type": "markdown",
   "metadata": {},
   "source": [
    "Collect the data"
   ]
  },
  {
   "cell_type": "code",
   "execution_count": 9,
   "metadata": {},
   "outputs": [
    {
     "name": "stdout",
     "output_type": "stream",
     "text": [
      "total 1441 rows\n",
      "first date: 2022-04-30 00:00:00\n",
      "last date: 2022-05-01 00:00:59.999000064\n",
      "\n",
      "Executed successfully. Sat 06 Aug @ 11:21:39\n",
      "\n"
     ]
    }
   ],
   "source": [
    "client = Client('','')\n",
    "start_time='30 April 2022'\n",
    "end_time='1 May 2022'\n",
    "ticker = 'BTCUSDT'\n",
    "kline_interval ='1MINUTE'\n",
    "\n",
    "# Collect the data from the API\n",
    "BTC_Example_Data = get_historical_klines_binance(client,ticker,start_time,end_time,kline_interval)\n",
    "\n",
    "print('')\n",
    "Keep_Track()"
   ]
  },
  {
   "cell_type": "code",
   "execution_count": 10,
   "metadata": {},
   "outputs": [
    {
     "name": "stdout",
     "output_type": "stream",
     "text": [
      "* Model loaded     : BTC_20210601_20211001\n",
      "\n",
      "Executed successfully. Sat 06 Aug @ 11:21:41\n",
      "\n"
     ]
    }
   ],
   "source": [
    "# Create the class and initialise with the trained models.\n",
    "# Inputs:\n",
    "# Data_Path  : The directory where the data has been stored (or a Dataframe in memory or 'Binance')\n",
    "# Model_Path : The directory where the model file is stored\n",
    "# Data_Name  : The name of the data file (None if using a dataframe in memory or 'BTCUSDT' if direct from Binance)\n",
    "# Model_Name : The name of the model\n",
    "\n",
    "Example_Two = Indicator_Model(BTC_Example_Data, Model_Path, None, Model_Name) \n",
    "\n",
    "print('')\n",
    "Keep_Track()"
   ]
  },
  {
   "cell_type": "markdown",
   "metadata": {},
   "source": [
    "Take a look at the current state of the class"
   ]
  },
  {
   "cell_type": "code",
   "execution_count": 11,
   "metadata": {},
   "outputs": [
    {
     "name": "stdout",
     "output_type": "stream",
     "text": [
      "* Data Loaded : True\n",
      "  - Symbol    : User\n",
      "  - Type      : None\n",
      "  - Data Error: False\n",
      "  - Loaded @  : Sat 06 Aug @ 11:21:41\n",
      "  - Records   : 1441\n",
      "  - Max date  : 2022-05-01 00:00:00\n",
      "  - Min date  : 2022-04-30 00:00:00\n",
      "* Model Loaded: True\n",
      "  - Model name: BTC_20210601_20211001\n",
      "  - Loaded @  : Sat 06 Aug @ 11:21:41\n",
      "* Forecast(s) : False\n",
      "\n",
      "  Executed successfully. Sat 06 Aug @ 11:21:44\n",
      "\n"
     ]
    }
   ],
   "source": [
    "Example_Two.get_info()"
   ]
  },
  {
   "cell_type": "code",
   "execution_count": 12,
   "metadata": {},
   "outputs": [
    {
     "data": {
      "text/html": [
       "<div>\n",
       "<style scoped>\n",
       "    .dataframe tbody tr th:only-of-type {\n",
       "        vertical-align: middle;\n",
       "    }\n",
       "\n",
       "    .dataframe tbody tr th {\n",
       "        vertical-align: top;\n",
       "    }\n",
       "\n",
       "    .dataframe thead th {\n",
       "        text-align: right;\n",
       "    }\n",
       "</style>\n",
       "<table border=\"1\" class=\"dataframe\">\n",
       "  <thead>\n",
       "    <tr style=\"text-align: right;\">\n",
       "      <th></th>\n",
       "      <th>Forecast Time</th>\n",
       "      <th>Open Time</th>\n",
       "      <th>Probability</th>\n",
       "    </tr>\n",
       "  </thead>\n",
       "  <tbody>\n",
       "    <tr>\n",
       "      <th>0</th>\n",
       "      <td>Sat 06 Aug @ 11:21:47</td>\n",
       "      <td>2022-05-01</td>\n",
       "      <td>0.575399</td>\n",
       "    </tr>\n",
       "  </tbody>\n",
       "</table>\n",
       "</div>"
      ],
      "text/plain": [
       "           Forecast Time  Open Time  Probability\n",
       "0  Sat 06 Aug @ 11:21:47 2022-05-01     0.575399"
      ]
     },
     "execution_count": 12,
     "metadata": {},
     "output_type": "execute_result"
    }
   ],
   "source": [
    "Example_Two.Calculate_Indicator(1)"
   ]
  },
  {
   "cell_type": "markdown",
   "metadata": {},
   "source": [
    "#### Example 3: Run directly from Binance"
   ]
  },
  {
   "cell_type": "code",
   "execution_count": 13,
   "metadata": {},
   "outputs": [
    {
     "name": "stdout",
     "output_type": "stream",
     "text": [
      "* Binance Data     : BTCUSDT\n",
      "* Model loaded     : BTC_20210601_20211001\n",
      "\n",
      "Executed successfully. Sat 06 Aug @ 11:21:51\n",
      "\n"
     ]
    }
   ],
   "source": [
    "# Create the class and initialise with the trained models.\n",
    "# Inputs:\n",
    "# Data_Path  : The directory where the data has been stored (or a Dataframe in memory or 'Binance')\n",
    "# Model_Path : The directory where the model file is stored\n",
    "# Data_Name  : The name of the data file (None if using a dataframe in memory or 'BTCUSDT' if direct from Binance)\n",
    "# Model_Name : The name of the model\n",
    "\n",
    "Example_Three = Indicator_Model('Binance', Model_Path, 'BTCUSDT', Model_Name) \n",
    "\n",
    "print('')\n",
    "Keep_Track()"
   ]
  },
  {
   "cell_type": "code",
   "execution_count": 14,
   "metadata": {},
   "outputs": [
    {
     "name": "stdout",
     "output_type": "stream",
     "text": [
      "* Data Loaded : True\n",
      "  - Symbol    : Binance\n",
      "  - Type      : None\n",
      "  - Data Error: False\n",
      "  - Loaded @  : Sat 06 Aug @ 11:21:51\n",
      "  - Records   : 181\n",
      "  - Max date  : 2022-08-05 23:21:00\n",
      "  - Min date  : 2022-08-05 20:21:00\n",
      "* Model Loaded: True\n",
      "  - Model name: BTC_20210601_20211001\n",
      "  - Loaded @  : Sat 06 Aug @ 11:21:51\n",
      "* Forecast(s) : False\n",
      "\n",
      "  Executed successfully. Sat 06 Aug @ 11:21:53\n",
      "\n"
     ]
    }
   ],
   "source": [
    "Example_Three.get_info()"
   ]
  },
  {
   "cell_type": "code",
   "execution_count": 15,
   "metadata": {},
   "outputs": [
    {
     "data": {
      "text/html": [
       "<div>\n",
       "<style scoped>\n",
       "    .dataframe tbody tr th:only-of-type {\n",
       "        vertical-align: middle;\n",
       "    }\n",
       "\n",
       "    .dataframe tbody tr th {\n",
       "        vertical-align: top;\n",
       "    }\n",
       "\n",
       "    .dataframe thead th {\n",
       "        text-align: right;\n",
       "    }\n",
       "</style>\n",
       "<table border=\"1\" class=\"dataframe\">\n",
       "  <thead>\n",
       "    <tr style=\"text-align: right;\">\n",
       "      <th></th>\n",
       "      <th>Forecast Time</th>\n",
       "      <th>Open Time</th>\n",
       "      <th>Probability</th>\n",
       "    </tr>\n",
       "  </thead>\n",
       "  <tbody>\n",
       "    <tr>\n",
       "      <th>0</th>\n",
       "      <td>Sat 06 Aug @ 11:21:55</td>\n",
       "      <td>2022-08-05 23:21:00</td>\n",
       "      <td>0.558283</td>\n",
       "    </tr>\n",
       "  </tbody>\n",
       "</table>\n",
       "</div>"
      ],
      "text/plain": [
       "           Forecast Time           Open Time  Probability\n",
       "0  Sat 06 Aug @ 11:21:55 2022-08-05 23:21:00     0.558283"
      ]
     },
     "execution_count": 15,
     "metadata": {},
     "output_type": "execute_result"
    }
   ],
   "source": [
    "Example_Three.Calculate_Indicator(1)"
   ]
  },
  {
   "cell_type": "markdown",
   "metadata": {},
   "source": [
    "#### Other"
   ]
  },
  {
   "cell_type": "markdown",
   "metadata": {},
   "source": [
    "A. Performance Test"
   ]
  },
  {
   "cell_type": "code",
   "execution_count": 16,
   "metadata": {},
   "outputs": [
    {
     "name": "stdout",
     "output_type": "stream",
     "text": [
      "* Binance Data     : BTCUSDT\n",
      "* Model loaded     : BTC_20210601_20211001\n"
     ]
    }
   ],
   "source": [
    "Test = Indicator_Model('Binance', Model_Path, 'BTCUSDT', Model_Name) "
   ]
  },
  {
   "cell_type": "code",
   "execution_count": 17,
   "metadata": {},
   "outputs": [
    {
     "name": "stdout",
     "output_type": "stream",
     "text": [
      "33.6 ms ± 2.09 ms per loop (mean ± std. dev. of 7 runs, 10 loops each)\n"
     ]
    }
   ],
   "source": [
    "%%timeit\n",
    "Test.Calculate_Indicator(1)"
   ]
  },
  {
   "cell_type": "code",
   "execution_count": 18,
   "metadata": {},
   "outputs": [
    {
     "name": "stdout",
     "output_type": "stream",
     "text": [
      "* Binance Data     : BTCUSDT\n",
      "* Model loaded     : BTC_20210601_20211001\n",
      "* Binance Data     : BTCUSDT\n",
      "* Model loaded     : BTC_20210601_20211001\n",
      "* Binance Data     : BTCUSDT\n",
      "* Model loaded     : BTC_20210601_20211001\n",
      "* Binance Data     : BTCUSDT\n",
      "* Model loaded     : BTC_20210601_20211001\n",
      "* Binance Data     : BTCUSDT\n",
      "* Model loaded     : BTC_20210601_20211001\n",
      "* Binance Data     : BTCUSDT\n",
      "* Model loaded     : BTC_20210601_20211001\n",
      "* Binance Data     : BTCUSDT\n",
      "* Model loaded     : BTC_20210601_20211001\n",
      "* Binance Data     : BTCUSDT\n",
      "* Model loaded     : BTC_20210601_20211001\n",
      "715 ms ± 19.5 ms per loop (mean ± std. dev. of 7 runs, 1 loop each)\n"
     ]
    }
   ],
   "source": [
    "%%timeit\n",
    "Test = Indicator_Model('Binance', Model_Path, 'BTCUSDT', Model_Name) \n",
    "Test.Calculate_Indicator(1)"
   ]
  },
  {
   "cell_type": "markdown",
   "metadata": {},
   "source": [
    "B.  Underlying data"
   ]
  },
  {
   "cell_type": "code",
   "execution_count": null,
   "metadata": {},
   "outputs": [],
   "source": [
    "Example_Three.data"
   ]
  }
 ],
 "metadata": {
  "kernelspec": {
   "display_name": "Python 3 (ipykernel)",
   "language": "python",
   "name": "python3"
  },
  "language_info": {
   "codemirror_mode": {
    "name": "ipython",
    "version": 3
   },
   "file_extension": ".py",
   "mimetype": "text/x-python",
   "name": "python",
   "nbconvert_exporter": "python",
   "pygments_lexer": "ipython3",
   "version": "3.9.7"
  }
 },
 "nbformat": 4,
 "nbformat_minor": 4
}
