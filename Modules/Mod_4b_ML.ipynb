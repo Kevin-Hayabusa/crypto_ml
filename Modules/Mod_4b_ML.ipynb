{
 "cells": [
  {
   "cell_type": "markdown",
   "metadata": {},
   "source": [
    "### ------------------ Module 4b: Machine Learning Analysis ------------------"
   ]
  },
  {
   "cell_type": "markdown",
   "metadata": {},
   "source": [
    "- What: Train Model and perform analysis\n",
    "- When: 05 July 2022   "
   ]
  },
  {
   "cell_type": "markdown",
   "metadata": {},
   "source": [
    "$\\color{red}{\\text{Define Parameters:}}$"
   ]
  },
  {
   "cell_type": "code",
   "execution_count": 66,
   "metadata": {},
   "outputs": [
    {
     "name": "stdout",
     "output_type": "stream",
     "text": [
      "* Path to data: ..\\Modules\\Data\\AlgoRun\\\n"
     ]
    }
   ],
   "source": [
    "# Path to previously collected data\n",
    "path='..\\\\Modules\\\\Data\\\\AlgoRun\\\\'\n",
    "\n",
    "print('* Path to data:', path)"
   ]
  },
  {
   "cell_type": "markdown",
   "metadata": {},
   "source": [
    "#### 1. Load some key libaries"
   ]
  },
  {
   "cell_type": "code",
   "execution_count": 2,
   "metadata": {},
   "outputs": [
    {
     "name": "stdout",
     "output_type": "stream",
     "text": [
      "Executed successfully. Tue 05 Jul @ 14:34:17\n",
      "\n"
     ]
    }
   ],
   "source": [
    "import os\n",
    "import pandas as pd\n",
    "import numpy as np\n",
    "import matplotlib.pyplot as plt\n",
    "# import seaborn as sns\n",
    "\n",
    "from hurst import compute_Hc, random_walk\n",
    "\n",
    "from sklearn.ensemble import RandomForestRegressor\n",
    "from sklearn.ensemble import RandomForestClassifier\n",
    "from sklearn.ensemble import GradientBoostingClassifier\n",
    "from sklearn.metrics import confusion_matrix\n",
    "from sklearn.inspection import permutation_importance\n",
    "\n",
    "from datetime import date,datetime\n",
    "\n",
    "# Little function to keep track of code execution.\n",
    "def Keep_Track():\n",
    "    print(\"Executed successfully. \" + datetime.now().strftime(\"%a %d %b @ %H:%M:%S\") + \"\\n\")\n",
    "    \n",
    "Keep_Track()"
   ]
  },
  {
   "cell_type": "markdown",
   "metadata": {},
   "source": [
    "#### 2. Load in a ticker list and the path of previously downloaded data (not currently used)"
   ]
  },
  {
   "cell_type": "code",
   "execution_count": null,
   "metadata": {},
   "outputs": [],
   "source": [
    "# # Load the parameters\n",
    "# top_mkt = pd.read_csv('TopMarket_Cap.csv')\n",
    "\n",
    "# # Get the ticket list\n",
    "# tickers = list(top_mkt.symbol+'USDT')\n",
    "\n",
    "# print('* Loaded',len(tickers),'tickers.')\n",
    "\n",
    "# print('')\n",
    "# Keep_Track()"
   ]
  },
  {
   "cell_type": "markdown",
   "metadata": {},
   "source": [
    "Take a look"
   ]
  },
  {
   "cell_type": "code",
   "execution_count": null,
   "metadata": {},
   "outputs": [],
   "source": [
    "# top_mkt.head(10)"
   ]
  },
  {
   "cell_type": "markdown",
   "metadata": {},
   "source": [
    "#### 3. Define various functions create features"
   ]
  },
  {
   "cell_type": "code",
   "execution_count": 3,
   "metadata": {},
   "outputs": [
    {
     "name": "stdout",
     "output_type": "stream",
     "text": [
      "   - Defining functions -\n",
      "\n",
      "* 1. Load data function\n",
      "* 2. Current close/avg\n",
      "* 3. Current volume/avg\n",
      "* 4. Period return up to now\n",
      "* 5. Period forward return up to w\n",
      "* 6. Rolling high/rolling low\n",
      "* 7. Rolling high/rolling mean\n",
      "* 8. Rolling min/rolling mean\n",
      "* 9. Rolling high/rolling mean for volume\n",
      "* 10. Rolling min/rolling mean for volume\n",
      "* 11. Rolling std \n",
      "* 12. Closing only\n",
      "* 13. Volume only\n",
      "* 14. Z-score\n",
      "* 15. Parkinson Vol\n",
      "* 16. Hurst\n",
      "\n",
      "Executed successfully. Tue 05 Jul @ 14:34:19\n",
      "\n"
     ]
    }
   ],
   "source": [
    "print('   - Defining functions -')\n",
    "print('')\n",
    "\n",
    "print('* 1. Load data function')\n",
    "def load_data(tickers,kline_interval,path):\n",
    "    '''\n",
    "    Load feather file and return panel data with OHLCV\n",
    "    '''\n",
    "    l={}\n",
    "    for tkrs in tickers:\n",
    "        try:\n",
    "            print(os.path.join(path,f'{tkrs}_{kline_interval}.feather'))\n",
    "            df = pd.read_feather(os.path.join(path,f'{tkrs}_{kline_interval}.feather'))\n",
    "            df = df.set_index('Open Time')\n",
    "            l[tkrs]=df\n",
    "        except:\n",
    "            print(f'{tkrs} is missing!')\n",
    "    df_panel = pd.concat(l).swaplevel().sort_index(level=[0,1])\n",
    "    df_panel.index.set_names('Ticker',1,inplace=True)\n",
    "    print('')\n",
    "    print(f'* Total ticker(s) queried {len(tickers)}, total record returned {len(df_panel.index.get_level_values(1).unique())}')\n",
    "    return df_panel\n",
    "\n",
    "print('* 2. Current close/avg')\n",
    "def cal_close_avg(df,w):\n",
    "    # Current close/avg\n",
    "    d={}\n",
    "    for i in w:\n",
    "        ds = (df.Close/(df.Close.rolling(i).mean()))\n",
    "        d[f'CurCloseDivAvg_{i}']=ds\n",
    "    return pd.concat(d,axis=1)\n",
    "\n",
    "print('* 3. Current volume/avg')\n",
    "def cal_volume_avg(df,w):\n",
    "    # Current volume/avg\n",
    "    d={}\n",
    "    for i in w:\n",
    "        ds = (df.Volume/(df.Volume.rolling(i).mean()))\n",
    "        d[f'CurVolumeDivAvg_{i}']=ds\n",
    "    return pd.concat(d,axis=1)\n",
    "\n",
    "print('* 4. Period return up to now')\n",
    "def cal_bk_return(df,w):\n",
    "    # Period return up to now\n",
    "    d={}\n",
    "    for i in w:\n",
    "        ds = df.Close.pct_change(i)\n",
    "        d[f'BackReturn_{i}']=ds\n",
    "    return pd.concat(d,axis=1)\n",
    "\n",
    "print('* 5. Period forward return up to w')\n",
    "def cal_fwd_return(df,w):\n",
    "    # Period forward return up to w\n",
    "    d={}\n",
    "    for i in w:\n",
    "        ds = df.Close.pct_change(i).shift(-i)\n",
    "        d[f'FwdReturn_{i}']=ds\n",
    "    return pd.concat(d,axis=1)\n",
    "\n",
    "print('* 6. Rolling high/rolling low')\n",
    "def cal_high_low(df,w):\n",
    "    #rolling high/rolling low\n",
    "    d={}\n",
    "    for i in w:\n",
    "        ds=df.High.rolling(i).max()/df.Low.rolling(i).min()\n",
    "        d[f'HighDivLow_{i}']=ds\n",
    "    return pd.concat(d,axis=1)\n",
    "\n",
    "print('* 7. Rolling high/rolling mean')\n",
    "def cal_max_mean(df,w):\n",
    "    #rolling high/rolling mean\n",
    "    d={}\n",
    "    for i in w:\n",
    "        ds=df.High.rolling(i).max()/df.Close.rolling(i).mean()\n",
    "        d[f'MaxDivMean_{i}']=ds\n",
    "    return pd.concat(d,axis=1)\n",
    "\n",
    "print('* 8. Rolling min/rolling mean')\n",
    "def cal_min_mean(df,w):\n",
    "    #rolling min/rolling mean\n",
    "    d={}\n",
    "    for i in w:\n",
    "        ds=df.Low.rolling(i).min()/df.Close.rolling(i).mean()\n",
    "        d[f'MinDivMean_{i}']=ds\n",
    "    return pd.concat(d,axis=1)\n",
    "\n",
    "print('* 9. Rolling high/rolling mean for volume')\n",
    "def cal_max_mean_volume(df,w):\n",
    "    #rolling high/rolling mean for volume\n",
    "    d={}\n",
    "    for i in w:\n",
    "        ds=df.Volume.rolling(i).max()/df.Volume.rolling(i).mean()\n",
    "        d[f'MaxDivMeanVolume_{i}']=ds\n",
    "    return pd.concat(d,axis=1)\n",
    "\n",
    "print('* 10. Rolling min/rolling mean for volume')\n",
    "def cal_min_mean_volume(df,w):\n",
    "    #rolling min/rolling mean for volume\n",
    "    d={}\n",
    "    for i in w:\n",
    "        ds=df.Volume.rolling(i).min()/df.Volume.rolling(i).mean()\n",
    "        d[f'MinDivMeanVolume_{i}']=ds\n",
    "    return pd.concat(d,axis=1)\n",
    "\n",
    "print('* 11. Rolling std ')\n",
    "def cal_std(df,w):\n",
    "    #rolling std \n",
    "    d={}\n",
    "    for i in w:\n",
    "        ds=df.Close.rolling(i).std()\n",
    "        d[f'Std_{i}']=ds\n",
    "    return pd.concat(d,axis=1)\n",
    "\n",
    "print('* 12. Closing only')\n",
    "def Closing(df,w):\n",
    "    #rolling std \n",
    "    d={}\n",
    "    for i in w:\n",
    "        ds=df.Close.shift(i)\n",
    "        d[f'Close_{i}']=ds\n",
    "    \n",
    "     # Include current by default \n",
    "    d[f'Close_{0}'] = df.Close\n",
    "    return pd.concat(d,axis=1)\n",
    "\n",
    "print('* 13. Volume only')\n",
    "def Volume(df,w):\n",
    "    #rolling std \n",
    "    d={}\n",
    "    for i in w:\n",
    "        ds=df.Volume.shift(i)\n",
    "        d[f'Volume_{i}']=ds\n",
    "        \n",
    "    # Include current by default     \n",
    "    d[f'Volume_{0}']=df.Volume   \n",
    "    return pd.concat(d,axis=1)\n",
    "\n",
    "\n",
    "\n",
    "print('* 14. Z-score')\n",
    "def r_zscore(df,w):\n",
    "    # z_score Tina\n",
    "    d={}\n",
    "    for i in w:\n",
    "        ds=(np.log(df.Volume) - np.log(df.Volume).rolling(i).mean())/np.log(df.Volume).rolling(i).std()\n",
    "        d[f'Z_Volume_{i}']=ds\n",
    "         \n",
    "    return pd.concat(d,axis=1)\n",
    "\n",
    "print('* 15. Parkinson Vol')\n",
    "def Parkinson(df,w):\n",
    "    # z_score Tina\n",
    "    d={}\n",
    "    \n",
    "    for i in w:\n",
    "        ds = np.log(df.High / df.Low)**2\n",
    "        d[f'Parkinson_{i}']= 0.5*np.sqrt(ds.rolling(i).sum()) /np.sqrt(np.log(2)*i/(365*1440))\n",
    "         \n",
    "    return pd.concat(d,axis=1)\n",
    "\n",
    "print('* 16. Hurst')\n",
    "def Hurst(df,w):\n",
    "    d={}\n",
    "    Hurst = lambda x: compute_Hc(x, kind='price')[0]\n",
    "    \n",
    "    w = [180,360]\n",
    "    \n",
    "    for i in w:\n",
    "        if i>100: # else hurst function fails\n",
    "            d[f'Hurst{i}']= df.Close.rolling(i).apply(Hurst)\n",
    "         \n",
    "    return pd.concat(d,axis=1)\n",
    "\n",
    "\n",
    "def generate_factors(df_panel,factor_functions,w):\n",
    "    '''\n",
    "    generate factors on panel data with rolling window w\n",
    "    '''\n",
    "    l=[]\n",
    "    for f in factor_functions:\n",
    "        factor = df_panel.groupby('Ticker').apply(f,w)\n",
    "        l.append(factor)\n",
    "    return pd.concat(l,axis=1)\n",
    "\n",
    "print('')\n",
    "Keep_Track()"
   ]
  },
  {
   "cell_type": "markdown",
   "metadata": {},
   "source": [
    "#### 3.1 Function to identify the coin with the max and min correlation for a chosen field"
   ]
  },
  {
   "cell_type": "code",
   "execution_count": 4,
   "metadata": {},
   "outputs": [
    {
     "name": "stdout",
     "output_type": "stream",
     "text": [
      "Correlation function defined\n",
      "\n",
      "Executed successfully. Tue 05 Jul @ 14:34:27\n",
      "\n"
     ]
    }
   ],
   "source": [
    "# Correlation analysis across coins for a specific field.\n",
    "# Example Data = Master, Field = 'FwdReturn_3'\n",
    "\n",
    "def Correlation_Analysis(Data, Field):\n",
    "    # Spread the data\n",
    "    Correl_Data = Master.pivot(index = 'DateTime', columns = 'Ticker', values = Field)\n",
    "\n",
    "    # Perform the correlation analysis\n",
    "    Correl_Data = Correl_Data.corr()\n",
    "\n",
    "    # Set diag to NaN since the function below will skip these (diag is perfectly correlated anyway)\n",
    "    np.fill_diagonal(Correl_Data.values, np.nan)\n",
    "\n",
    "    # Create a dataframe for the results\n",
    "    Results = pd.DataFrame()\n",
    "    \n",
    "    # Collect the results.\n",
    "    Results['Max'] = Correl_Data.idxmax(axis=1)\n",
    "    Results['Max_Value'] = Correl_Data.max(axis=1)\n",
    "    Results['Min'] = Correl_Data.idxmin(axis=1)\n",
    "    Results['Min_Value'] = Correl_Data.min(axis=1)\n",
    "\n",
    "    # Replace the max value in each row with na and repeat (messy but works)\n",
    "    Correl_Data = Correl_Data.apply(lambda row: row.replace(np.max(row),np.nan), axis=1)\n",
    "    Correl_Data = Correl_Data.apply(lambda row: row.replace(np.min(row),np.nan), axis=1)\n",
    "    Results['Max_2'] = Correl_Data.idxmax(axis=1)\n",
    "    Results['Max_2_Value'] = Correl_Data.max(axis=1)\n",
    "    Results['Min_2'] = Correl_Data.idxmin(axis=1)\n",
    "    Results['Min_2_Value'] = Correl_Data.min(axis=1)\n",
    "    \n",
    "    Results = Results.reset_index()\n",
    "    \n",
    "    Results['Feature'] = Field\n",
    "    \n",
    "    return Results\n",
    "\n",
    "print('Correlation function defined')\n",
    "\n",
    "print(\"\")\n",
    "Keep_Track() "
   ]
  },
  {
   "cell_type": "code",
   "execution_count": 5,
   "metadata": {},
   "outputs": [
    {
     "name": "stdout",
     "output_type": "stream",
     "text": [
      "Correlation analysis function defined\n",
      "\n",
      "Executed successfully. Tue 05 Jul @ 14:34:29\n",
      "\n"
     ]
    }
   ],
   "source": [
    "# Correlation analysis across features for a specific coin.\n",
    "# For example Data = Master and Coin= 'ADAUSDT'\n",
    "\n",
    "def Coin_Analysis(Data, Coin):\n",
    "    \n",
    "    i=0\n",
    "    \n",
    "    # for each feature in the dataset \n",
    "    for feature in Master.columns:\n",
    "        \n",
    "        if feature == 'DateTime':   \n",
    "            pass\n",
    "            \n",
    "        elif feature == 'Ticker':         \n",
    "            pass\n",
    "            \n",
    "        else:    \n",
    "            \n",
    "            # Calculate the correlation\n",
    "            Correlation_Data = Correlation_Analysis(Data, feature)\n",
    "            \n",
    "            if i == 0:\n",
    "                Results =  Correlation_Data[Correlation_Data['Ticker'] == Coin]\n",
    "                \n",
    "            else:\n",
    "            \n",
    "                # Filter for the coin\n",
    "                Results = pd.concat([Results, Correlation_Data[Correlation_Data['Ticker'] == Coin]],ignore_index=True)\n",
    "        \n",
    "            i=i+1\n",
    "        \n",
    "    return Results    \n",
    "  \n",
    "    \n",
    "print('Correlation analysis function defined')\n",
    "\n",
    "print(\"\")\n",
    "Keep_Track()     "
   ]
  },
  {
   "cell_type": "code",
   "execution_count": 6,
   "metadata": {},
   "outputs": [
    {
     "name": "stdout",
     "output_type": "stream",
     "text": [
      "Feature correlation function defined\n",
      "\n",
      "Executed successfully. Tue 05 Jul @ 14:34:32\n",
      "\n"
     ]
    }
   ],
   "source": [
    "# This function calculate the correlations for between features (for example to identify which\n",
    "# features correlation to the target or to reduce the number of features)\n",
    "\n",
    "def Correlation_Analysis_Fields(Data):\n",
    "\n",
    "    # Perform the correlation analysis\n",
    "    Correl_Data = Data.corr()\n",
    "\n",
    "    # Set diag to NaN since the function below will skip these (diag is perfectly correlated anyway)\n",
    "    np.fill_diagonal(Correl_Data.values, np.nan)\n",
    "\n",
    "    # Create a dataframe for the results\n",
    "    Results = pd.DataFrame()\n",
    "    \n",
    "    # Collect the results.\n",
    "    Results['Max'] = Correl_Data.idxmax(axis=1)\n",
    "    Results['Max_Value'] = Correl_Data.max(axis=1)\n",
    "    Results['Min'] = Correl_Data.idxmin(axis=1)\n",
    "    Results['Min_Value'] = Correl_Data.min(axis=1)\n",
    "\n",
    "    # Replace the max value in each row with na and repeat (messy but works)\n",
    "    Correl_Data = Correl_Data.apply(lambda row: row.replace(np.max(row),np.nan), axis=1)\n",
    "    Correl_Data = Correl_Data.apply(lambda row: row.replace(np.min(row),np.nan), axis=1)\n",
    "    Results['Max_2'] = Correl_Data.idxmax(axis=1)\n",
    "    Results['Max_2_Value'] = Correl_Data.max(axis=1)\n",
    "    Results['Min_2'] = Correl_Data.idxmin(axis=1)\n",
    "    Results['Min_2_Value'] = Correl_Data.min(axis=1)\n",
    "    \n",
    "    Results = Results.reset_index()\n",
    "    \n",
    "#     Results['Feature'] = Field\n",
    "    \n",
    "    return Results\n",
    "\n",
    "print('Feature correlation function defined')\n",
    "\n",
    "print(\"\")\n",
    "Keep_Track() "
   ]
  },
  {
   "cell_type": "markdown",
   "metadata": {},
   "source": [
    "#### 4. Load and process the data from previously generated algo runs)"
   ]
  },
  {
   "cell_type": "markdown",
   "metadata": {},
   "source": [
    "4.1 Load results from an algo run"
   ]
  },
  {
   "cell_type": "code",
   "execution_count": 7,
   "metadata": {},
   "outputs": [
    {
     "name": "stdout",
     "output_type": "stream",
     "text": [
      "Executed successfully. Tue 05 Jul @ 14:34:36\n",
      "\n"
     ]
    }
   ],
   "source": [
    "# Function to load the data and remove the last few hours of records\n",
    "def Load_Reduce(Data, Hours):\n",
    "    Max_Start_Date = np.max(Data['Start_Date'])\n",
    "    Max_Start_Date = pd.to_datetime(Max_Start_Date, dayfirst=True) - pd.offsets.DateOffset(hours=Hours)\n",
    "    return Data[Data['Start_Date'] < str(Max_Start_Date)]\n",
    "\n",
    "Keep_Track()"
   ]
  },
  {
   "cell_type": "code",
   "execution_count": 67,
   "metadata": {},
   "outputs": [
    {
     "name": "stdout",
     "output_type": "stream",
     "text": [
      "* Loading algo data\n",
      "* Records loaded:  523038\n",
      "* Min date      :  2021-06-01 00:00:00\n",
      "* Max date      :  2022-05-31 20:58:00\n",
      "\n",
      "Executed successfully. Tue 05 Jul @ 15:15:53\n",
      "\n"
     ]
    }
   ],
   "source": [
    "# Load the results from the algo run (split up into months to speed calculation)\n",
    "# The max maturity eas set to 3hrs so we remove the last 3hrs of records from each month (since these will have terminated\n",
    "# for not applicable reasons)\n",
    "\n",
    "# The max length of the algo - so we remove records prior to this date to keep the data clean. \n",
    "HRS = 3\n",
    "\n",
    "print('* Loading algo data')\n",
    "df_panel_1 = pd.read_csv(path+'BTC_Results_1.csv')\n",
    "df_panel_1 = Load_Reduce(df_panel_1, HRS)\n",
    "\n",
    "df_panel_2 = pd.read_csv(path+'BTC_Results_2.csv')\n",
    "df_panel_2 = Load_Reduce(df_panel_2, HRS)\n",
    "\n",
    "df_panel_3 = pd.read_csv(path+'BTC_Results_3.csv')\n",
    "df_panel_3 = Load_Reduce(df_panel_3, HRS)\n",
    "\n",
    "df_panel_4 = pd.read_csv(path+'BTC_Results_4.csv')\n",
    "df_panel_4 = Load_Reduce(df_panel_4, HRS)\n",
    "\n",
    "df_panel_5 = pd.read_csv(path+'BTC_Results_5.csv')\n",
    "df_panel_5 = Load_Reduce(df_panel_5, HRS)\n",
    "\n",
    "df_panel_6 = pd.read_csv(path+'BTC_Results_6.csv')\n",
    "df_panel_6 = Load_Reduce(df_panel_6, HRS)\n",
    "\n",
    "df_panel_7 = pd.read_csv(path+'BTC_Results_7.csv')\n",
    "df_panel_7 = Load_Reduce(df_panel_7, HRS)\n",
    "\n",
    "df_panel_8 = pd.read_csv(path+'BTC_Results_8.csv')\n",
    "df_panel_8 = Load_Reduce(df_panel_8, HRS)\n",
    "\n",
    "df_panel_9 = pd.read_csv(path+'BTC_Results_9.csv')\n",
    "df_panel_9 = Load_Reduce(df_panel_9, HRS)\n",
    "\n",
    "df_panel_10 = pd.read_csv(path+'BTC_Results_10.csv')\n",
    "df_panel_10 = Load_Reduce(df_panel_10, HRS)\n",
    "\n",
    "df_panel_11 = pd.read_csv(path+'BTC_Results_11.csv')\n",
    "df_panel_11 = Load_Reduce(df_panel_11, HRS)\n",
    "\n",
    "df_panel_12 = pd.read_csv(path+'BTC_Results_12.csv')\n",
    "df_panel_12 = Load_Reduce(df_panel_12, HRS)\n",
    "\n",
    "# Concatenate the data\n",
    "df_panel = pd.concat([df_panel_1, df_panel_2,df_panel_3,df_panel_4,df_panel_5,df_panel_6, \n",
    "                      df_panel_7,df_panel_8,df_panel_9,df_panel_10,df_panel_11,df_panel_12])\n",
    "\n",
    "# Add in a ticker to identify the coin (potentially useful to reuse code)\n",
    "df_panel['Ticker'] = 'BTC'\n",
    "\n",
    "# Relabel (useful to reuse code)\n",
    "df_panel = df_panel.rename(columns = {'Start_Date':'DateTime', 'open_price':'Open', 'close_price':'Close','high_price':'High', 'low_price':'Low'})\n",
    "\n",
    "print('* Records loaded: ', len(df_panel))\n",
    "print('* Min date      : ', np.min(df_panel['DateTime']))\n",
    "print('* Max date      : ', np.max(df_panel['DateTime']))\n",
    "\n",
    "# Define the dataframe index\n",
    "df_panel = df_panel.set_index(['DateTime','Ticker'])\n",
    "\n",
    "\n",
    "\n",
    "print('')\n",
    "Keep_Track()"
   ]
  },
  {
   "cell_type": "markdown",
   "metadata": {},
   "source": [
    "Example / Sample"
   ]
  },
  {
   "cell_type": "code",
   "execution_count": 9,
   "metadata": {},
   "outputs": [
    {
     "data": {
      "text/html": [
       "<div>\n",
       "<style scoped>\n",
       "    .dataframe tbody tr th:only-of-type {\n",
       "        vertical-align: middle;\n",
       "    }\n",
       "\n",
       "    .dataframe tbody tr th {\n",
       "        vertical-align: top;\n",
       "    }\n",
       "\n",
       "    .dataframe thead th {\n",
       "        text-align: right;\n",
       "    }\n",
       "</style>\n",
       "<table border=\"1\" class=\"dataframe\">\n",
       "  <thead>\n",
       "    <tr style=\"text-align: right;\">\n",
       "      <th></th>\n",
       "      <th>DateTime</th>\n",
       "      <th>End_Date</th>\n",
       "      <th>Life(s)</th>\n",
       "      <th>Initial_Open</th>\n",
       "      <th>Final_Close</th>\n",
       "      <th>Level</th>\n",
       "      <th>Capital</th>\n",
       "      <th>Cap_Return%</th>\n",
       "    </tr>\n",
       "  </thead>\n",
       "  <tbody>\n",
       "    <tr>\n",
       "      <th>0</th>\n",
       "      <td>2021-12-01 00:00:00</td>\n",
       "      <td>2021-12-01 00:07:00</td>\n",
       "      <td>420.0</td>\n",
       "      <td>56950.56</td>\n",
       "      <td>57159.53</td>\n",
       "      <td>1</td>\n",
       "      <td>2.78</td>\n",
       "      <td>0.017194</td>\n",
       "    </tr>\n",
       "  </tbody>\n",
       "</table>\n",
       "</div>"
      ],
      "text/plain": [
       "              DateTime             End_Date  Life(s)  Initial_Open  \\\n",
       "0  2021-12-01 00:00:00  2021-12-01 00:07:00    420.0      56950.56   \n",
       "\n",
       "   Final_Close  Level  Capital  Cap_Return%  \n",
       "0     57159.53      1     2.78     0.017194  "
      ]
     },
     "execution_count": 9,
     "metadata": {},
     "output_type": "execute_result"
    }
   ],
   "source": [
    "Core_Data = df_panel.reset_index()\n",
    "Start_Date = '2021-12-01 00:00:00'\n",
    "Core_Data[Core_Data['DateTime']==Start_Date][['DateTime','End_Date','Life(s)','Initial_Open','Final_Close', 'Level', 'Capital','Cap_Return%']]"
   ]
  },
  {
   "cell_type": "markdown",
   "metadata": {},
   "source": [
    "4.2 Plot a Histogram to see distribution of data"
   ]
  },
  {
   "cell_type": "code",
   "execution_count": 10,
   "metadata": {},
   "outputs": [
    {
     "data": {
      "image/png": "[encoded data removed]",
      "text/plain": [
       "<Figure size 1332x756 with 1 Axes>"
      ]
     },
     "metadata": {
      "needs_background": "light"
     },
     "output_type": "display_data"
    }
   ],
   "source": [
    "# Setup the bins and min/max of plot.\n",
    "max_range = 0.06\n",
    "min_range = -0.06\n",
    "\n",
    "# setting up the axes\n",
    "fig, axs = plt.subplots(1, 1, sharey='all', sharex='all')\n",
    "fig.set_size_inches(18.5, 10.5)\n",
    "\n",
    "# Create the plot\n",
    "axs.set_title('1min Frequency, Capital Return % All data')\n",
    "axs.set_ylabel('Density')\n",
    "axs.set_xlabel('Cap Ret %')\n",
    "axs.hist(df_panel['Cap_Return%'], 2000, alpha = 0.4, density=True, color = \"red\", ec = 'black', lw = 1, label = 'BTC')\n",
    "axs.legend(loc='upper right')\n",
    "axs.set_xlim([min_range,max_range]) \n",
    "\n",
    "plt.show()"
   ]
  },
  {
   "cell_type": "markdown",
   "metadata": {},
   "source": [
    "4.3 Calculate selected features for the loaded data"
   ]
  },
  {
   "cell_type": "code",
   "execution_count": 11,
   "metadata": {},
   "outputs": [
    {
     "name": "stdout",
     "output_type": "stream",
     "text": [
      "\n",
      "Executed successfully. Tue 05 Jul @ 14:34:56\n",
      "\n"
     ]
    }
   ],
   "source": [
    "# Define the lag, the panel data and the features of interest\n",
    "\n",
    "def Calculate_Features_Panel(Panel, factor_functions, Lag, Threshold):\n",
    "    \n",
    "    # Register functions in the list for batch processing\n",
    "    print('* Calculating features.')\n",
    "#     factor_functions=[Closing, Volume, cal_close_avg,cal_bk_return,cal_high_low,cal_max_mean,cal_min_mean,\n",
    "#                       cal_volume_avg,cal_max_mean_volume,cal_min_mean_volume,cal_std, r_zscore, Parkinson]\n",
    "\n",
    "#     factor_functions=[Parkinson, cal_min_mean]\n",
    "#     factor_functions=[cal_min_mean]\n",
    "\n",
    "    # Calculate all factors\n",
    "    # factors = generate_factors(df_panel,factor_functions,w=[2,5,10])\n",
    "#     factors = generate_factors(Panel,factor_functions,w=Lag)\n",
    "#     factors = generate_factors(Panel,factor_functions,w=[60, 180])\n",
    "\n",
    "    \n",
    "    factors = generate_factors(Panel,factor_functions,Lag)\n",
    "    \n",
    "    print(f'* Total features generated: {len(factor_functions)}')\n",
    "    \n",
    "    # Reset the index\n",
    "    factors = factors.reset_index()\n",
    "    \n",
    "    # generate target Y, the timeseries needs to be shift by rolling window w for prediction\n",
    "    print('* Calculate target data.')\n",
    "\n",
    "    fwd_return = Panel[['Cap_Return%']]\n",
    "    fwd_return = fwd_return.reset_index()\n",
    "    fwd_return['Cap_Return%'] = np.double(fwd_return['Cap_Return%'] > Threshold)\n",
    "#     fwd_return['Cap_Return%'] = np.double(fwd_return['Cap_Return%'] > 0.009)\n",
    "\n",
    "\n",
    "    print('* Creating master dataframe')\n",
    "    # Master = pd.merge(factors, fwd_return_rank, how = 'left', left_on = ['DateTime', 'Ticker'], right_on = ['DateTime', 'Ticker'])\n",
    "    Master = pd.merge(factors, fwd_return, how = 'left', left_on = ['DateTime', 'Ticker'], right_on = ['DateTime', 'Ticker'])\n",
    "\n",
    "    Start_length = len(Master)\n",
    "\n",
    "    # Remove all missing values (interpolation could be applied).\n",
    "    print('* Dropping missing values')\n",
    "    Master = Master.dropna()\n",
    "    print('* There were',Start_length-len(Master), 'records removed')\n",
    "\n",
    "    print('* Max Date:', Master['DateTime'].max())\n",
    "    print('* Min Date:', Master['DateTime'].min())\n",
    "    \n",
    "    print('* Threshold:', Threshold)\n",
    "    print('* Skew     :', np.sum(fwd_return['Cap_Return%'])/len(fwd_return['Cap_Return%']))\n",
    "\n",
    "    return Master\n",
    "\n",
    "print('')\n",
    "Keep_Track()"
   ]
  },
  {
   "cell_type": "markdown",
   "metadata": {},
   "source": [
    "4.4 Calculate the lag features\n",
    "- Note: Hurst calculation is very slow"
   ]
  },
  {
   "cell_type": "code",
   "execution_count": 12,
   "metadata": {},
   "outputs": [
    {
     "name": "stdout",
     "output_type": "stream",
     "text": [
      "* Calculating features.\n",
      "* Total features generated: 13\n",
      "* Calculate target data.\n",
      "* Creating master dataframe\n",
      "* Dropping missing values\n",
      "* There were 360 records removed\n",
      "* Max Date: 2022-05-31 20:58:00\n",
      "* Min Date: 2021-06-01 00:00:00\n",
      "* Threshold: 0.009\n",
      "* Skew     : 0.47880842309736577\n",
      "\n",
      "Executed successfully. Tue 05 Jul @ 14:35:21\n",
      "\n"
     ]
    }
   ],
   "source": [
    "# Define the key inputs \n",
    "\n",
    "# Code for stress testing to determine importance correlations\n",
    "# Lag_Data = np.array([(i+1) for i in range(500)])\n",
    "# Lag_Data = Lag_Data[Lag_Data > 100]\n",
    "\n",
    "# Lag_Data = [180]\n",
    "# factor_functions=[Hurst]\n",
    "\n",
    "Lag_Data = [60,180]\n",
    "factor_functions=[Closing, Volume, cal_close_avg,cal_bk_return,cal_high_low,cal_max_mean,cal_min_mean,\n",
    "                  cal_volume_avg,cal_max_mean_volume,cal_min_mean_volume,cal_std, r_zscore, Parkinson]\n",
    "\n",
    "# Define the threshold\n",
    "Threshold = 0.009\n",
    "\n",
    "# Run the caalculation\n",
    "Master = Calculate_Features_Panel(df_panel,factor_functions, Lag_Data, Threshold)\n",
    "\n",
    "print('')\n",
    "Keep_Track()"
   ]
  },
  {
   "cell_type": "code",
   "execution_count": 13,
   "metadata": {},
   "outputs": [],
   "source": [
    "# Check.\n",
    "# Master.info()"
   ]
  },
  {
   "cell_type": "markdown",
   "metadata": {},
   "source": [
    "4.2 Function to filter data by date"
   ]
  },
  {
   "cell_type": "code",
   "execution_count": 14,
   "metadata": {},
   "outputs": [
    {
     "name": "stdout",
     "output_type": "stream",
     "text": [
      "* Sample data function created.\n",
      "\n",
      "Executed successfully. Tue 05 Jul @ 14:35:34\n",
      "\n"
     ]
    }
   ],
   "source": [
    "# Create a function to extract data between specific dates.\n",
    "# Data      : Input data\n",
    "# UpperDate : Upper date to filter to\n",
    "# LowerDate : Lower date to filter to\n",
    "\n",
    "# Output:  Dataframe\n",
    "# Example Sample_Data(All_Data, 'date-0', UpperDate = '2020-01-01') -- collects all date upto 2020-01-01\n",
    "\n",
    "def Sample_Data(Data, Field, UpperDate = -1, LowerDate = -1):\n",
    "    \n",
    "    # If no upper date is defined\n",
    "    if UpperDate == -1:\n",
    "        return Data[(Data[Field] >= LowerDate)].sort_values(by=[Field])\n",
    "     \n",
    "    # If no lower date is not define    \n",
    "    if LowerDate == -1:\n",
    "        return Data[(Data[Field] < UpperDate)].sort_values(by=[Field])\n",
    "    \n",
    "    return Data[(Data[Field] < UpperDate) & (Data[Field] >= LowerDate)].sort_values(by=[Field])\n",
    "\n",
    "print('* Sample data function created.')\n",
    "print('')\n",
    "Keep_Track()"
   ]
  },
  {
   "cell_type": "code",
   "execution_count": 15,
   "metadata": {},
   "outputs": [
    {
     "name": "stdout",
     "output_type": "stream",
     "text": [
      "\n",
      "Executed successfully. Tue 05 Jul @ 14:35:37\n",
      "\n"
     ]
    }
   ],
   "source": [
    "# Function to calculate correlations at a month level when we are studying one variable with multiple lags only/\n",
    "\n",
    "def Month_Analysis(Data, Dates):\n",
    "\n",
    "    Results = pd.DataFrame({'Lag':Lag_Data})\n",
    "\n",
    "    # Filter data\n",
    "    Date_Lower = -1\n",
    "\n",
    "    for indx, Date_Upper in enumerate(Dates):\n",
    "        Sample = Sample_Data(Data, 'DateTime', LowerDate = Date_Lower, UpperDate = Date_Upper)\n",
    "        Date_Lower = Date_Upper\n",
    "\n",
    "        # Compute correlation\n",
    "        Correlations = Sample.corr()\n",
    "        Correlations = Correlations.reset_index()\n",
    "        Results[indx] = Correlations['Cap_Return%']\n",
    "\n",
    "    Correlations = Master.corr()\n",
    "    Correlations = Correlations.reset_index()\n",
    "    Results['All'] = Correlations['Cap_Return%']\n",
    "    \n",
    "    return Results\n",
    "\n",
    "print('')\n",
    "Keep_Track()\n"
   ]
  },
  {
   "cell_type": "markdown",
   "metadata": {},
   "source": [
    "4.3 Apply the function above to compute monthly correlations"
   ]
  },
  {
   "cell_type": "code",
   "execution_count": 16,
   "metadata": {},
   "outputs": [
    {
     "name": "stdout",
     "output_type": "stream",
     "text": [
      "\n",
      "Executed successfully. Tue 05 Jul @ 14:35:42\n",
      "\n"
     ]
    }
   ],
   "source": [
    "# Define a ist of dates (to define the months/period of interest)\n",
    "Dates_Interest = ['2022-02-01','2022-03-01','2022-04-01','2022-05-01','2022-06-01']\n",
    "\n",
    "# Generate the results\n",
    "Results = Month_Analysis(Master, Dates_Interest)\n",
    "\n",
    "print('')\n",
    "Keep_Track()"
   ]
  },
  {
   "cell_type": "markdown",
   "metadata": {},
   "source": [
    "Plot the results (when stressing the lag - otherwise does not make sense)"
   ]
  },
  {
   "cell_type": "code",
   "execution_count": null,
   "metadata": {},
   "outputs": [],
   "source": [
    "# Create scatter plot of the results\n",
    "\n",
    "# setting up the axes\n",
    "fig, axs = plt.subplots(1, 1, sharey='all', sharex='all')\n",
    "fig.set_size_inches(18.5, 10.5)\n",
    "\n",
    "# # set up a range of points to calculate the inverse\n",
    "# x = np.linspace(min_range, max_range, num=300)\n",
    "\n",
    "# Create the plot\n",
    "axs.set_title('MinDivMean')\n",
    "axs.set_ylabel('Correlation')\n",
    "axs.set_xlabel('Lag')\n",
    "\n",
    "axs.scatter(Results['Lag'],Results[0], s = 3, label = '0')\n",
    "axs.scatter(Results['Lag'],Results[1], s = 3, label = '1')\n",
    "axs.scatter(Results['Lag'],Results[2], s = 3, label = '2')\n",
    "axs.scatter(Results['Lag'],Results[3], s = 3, label = '3')\n",
    "axs.scatter(Results['Lag'],Results[4], s = 3, label = '4')\n",
    "axs.scatter(Results['Lag'],Results['All'], s = 3, label = 'All')\n",
    "\n",
    "axs.legend(loc='upper right')\n",
    "# axs.set_xlim([-0.005,0.005]) \n",
    "# axs.set_ylim([0,2]) \n",
    "\n",
    "plt.show()"
   ]
  },
  {
   "cell_type": "markdown",
   "metadata": {},
   "source": [
    "#### Select Dataset/coins for analysis"
   ]
  },
  {
   "cell_type": "code",
   "execution_count": 17,
   "metadata": {},
   "outputs": [
    {
     "name": "stdout",
     "output_type": "stream",
     "text": [
      "\n",
      "Executed successfully. Tue 05 Jul @ 14:35:48\n",
      "\n"
     ]
    }
   ],
   "source": [
    "# This function prepares the dataset, it allows additional flexibility to add features of other coins to the modelling\n",
    "\n",
    "# Examples\n",
    "# Coins = ['ADAUSDT','ETHUSDT']\n",
    "# Forecast = FwdReturn_3\n",
    "# Primary_Coin = 'ADAUSDT'\n",
    "\n",
    "def Select_coins_Data(Data, Primary_Coin, Coins, Forecast):\n",
    "\n",
    "    # Select coins\n",
    "    Coins_Modelling = Data[Data['Ticker'].isin(Coins)]\n",
    "\n",
    "    # Pivot the data\n",
    "    Coins_Modelling = Coins_Modelling.pivot(index = 'DateTime', columns = 'Ticker')\n",
    "\n",
    "    # Re-label the fields\n",
    "    Coins_Modelling.columns = Coins_Modelling.columns.to_series().str.join('_')\n",
    "\n",
    "    # Reset the index\n",
    "    Coins_Modelling = Coins_Modelling.reset_index()\n",
    "\n",
    "    # Remove the additional coins' feature (future looking)\n",
    "    for Coin in Coins:\n",
    "        # Keep this one\n",
    "        if (Coin == Primary_Coin):\n",
    "            pass\n",
    "        else:\n",
    "            Coins_Modelling = Coins_Modelling.drop(columns = Forecast+'_'+Coin)\n",
    "    \n",
    "    return Coins_Modelling\n",
    "\n",
    "print('')\n",
    "Keep_Track()"
   ]
  },
  {
   "cell_type": "markdown",
   "metadata": {},
   "source": [
    "Apply above function"
   ]
  },
  {
   "cell_type": "code",
   "execution_count": 18,
   "metadata": {},
   "outputs": [
    {
     "name": "stdout",
     "output_type": "stream",
     "text": [
      "Executed successfully. Tue 05 Jul @ 14:35:51\n",
      "\n"
     ]
    }
   ],
   "source": [
    "Primary_Coin = 'BTC'\n",
    "Coins = ['BTC']\n",
    "Forecast = 'Cap_Return%'\n",
    "\n",
    "Coins_Modelling = Select_coins_Data(Master, Primary_Coin, Coins, Forecast)\n",
    "\n",
    "Keep_Track()"
   ]
  },
  {
   "cell_type": "code",
   "execution_count": null,
   "metadata": {},
   "outputs": [],
   "source": [
    "Coins_Modelling.head(5)"
   ]
  },
  {
   "cell_type": "markdown",
   "metadata": {},
   "source": [
    "#### 5 Machine learning"
   ]
  },
  {
   "cell_type": "markdown",
   "metadata": {},
   "source": [
    "5.1 Train/Test Split"
   ]
  },
  {
   "cell_type": "code",
   "execution_count": 19,
   "metadata": {},
   "outputs": [
    {
     "name": "stdout",
     "output_type": "stream",
     "text": [
      "\n",
      "Executed successfully. Tue 05 Jul @ 14:35:57\n",
      "\n"
     ]
    }
   ],
   "source": [
    "# Function to collect our train and test data\n",
    "# Data split is as follows\n",
    "# Start ..... Mid ..... End\n",
    "#       Train      Test   \n",
    "def Train_Test_Build(Data, Coin, Forecast_Field, Start, Mid, End):\n",
    "\n",
    "    \n",
    "    print('* Train / Test split with ~')\n",
    "    print('         - Forecast field:',Forecast_Field)\n",
    "    print('         - Coin          :',Coin)\n",
    "    Forecast_Field = Forecast_Field + '_' +Coin\n",
    "    print('         -               :',Forecast_Field)\n",
    "    print('         - Training      :',Start,\"->\", Mid)\n",
    "    print('         - Testing       :',Mid,\"->\", End)\n",
    "    print('')\n",
    "\n",
    "    # Filter by date to create train and test sets\n",
    "    Train = Sample_Data(Data, 'DateTime', LowerDate = Start, UpperDate = Mid).drop(columns = ['DateTime'])\n",
    "    Test = Sample_Data(Data, 'DateTime', LowerDate = Mid, UpperDate = End).drop(columns = ['DateTime'])\n",
    "\n",
    "    TrainX = Train.drop(columns = [Forecast_Field])\n",
    "    TestX = Test.drop(columns = [Forecast_Field])          \n",
    "    TrainY = Train[[Forecast_Field]]\n",
    "    TestY = Test[[Forecast_Field]]\n",
    "\n",
    "    # summarise the % split\n",
    "    print(\"* Test Length   :\", len(TestY[Forecast_Field]))\n",
    "    print(\"* Train Length  :\", len(TrainY[Forecast_Field]))\n",
    "\n",
    "    # Convert to numpy arrays\n",
    "    TrainX =TrainX.values\n",
    "    TrainY = TrainY.values.ravel()\n",
    "\n",
    "    TestX = TestX.values\n",
    "    TestY = TestY.values.ravel()\n",
    "\n",
    "    print('* X shape       :', np.shape(TrainX))\n",
    "    print('* Y shape       :', np.shape(TrainY))\n",
    "    \n",
    "    print('Train Skew      : ',np.sum(TrainY)/len(TrainY))\n",
    "    print('Test Skew       : ',np.sum(TestY)/len(TestY))\n",
    "    \n",
    "    return Train, TrainX, TrainY, Test, TestX, TestY\n",
    "\n",
    "print(\"\")\n",
    "Keep_Track()"
   ]
  },
  {
   "cell_type": "markdown",
   "metadata": {},
   "source": [
    "Function to returns some simple metrics"
   ]
  },
  {
   "cell_type": "code",
   "execution_count": 20,
   "metadata": {},
   "outputs": [
    {
     "name": "stdout",
     "output_type": "stream",
     "text": [
      "\n",
      "Executed successfully. Tue 05 Jul @ 14:36:00\n",
      "\n"
     ]
    }
   ],
   "source": [
    "def Metrics(Mat):\n",
    "    \n",
    "    P = Mat[1,1] / (Mat[0,1]+Mat[1,1])\n",
    "    R = Mat[1,1] / (Mat[1,0]+Mat[1,1])\n",
    "    \n",
    "    print('  - Accuracy :',round((Mat[0,0] + Mat[1,1]) / (Mat[1,1] + Mat[1,0] + Mat[0,1] + Mat[0,0]),3))\n",
    "    print('  - Precision:',round(P,3))\n",
    "    print('  - Recall   :',round(R,3))\n",
    "    print('  - F1       :',round(2*P*R/(P+R),3))\n",
    "    \n",
    "    \n",
    "print(\"\")\n",
    "Keep_Track()"
   ]
  },
  {
   "cell_type": "markdown",
   "metadata": {},
   "source": [
    "Determine Train and Test groups"
   ]
  },
  {
   "cell_type": "code",
   "execution_count": 21,
   "metadata": {},
   "outputs": [
    {
     "name": "stdout",
     "output_type": "stream",
     "text": [
      "* Train / Test split with ~\n",
      "         - Forecast field: Cap_Return%\n",
      "         - Coin          : BTC\n",
      "         -               : Cap_Return%_BTC\n",
      "         - Training      : 2021-08-01 -> 2022-02-01\n",
      "         - Testing       : 2022-02-01 -> 2022-03-01\n",
      "\n",
      "* Test Length   : 40139\n",
      "* Train Length  : 263304\n",
      "* X shape       : (263304, 28)\n",
      "* Y shape       : (263304,)\n",
      "Train Skew      :  0.4686028317078358\n",
      "Test Skew       :  0.4816014350133287\n",
      "\n",
      "Executed successfully. Tue 05 Jul @ 14:36:13\n",
      "\n"
     ]
    }
   ],
   "source": [
    "Forecast_Field = 'Cap_Return%'\n",
    "Coin = 'BTC'\n",
    "\n",
    "Start = '2021-08-01'\n",
    "Mid = '2022-02-01'\n",
    "End = '2022-03-01'\n",
    "\n",
    "Train, TrainX, TrainY, Test, TestX, TestY = Train_Test_Build(Coins_Modelling, Coin, Forecast_Field, Start,  Mid, End)\n",
    "\n",
    "print(\"\")\n",
    "Keep_Track()"
   ]
  },
  {
   "cell_type": "markdown",
   "metadata": {},
   "source": [
    "5.3 Train the model"
   ]
  },
  {
   "cell_type": "code",
   "execution_count": 22,
   "metadata": {},
   "outputs": [
    {
     "name": "stdout",
     "output_type": "stream",
     "text": [
      "* Training Random Forest\n",
      "\n",
      "Model trained\n",
      "-------------\n",
      "Features   : 28\n",
      "\n",
      "* Testing set\n",
      "  - Accuracy : 0.608\n",
      "  - Precision: 0.62\n",
      "  - Recall   : 0.481\n",
      "  - F1       : 0.542\n",
      "\n",
      "* Training set\n",
      "  - Accuracy : 0.62\n",
      "  - Precision: 0.642\n",
      "  - Recall   : 0.43\n",
      "  - F1       : 0.515\n",
      "\n",
      "Executed successfully. Tue 05 Jul @ 14:36:43\n",
      "\n"
     ]
    }
   ],
   "source": [
    "# Select the model choice\n",
    "\n",
    "Model = 'RF'\n",
    "# Model = 'Boost'\n",
    "\n",
    "if Model == 'RF':\n",
    "    print(\"* Training Random Forest\")\n",
    "    print('')\n",
    "    Model = RandomForestClassifier(max_depth= 6, random_state=4021, n_estimators = 60)\n",
    "\n",
    "if Model == 'Boost':\n",
    "    print(\"* Training Gradient Boosting\")\n",
    "    print('')\n",
    "    Model = GradientBoostingClassifier(n_estimators=100, learning_rate=1, max_depth=1, random_state=0)\n",
    "\n",
    "\n",
    "Model.fit(TrainX, TrainY)\n",
    "\n",
    "print(\"Model trained\")\n",
    "print(\"-------------\")\n",
    "# print(\"Estimators :\", Estimators)\n",
    "print(\"Features   :\", Model.n_features_in_)\n",
    "#print(\"OOB        :\", Model.oob_score_)\n",
    "\n",
    "# Generate some forecasts\n",
    "ForecastsTrainY = Model.predict(TrainX)\n",
    "ForecastsY = Model.predict(TestX)\n",
    "\n",
    "Mat = confusion_matrix(TestY, ForecastsY)\n",
    "print('')\n",
    "print('* Testing set')\n",
    "Metrics(Mat)\n",
    "\n",
    "Mat = confusion_matrix(TrainY, ForecastsTrainY)\n",
    "print('')\n",
    "print('* Training set')\n",
    "Metrics(Mat)\n",
    "\n",
    "print(\"\")\n",
    "Keep_Track()"
   ]
  },
  {
   "cell_type": "markdown",
   "metadata": {},
   "source": [
    "5.4 Feature Importance"
   ]
  },
  {
   "cell_type": "code",
   "execution_count": 23,
   "metadata": {},
   "outputs": [
    {
     "data": {
      "image/png": "[encoded data removed]",
      "text/plain": [
       "<Figure size 1080x864 with 1 Axes>"
      ]
     },
     "metadata": {
      "needs_background": "light"
     },
     "output_type": "display_data"
    }
   ],
   "source": [
    "# Out of the box feature importance direct from model\n",
    "importance = Model.feature_importances_\n",
    "Important_Fields = pd.DataFrame({'Field': Coins_Modelling.drop(columns = ['DateTime', 'Cap_Return%_BTC']).columns, 'Importance':100*importance}).sort_values(by = ['Importance'], ascending=False)\n",
    "\n",
    "# Plot a little graph\n",
    "fig, (ax1) = plt.subplots(1, 1)\n",
    "fig.set_size_inches(15, 12)\n",
    "\n",
    "# Horizontal bar chart\n",
    "ax1.set_title(\"Feature importance\")\n",
    "ax1.barh(Important_Fields['Field'], Important_Fields['Importance'])\n",
    "ax1.set_xlabel(\"Feature Importance OOB\")\n",
    "\n",
    "\n",
    "plt.tight_layout()"
   ]
  },
  {
   "cell_type": "code",
   "execution_count": 24,
   "metadata": {},
   "outputs": [
    {
     "name": "stdout",
     "output_type": "stream",
     "text": [
      "Executed successfully. Tue 05 Jul @ 14:37:01\n",
      "\n"
     ]
    }
   ],
   "source": [
    "# Function to plot the feature importance for a specific model configuration.\n",
    "def Plot_Importance(Results_Test, Metric, Data):\n",
    "    \n",
    "    fig, axs = plt.subplots(1, 1, figsize=(15,10))\n",
    "\n",
    "    sorted_idx = Results_Test[Metric].importances_mean.argsort()\n",
    "    axs.boxplot(Results_Test[Metric].importances[sorted_idx].T, vert=False, labels=Data.columns[sorted_idx])\n",
    "    axs.set_title(\"Permutation Importances (Test set) \"+Metric)\n",
    "\n",
    "\n",
    "    fig.tight_layout()\n",
    "\n",
    "    plt.show()\n",
    "\n",
    "Keep_Track()    "
   ]
  },
  {
   "cell_type": "markdown",
   "metadata": {},
   "source": [
    "Permutation importance feature analysis"
   ]
  },
  {
   "cell_type": "code",
   "execution_count": 25,
   "metadata": {},
   "outputs": [
    {
     "name": "stdout",
     "output_type": "stream",
     "text": [
      "\n",
      "Executed successfully. Tue 05 Jul @ 14:38:06\n",
      "\n"
     ]
    }
   ],
   "source": [
    "# Calculate the permutation importance.\n",
    "result_test = permutation_importance(Model, TestX, TestY, n_repeats=10,\n",
    "                                random_state=0, scoring=['f1','precision','recall', 'neg_log_loss'])\n",
    "print(\"\")\n",
    "Keep_Track()"
   ]
  },
  {
   "cell_type": "markdown",
   "metadata": {},
   "source": [
    "Plot a summary of the results"
   ]
  },
  {
   "cell_type": "code",
   "execution_count": 26,
   "metadata": {},
   "outputs": [
    {
     "data": {
      "image/png": "[encoded data removed]",
      "text/plain": [
       "<Figure size 1080x720 with 1 Axes>"
      ]
     },
     "metadata": {
      "needs_background": "light"
     },
     "output_type": "display_data"
    }
   ],
   "source": [
    "# Box plot for a visualisation of the results.\n",
    "Plot_Importance(result_test, 'f1', Coins_Modelling.drop(columns = ['DateTime', 'Cap_Return%_BTC']))"
   ]
  },
  {
   "cell_type": "code",
   "execution_count": 27,
   "metadata": {},
   "outputs": [
    {
     "name": "stdout",
     "output_type": "stream",
     "text": [
      "Executed successfully. Tue 05 Jul @ 14:38:28\n",
      "\n"
     ]
    }
   ],
   "source": [
    "# Function to calculate measures over a range of probability thresholds\n",
    "# This could  be useful to set the thresholds in practice.\n",
    "\n",
    "def ROC_Bostock(DataX, DataY, step):\n",
    "    # Compute the model probabilities for the data points.\n",
    "    Prob = Model.predict_proba(DataX)\n",
    "    DataY = DataY.astype(bool)\n",
    "    \n",
    "    # We need only keep one of the entries (since they sum to 1)\n",
    "    # Keep the first one\n",
    "    Prob = Prob[:,1]\n",
    "    \n",
    "    TPR = np.empty(0)\n",
    "    FPR = np.empty(0)\n",
    "    Prec = np.empty(0)\n",
    "    F1 = np.empty(0)\n",
    "    XEnt = np.empty(0)\n",
    "    \n",
    "    # Then forecast over a range of thresholds and compare to actuals.\n",
    "    for T in np.arange(0,1,step):\n",
    "        Prob_T = Prob>T\n",
    "        \n",
    "        # The compute metrics\n",
    "        R = np.sum(Prob_T & DataY) / np.sum(DataY)\n",
    "        TPR = np.append(TPR,R)\n",
    "        FPR = np.append(FPR,np.sum(Prob_T & ~DataY) / (len(DataY) - np.sum(DataY)))\n",
    "        P = np.sum(Prob_T & DataY) / (np.sum(Prob_T & ~DataY) +np.sum(Prob_T & DataY)) \n",
    "        Prec = np.append(Prec, P)\n",
    "        F1 = np.append(F1, 2*P*R / (R + P))\n",
    "        #XEnt = np.append(XEnt, -np.sum(Prob_T * np.log(DataY + 0.00000000001)))\n",
    "    \n",
    "    return pd.DataFrame({'T': np.arange(0,1,step), 'TPR':TPR, 'FPR': FPR, 'Prec':Prec, 'F1':F1})    \n",
    "\n",
    "Keep_Track() "
   ]
  },
  {
   "cell_type": "markdown",
   "metadata": {},
   "source": [
    "Calculate the impact of thresholds on the performance"
   ]
  },
  {
   "cell_type": "code",
   "execution_count": 28,
   "metadata": {},
   "outputs": [
    {
     "name": "stdout",
     "output_type": "stream",
     "text": [
      "* Calculating ROC metrics\n"
     ]
    },
    {
     "name": "stderr",
     "output_type": "stream",
     "text": [
      "C:\\Users\\pbo44\\AppData\\Local\\Temp/ipykernel_11112/1737635584.py:27: RuntimeWarning: invalid value encountered in long_scalars\n",
      "  P = np.sum(Prob_T & DataY) / (np.sum(Prob_T & ~DataY) +np.sum(Prob_T & DataY))\n"
     ]
    },
    {
     "name": "stdout",
     "output_type": "stream",
     "text": [
      "\n",
      "Executed successfully. Tue 05 Jul @ 14:38:33\n",
      "\n"
     ]
    },
    {
     "name": "stderr",
     "output_type": "stream",
     "text": [
      "C:\\Users\\pbo44\\AppData\\Local\\Temp/ipykernel_11112/1737635584.py:27: RuntimeWarning: invalid value encountered in long_scalars\n",
      "  P = np.sum(Prob_T & DataY) / (np.sum(Prob_T & ~DataY) +np.sum(Prob_T & DataY))\n"
     ]
    }
   ],
   "source": [
    "print('* Calculating ROC metrics')\n",
    "Curve_Test = ROC_Bostock(TestX, TestY, 0.001)\n",
    "Curve_Train = ROC_Bostock(TrainX, TrainY, 0.001)\n",
    "\n",
    "print(\"\")\n",
    "Keep_Track()"
   ]
  },
  {
   "cell_type": "markdown",
   "metadata": {},
   "source": [
    "Plot the results of the threshold analysis"
   ]
  },
  {
   "cell_type": "code",
   "execution_count": 29,
   "metadata": {},
   "outputs": [
    {
     "data": {
      "image/png": "[encoded data removed]",
      "text/plain": [
       "<Figure size 1332x720 with 8 Axes>"
      ]
     },
     "metadata": {
      "needs_background": "light"
     },
     "output_type": "display_data"
    }
   ],
   "source": [
    "fig, axs = plt.subplots(2,4)\n",
    "fig.set_size_inches(18.5, 10)\n",
    "\n",
    "min_range, max_range = 0.01, 50\n",
    "x = np.linspace(min_range, max_range, num=100)\n",
    "\n",
    "\n",
    "Best_T = Curve_Test['T'][np.argmax(Curve_Test['F1'])]\n",
    "F1 = Curve_Test['F1'][np.argmax(Curve_Test['F1'])]\n",
    "Precision = Curve_Test['Prec'][np.argmax(Curve_Test['F1'])]\n",
    "Recall = Curve_Test['TPR'][np.argmax(Curve_Test['F1'])]\n",
    "\n",
    "Best_T_Train = Curve_Train['T'][np.argmax(Curve_Train['F1'])]\n",
    "F1_Train = Curve_Train['F1'][np.argmax(Curve_Train['F1'])]\n",
    "Precision_Train = Curve_Train['Prec'][np.argmax(Curve_Train['F1'])]\n",
    "Recall_Train = Curve_Train['TPR'][np.argmax(Curve_Train['F1'])]\n",
    "\n",
    "# Create the  plot\n",
    "axs[0,0].scatter(Curve_Test['FPR'], Curve_Test['TPR'], s=10)\n",
    "axs[0,0].axline((0,0),slope = 1, color = 'r', lw = 0.5)\n",
    "axs[0,0].set_xlabel('FPR')\n",
    "axs[0,0].set_ylabel('TPR')\n",
    "axs[0,0].set_title('Test: ROC')\n",
    "axs[0,0].set_xlim([0,1])\n",
    "axs[0,0].set_ylim([0,1])\n",
    "\n",
    "axs[0,1].scatter(Curve_Test['T'], Curve_Test['F1'], s=1.5)\n",
    "axs[0,1].set_xlabel('Threshold')\n",
    "axs[0,1].set_ylabel('F1')\n",
    "axs[0,1].set_title('Test: F1 ('+str(round(F1,3))+') T = ' + str(round(Best_T,3)))\n",
    "axs[0,1].axvline(x=Best_T, lw = 0.5, alpha = 0.5, color = 'b')\n",
    "axs[0,1].set_xlim([0,1])\n",
    "axs[0,1].set_ylim([0,1])\n",
    "\n",
    "axs[0,2].scatter(Curve_Test['T'], Curve_Test['Prec'], s=1.5)\n",
    "axs[0,2].axvline(x=Best_T, lw = 0.5, alpha = 0.5, color = 'b')\n",
    "axs[0,2].set_xlabel('Threshold')\n",
    "axs[0,2].set_ylabel('Precision')\n",
    "axs[0,2].set_title('Test: Precision (' + str(round(Precision,3))+')')\n",
    "axs[0,2].set_xlim([0,1])\n",
    "axs[0,2].set_ylim([0,1])\n",
    "\n",
    "axs[0,3].scatter(Curve_Test['T'], Curve_Test['TPR'], s=1.5)\n",
    "axs[0,3].axvline(x=Best_T, lw = 0.5, alpha = 0.5, color = 'b')\n",
    "axs[0,3].set_xlabel('Threshold')\n",
    "axs[0,3].set_ylabel('Recall')\n",
    "axs[0,3].set_title('Test: Recall (' + str(round(Recall,3))+')')\n",
    "axs[0,3].set_xlim([0,1])\n",
    "axs[0,3].set_ylim([0,1])\n",
    "\n",
    "axs[1,0].scatter(Curve_Train['FPR'], Curve_Train['TPR'], s=10)\n",
    "axs[1,0].axline((0,0),slope = 1, color = 'r', lw = 0.5)\n",
    "axs[1,0].set_xlabel('FPR')\n",
    "axs[1,0].set_ylabel('TPR')\n",
    "axs[1,0].set_title('Train: ROC')\n",
    "axs[1,0].set_xlim([0,1])\n",
    "axs[1,0].set_ylim([0,1])\n",
    "\n",
    "axs[1,1].scatter(Curve_Train['T'], Curve_Train['F1'], s=1.5)\n",
    "axs[1,1].axvline(x=Best_T_Train, lw = 0.5, alpha = 0.5, color = 'b')\n",
    "axs[1,1].set_xlabel('Threshold')\n",
    "axs[1,1].set_ylabel('F1')\n",
    "axs[1,1].set_title('Train: F1 (' + str(round(F1_Train,3)) + ') T = ' + str(round(Best_T_Train,3)))\n",
    "axs[1,1].set_xlim([0,1])\n",
    "axs[1,1].set_ylim([0,1])\n",
    "\n",
    "axs[1,2].scatter(Curve_Train['T'], Curve_Train['Prec'], s=1.5)\n",
    "axs[1,2].axvline(x=Best_T_Train, lw = 0.5, alpha = 0.5, color = 'b')\n",
    "axs[1,2].set_xlabel('Threshold')\n",
    "axs[1,2].set_ylabel('Precision')\n",
    "axs[1,2].set_title('Train: Precision (' + str(round(Precision_Train,3))+')')\n",
    "axs[1,2].set_xlim([0,1])\n",
    "axs[1,2].set_ylim([0,1])\n",
    "\n",
    "axs[1,3].scatter(Curve_Train['T'], Curve_Train['TPR'], s=1.5)\n",
    "axs[1,3].axvline(x=Best_T_Train, lw = 0.5, alpha = 0.5, color = 'b')\n",
    "axs[1,3].set_xlabel('Threshold')\n",
    "axs[1,3].set_ylabel('Recall')\n",
    "axs[1,3].set_title('Train: Recall (' + str(round(Recall_Train,3))+')')\n",
    "axs[1,3].set_xlim([0,1])\n",
    "axs[1,3].set_ylim([0,1])\n",
    "plt.show()"
   ]
  },
  {
   "cell_type": "markdown",
   "metadata": {},
   "source": [
    "Roll forward validation"
   ]
  },
  {
   "cell_type": "code",
   "execution_count": 30,
   "metadata": {},
   "outputs": [
    {
     "name": "stdout",
     "output_type": "stream",
     "text": [
      "2021-06-01\n",
      "2021-07-01\n",
      "2021-08-01\n",
      "2021-09-01\n",
      "2021-10-01\n",
      "2021-11-01\n",
      "2021-12-01\n",
      "2022-01-01\n",
      "2022-02-01\n",
      "2022-03-01\n",
      "2022-04-01\n",
      "2022-05-01\n",
      "2022-06-01\n",
      "2022-07-01\n",
      "2022-08-01\n",
      "\n",
      "Executed successfully. Tue 05 Jul @ 14:38:39\n",
      "\n"
     ]
    }
   ],
   "source": [
    "# Construct some key dates for the validation process\n",
    "# This is ad-hoc to perform some validation\n",
    "Key_Dates = np.array([])\n",
    "\n",
    "for i in range(15):\n",
    "    if i < 4:\n",
    "        print('2021-0'+str(i+6)+'-01')\n",
    "        Key_Dates = np.append(Key_Dates, '2021-0'+str(i+6)+'-01')\n",
    "\n",
    "    elif i < 7:\n",
    "        print('2021-'+str(i+6)+'-01')\n",
    "        Key_Dates = np.append(Key_Dates, '2021-'+str(i+6)+'-01')\n",
    "        \n",
    "    elif i < 15:\n",
    "        print('2022-0'+str(i-6)+'-01')\n",
    "        Key_Dates = np.append(Key_Dates, '2022-0'+str(i-6)+'-01')\n",
    "\n",
    "print('')\n",
    "Keep_Track() "
   ]
  },
  {
   "cell_type": "code",
   "execution_count": 31,
   "metadata": {},
   "outputs": [
    {
     "name": "stdout",
     "output_type": "stream",
     "text": [
      "   Start        Mid          End\n",
      "2021-06-01 : 2021-10-01 : 2021-11-01\n",
      "* Train / Test split with ~\n",
      "         - Forecast field: Cap_Return%\n",
      "         - Coin          : BTC\n",
      "         -               : Cap_Return%_BTC\n",
      "         - Training      : 2021-06-01 -> 2021-10-01\n",
      "         - Testing       : 2021-10-01 -> 2021-11-01\n",
      "\n",
      "* Test Length   : 44459\n",
      "* Train Length  : 174566\n",
      "* X shape       : (174566, 28)\n",
      "* Y shape       : (174566,)\n",
      "Train Skew      :  0.5306474342082651\n",
      "Test Skew       :  0.4686115297240154\n",
      "* Training RF Model\n",
      "Model trained\n",
      "* Training Boost Model\n",
      "Model trained\n",
      "  - _RF Accuracy  (Test): 0.557\n",
      "  - _RF Precision (Test): 0.619\n",
      "  - _RF Recall    (Test): 0.143\n",
      "  - _Boost Accuracy  (Test): 0.534\n",
      "  - _Boost Precision (Test): 0.539\n",
      "  - _Boost Recall    (Test): 0.035\n",
      "  - _RF Accuracy  (Train): 0.649\n",
      "  - _RF Precision (Train): 0.65\n",
      "  - _RF Recall    (Train): 0.732\n",
      "  - _Boost Accuracy  (Train): 0.64\n",
      "  - _Boost Precision (Train): 0.65\n",
      "  - _Boost Recall    (Train): 0.694\n",
      "   Start        Mid          End\n",
      "2021-07-01 : 2021-11-01 : 2021-12-01\n",
      "* Train / Test split with ~\n",
      "         - Forecast field: Cap_Return%\n",
      "         - Coin          : BTC\n",
      "         -               : Cap_Return%_BTC\n",
      "         - Training      : 2021-07-01 -> 2021-11-01\n",
      "         - Testing       : 2021-11-01 -> 2021-12-01\n",
      "\n",
      "* Test Length   : 43019\n",
      "* Train Length  : 176006\n",
      "* X shape       : (176006, 28)\n",
      "* Y shape       : (176006,)\n",
      "Train Skew      :  0.47622808313352955\n",
      "Test Skew       :  0.44287407889537184\n",
      "* Training RF Model\n",
      "Model trained\n",
      "* Training Boost Model\n",
      "Model trained\n",
      "  - _RF Accuracy  (Test): 0.609\n",
      "  - _RF Precision (Test): 0.609\n",
      "  - _RF Recall    (Test): 0.328\n",
      "  - _Boost Accuracy  (Test): 0.575\n",
      "  - _Boost Precision (Test): 0.52\n",
      "  - _Boost Recall    (Test): 0.529\n",
      "  - _RF Accuracy  (Train): 0.627\n",
      "  - _RF Precision (Train): 0.641\n",
      "  - _RF Recall    (Train): 0.496\n",
      "  - _Boost Accuracy  (Train): 0.615\n",
      "  - _Boost Precision (Train): 0.613\n",
      "  - _Boost Recall    (Train): 0.524\n",
      "   Start        Mid          End\n",
      "2021-08-01 : 2021-12-01 : 2022-01-01\n",
      "* Train / Test split with ~\n",
      "         - Forecast field: Cap_Return%\n",
      "         - Coin          : BTC\n",
      "         -               : Cap_Return%_BTC\n",
      "         - Training      : 2021-08-01 -> 2021-12-01\n",
      "         - Testing       : 2021-12-01 -> 2022-01-01\n",
      "\n",
      "* Test Length   : 44279\n",
      "* Train Length  : 174566\n",
      "* X shape       : (174566, 28)\n",
      "* Y shape       : (174566,)\n",
      "Train Skew      :  0.46187115474949303\n",
      "Test Skew       :  0.4874319654915423\n",
      "* Training RF Model\n",
      "Model trained\n",
      "* Training Boost Model\n",
      "Model trained\n",
      "  - _RF Accuracy  (Test): 0.582\n",
      "  - _RF Precision (Test): 0.626\n",
      "  - _RF Recall    (Test): 0.355\n",
      "  - _Boost Accuracy  (Test): 0.578\n",
      "  - _Boost Precision (Test): 0.617\n",
      "  - _Boost Recall    (Test): 0.357\n",
      "  - _RF Accuracy  (Train): 0.634\n",
      "  - _RF Precision (Train): 0.656\n",
      "  - _RF Recall    (Train): 0.436\n",
      "  - _Boost Accuracy  (Train): 0.62\n",
      "  - _Boost Precision (Train): 0.614\n",
      "  - _Boost Recall    (Train): 0.476\n",
      "   Start        Mid          End\n",
      "2021-09-01 : 2022-01-01 : 2022-02-01\n",
      "* Train / Test split with ~\n",
      "         - Forecast field: Cap_Return%\n",
      "         - Coin          : BTC\n",
      "         -               : Cap_Return%_BTC\n",
      "         - Training      : 2021-09-01 -> 2022-01-01\n",
      "         - Testing       : 2022-01-01 -> 2022-02-01\n",
      "\n",
      "* Test Length   : 44459\n",
      "* Train Length  : 174656\n",
      "* X shape       : (174656, 28)\n",
      "* Y shape       : (174656,)\n",
      "Train Skew      :  0.4688473341883474\n",
      "Test Skew       :  0.47628151780291955\n",
      "* Training RF Model\n",
      "Model trained\n",
      "* Training Boost Model\n",
      "Model trained\n",
      "  - _RF Accuracy  (Test): 0.603\n",
      "  - _RF Precision (Test): 0.589\n",
      "  - _RF Recall    (Test): 0.549\n",
      "  - _Boost Accuracy  (Test): 0.633\n",
      "  - _Boost Precision (Test): 0.623\n",
      "  - _Boost Recall    (Test): 0.583\n",
      "  - _RF Accuracy  (Train): 0.629\n",
      "  - _RF Precision (Train): 0.665\n",
      "  - _RF Recall    (Train): 0.42\n",
      "  - _Boost Accuracy  (Train): 0.621\n",
      "  - _Boost Precision (Train): 0.621\n",
      "  - _Boost Recall    (Train): 0.49\n",
      "   Start        Mid          End\n",
      "2021-10-01 : 2022-02-01 : 2022-03-01\n",
      "* Train / Test split with ~\n",
      "         - Forecast field: Cap_Return%\n",
      "         - Coin          : BTC\n",
      "         -               : Cap_Return%_BTC\n",
      "         - Training      : 2021-10-01 -> 2022-02-01\n",
      "         - Testing       : 2022-02-01 -> 2022-03-01\n",
      "\n",
      "* Test Length   : 40139\n",
      "* Train Length  : 176216\n",
      "* X shape       : (176216, 28)\n",
      "* Y shape       : (176216,)\n",
      "Train Skew      :  0.46899259999092024\n",
      "Test Skew       :  0.4816014350133287\n",
      "* Training RF Model\n",
      "Model trained\n",
      "* Training Boost Model\n",
      "Model trained\n",
      "  - _RF Accuracy  (Test): 0.609\n",
      "  - _RF Precision (Test): 0.617\n",
      "  - _RF Recall    (Test): 0.495\n",
      "  - _Boost Accuracy  (Test): 0.587\n",
      "  - _Boost Precision (Test): 0.583\n",
      "  - _Boost Recall    (Test): 0.5\n",
      "  - _RF Accuracy  (Train): 0.63\n",
      "  - _RF Precision (Train): 0.657\n",
      "  - _RF Recall    (Train): 0.44\n",
      "  - _Boost Accuracy  (Train): 0.627\n",
      "  - _Boost Precision (Train): 0.626\n",
      "  - _Boost Recall    (Train): 0.508\n",
      "   Start        Mid          End\n",
      "2021-11-01 : 2022-03-01 : 2022-04-01\n",
      "* Train / Test split with ~\n",
      "         - Forecast field: Cap_Return%\n",
      "         - Coin          : BTC\n",
      "         -               : Cap_Return%_BTC\n",
      "         - Training      : 2021-11-01 -> 2022-03-01\n",
      "         - Testing       : 2022-03-01 -> 2022-04-01\n",
      "\n",
      "* Test Length   : 44279\n",
      "* Train Length  : 171896\n",
      "* X shape       : (171896, 28)\n",
      "* Y shape       : (171896,)\n",
      "Train Skew      :  0.47203541676362454\n",
      "Test Skew       :  0.4298425890376928\n",
      "* Training RF Model\n",
      "Model trained\n",
      "* Training Boost Model\n",
      "Model trained\n",
      "  - _RF Accuracy  (Test): 0.62\n",
      "  - _RF Precision (Test): 0.582\n",
      "  - _RF Recall    (Test): 0.408\n",
      "  - _Boost Accuracy  (Test): 0.608\n",
      "  - _Boost Precision (Test): 0.556\n",
      "  - _Boost Recall    (Test): 0.44\n",
      "  - _RF Accuracy  (Train): 0.639\n",
      "  - _RF Precision (Train): 0.654\n",
      "  - _RF Recall    (Train): 0.5\n",
      "  - _Boost Accuracy  (Train): 0.634\n",
      "  - _Boost Precision (Train): 0.63\n",
      "  - _Boost Recall    (Train): 0.543\n",
      "   Start        Mid          End\n",
      "2021-12-01 : 2022-04-01 : 2022-05-01\n",
      "* Train / Test split with ~\n",
      "         - Forecast field: Cap_Return%\n",
      "         - Coin          : BTC\n",
      "         -               : Cap_Return%_BTC\n",
      "         - Training      : 2021-12-01 -> 2022-04-01\n",
      "         - Testing       : 2022-04-01 -> 2022-05-01\n",
      "\n",
      "* Test Length   : 43019\n",
      "* Train Length  : 173156\n",
      "* X shape       : (173156, 28)\n",
      "* Y shape       : (173156,)\n",
      "Train Skew      :  0.46849084062925916\n",
      "Test Skew       :  0.3482414746972268\n",
      "* Training RF Model\n",
      "Model trained\n",
      "* Training Boost Model\n",
      "Model trained\n",
      "  - _RF Accuracy  (Test): 0.685\n",
      "  - _RF Precision (Test): 0.596\n",
      "  - _RF Recall    (Test): 0.299\n",
      "  - _Boost Accuracy  (Test): 0.661\n",
      "  - _Boost Precision (Test): 0.524\n",
      "  - _Boost Recall    (Test): 0.287\n",
      "  - _RF Accuracy  (Train): 0.643\n",
      "  - _RF Precision (Train): 0.654\n",
      "  - _RF Recall    (Train): 0.505\n",
      "  - _Boost Accuracy  (Train): 0.639\n",
      "  - _Boost Precision (Train): 0.632\n",
      "  - _Boost Recall    (Train): 0.552\n",
      "   Start        Mid          End\n",
      "2022-01-01 : 2022-05-01 : 2022-06-01\n",
      "* Train / Test split with ~\n",
      "         - Forecast field: Cap_Return%\n",
      "         - Coin          : BTC\n",
      "         -               : Cap_Return%_BTC\n",
      "         - Training      : 2022-01-01 -> 2022-05-01\n",
      "         - Testing       : 2022-05-01 -> 2022-06-01\n",
      "\n",
      "* Test Length   : 44459\n",
      "* Train Length  : 171896\n",
      "* X shape       : (171896, 28)\n",
      "* Y shape       : (171896,)\n",
      "Train Skew      :  0.4335179410806534\n",
      "Test Skew       :  0.4860658134460964\n",
      "* Training RF Model\n",
      "Model trained\n",
      "* Training Boost Model\n",
      "Model trained\n",
      "  - _RF Accuracy  (Test): 0.646\n",
      "  - _RF Precision (Test): 0.61\n",
      "  - _RF Recall    (Test): 0.75\n",
      "  - _Boost Accuracy  (Test): 0.639\n",
      "  - _Boost Precision (Test): 0.596\n",
      "  - _Boost Recall    (Test): 0.797\n",
      "  - _RF Accuracy  (Train): 0.668\n",
      "  - _RF Precision (Train): 0.663\n",
      "  - _RF Recall    (Train): 0.476\n",
      "  - _Boost Accuracy  (Train): 0.656\n",
      "  - _Boost Precision (Train): 0.633\n",
      "  - _Boost Recall    (Train): 0.493\n"
     ]
    }
   ],
   "source": [
    "# Run the model over a rolling window (train 4 months forecast 1 month) then roll forward to next month and re-run\n",
    "Forecast_Field = 'Cap_Return%'\n",
    "Coin = 'BTC'\n",
    "\n",
    "\n",
    "RF_Model = np.array([])\n",
    "Boost_Model = np.array([])\n",
    "\n",
    "Train_Skew = np.array([])\n",
    "Test_Skew = np.array([])\n",
    "\n",
    "Accuracy_Test_RF,Precision_Test_RF,Recall_Test_RF = np.array([]),np.array([]),np.array([])\n",
    "Accuracy_Train_RF,Precision_Train_RF,Recall_Train_RF = np.array([]),np.array([]),np.array([])\n",
    "\n",
    "Accuracy_Test_Boost,Precision_Test_Boost,Recall_Test_Boost = np.array([]),np.array([]),np.array([])\n",
    "Accuracy_Train_Boost,Precision_Train_Boost,Recall_Train_Boost = np.array([]),np.array([]),np.array([])\n",
    "\n",
    "for index in range(8):\n",
    "    print('   Start        Mid          End')\n",
    "    print(Key_Dates[index],':' ,Key_Dates[index+4],':' ,Key_Dates[index+5])\n",
    "    Start = Key_Dates[index]\n",
    "    Mid = Key_Dates[index+4]\n",
    "    End = Key_Dates[index+5]\n",
    "\n",
    "    # Train the model\n",
    "    Train, TrainX, TrainY, Test, TestX, TestY = Train_Test_Build(Coins_Modelling, Coin, Forecast_Field, Start,  Mid, End)\n",
    "\n",
    "    Train_Skew = np.append(Train_Skew, np.sum(TrainY)/len(TrainY))\n",
    "    Test_Skew = np.append(Test_Skew, np.sum(TestY)/len(TestY))\n",
    "    \n",
    "    print(\"* Training RF Model\")\n",
    "    Estimators = 60\n",
    "    Model_RF = RandomForestClassifier(max_depth= 6, random_state=4021, n_estimators = Estimators)\n",
    "    Model_RF.fit(TrainX, TrainY)\n",
    "\n",
    "    print(\"Model trained\")\n",
    "    \n",
    "    RF_Model = np.append(RF_Model, Model_RF)\n",
    "\n",
    "    print(\"* Training Boost Model\")\n",
    "    Model_Boost = GradientBoostingClassifier(n_estimators=100, learning_rate=1, max_depth=1, random_state=0)\n",
    "    Model_Boost.fit(TrainX, TrainY)\n",
    "\n",
    "    print(\"Model trained\")  \n",
    "\n",
    "    Boost_Model = np.append(Boost_Model, Model_Boost)\n",
    "    \n",
    "    # Generate some forecasts\n",
    "    ForecastsTrainY_RF = Model_RF.predict(TrainX)\n",
    "    ForecastsY_RF = Model_RF.predict(TestX)\n",
    "    \n",
    "    ForecastsTrainY_Boost = Model_Boost.predict(TrainX)\n",
    "    ForecastsY_Boost = Model_Boost.predict(TestX)\n",
    "    \n",
    "    Mat = confusion_matrix(TestY, ForecastsY_RF)\n",
    "    Accuracy_Test_RF = np.append(Accuracy_Test_RF, (Mat[0,0] + Mat[1,1]) / (Mat[1,1] + Mat[1,0] + Mat[0,1] + Mat[0,0]))\n",
    "    Precision_Test_RF = np.append(Precision_Test_RF, Mat[1,1] / (Mat[0,1]+Mat[1,1]))\n",
    "    Recall_Test_RF = np.append(Recall_Test_RF, Mat[1,1] / (Mat[1,0]+Mat[1,1]))\n",
    "    \n",
    "    print('  - _RF Accuracy  (Test):',round((Mat[0,0] + Mat[1,1]) / (Mat[1,1] + Mat[1,0] + Mat[0,1] + Mat[0,0]),3))\n",
    "    print('  - _RF Precision (Test):',round(Mat[1,1] / (Mat[0,1]+Mat[1,1]),3))\n",
    "    print('  - _RF Recall    (Test):',round(Mat[1,1] / (Mat[1,0]+Mat[1,1]),3))\n",
    "\n",
    "    Mat = confusion_matrix(TestY, ForecastsY_Boost)\n",
    "    Accuracy_Test_Boost = np.append(Accuracy_Test_Boost, (Mat[0,0] + Mat[1,1]) / (Mat[1,1] + Mat[1,0] + Mat[0,1] + Mat[0,0]))\n",
    "    Precision_Test_Boost = np.append(Precision_Test_Boost, Mat[1,1] / (Mat[0,1]+Mat[1,1]))\n",
    "    Recall_Test_Boost = np.append(Recall_Test_Boost, Mat[1,1] / (Mat[1,0]+Mat[1,1]))\n",
    "    \n",
    "    print('  - _Boost Accuracy  (Test):',round((Mat[0,0] + Mat[1,1]) / (Mat[1,1] + Mat[1,0] + Mat[0,1] + Mat[0,0]),3))\n",
    "    print('  - _Boost Precision (Test):',round(Mat[1,1] / (Mat[0,1]+Mat[1,1]),3))\n",
    "    print('  - _Boost Recall    (Test):',round(Mat[1,1] / (Mat[1,0]+Mat[1,1]),3))    \n",
    "    \n",
    "    Mat = confusion_matrix(TrainY, ForecastsTrainY_RF)\n",
    "    Accuracy_Train_RF = np.append(Accuracy_Train_RF, (Mat[0,0] + Mat[1,1]) / (Mat[1,1] + Mat[1,0] + Mat[0,1] + Mat[0,0]))\n",
    "    Precision_Train_RF = np.append(Precision_Train_RF, Mat[1,1] / (Mat[0,1]+Mat[1,1]))\n",
    "    Recall_Train_RF = np.append(Recall_Train_RF, Mat[1,1] / (Mat[1,0]+Mat[1,1]))\n",
    "    \n",
    "    print('  - _RF Accuracy  (Train):',round((Mat[0,0] + Mat[1,1]) / (Mat[1,1] + Mat[1,0] + Mat[0,1] + Mat[0,0]),3))\n",
    "    print('  - _RF Precision (Train):',round(Mat[1,1] / (Mat[0,1]+Mat[1,1]),3))\n",
    "    print('  - _RF Recall    (Train):',round(Mat[1,1] / (Mat[1,0]+Mat[1,1]),3))\n",
    "\n",
    "    Mat = confusion_matrix(TrainY, ForecastsTrainY_Boost)\n",
    "    Accuracy_Train_Boost = np.append(Accuracy_Train_Boost, (Mat[0,0] + Mat[1,1]) / (Mat[1,1] + Mat[1,0] + Mat[0,1] + Mat[0,0]))\n",
    "    Precision_Train_Boost = np.append(Precision_Train_Boost, Mat[1,1] / (Mat[0,1]+Mat[1,1]))\n",
    "    Recall_Train_Boost = np.append(Recall_Train_Boost, Mat[1,1] / (Mat[1,0]+Mat[1,1]))\n",
    "    \n",
    "    print('  - _Boost Accuracy  (Train):',round((Mat[0,0] + Mat[1,1]) / (Mat[1,1] + Mat[1,0] + Mat[0,1] + Mat[0,0]),3))\n",
    "    print('  - _Boost Precision (Train):',round(Mat[1,1] / (Mat[0,1]+Mat[1,1]),3))\n",
    "    print('  - _Boost Recall    (Train):',round(Mat[1,1] / (Mat[1,0]+Mat[1,1]),3))\n",
    "    \n",
    "    \n",
    "    "
   ]
  },
  {
   "cell_type": "markdown",
   "metadata": {},
   "source": [
    "Plot the results"
   ]
  },
  {
   "cell_type": "code",
   "execution_count": 32,
   "metadata": {},
   "outputs": [
    {
     "data": {
      "text/plain": [
       "<matplotlib.legend.Legend at 0x2131d340c70>"
      ]
     },
     "execution_count": 32,
     "metadata": {},
     "output_type": "execute_result"
    },
    {
     "data": {
      "image/png": "[encoded data removed]",
      "text/plain": [
       "<Figure size 1332x1080 with 4 Axes>"
      ]
     },
     "metadata": {
      "needs_background": "light"
     },
     "output_type": "display_data"
    }
   ],
   "source": [
    "fig, axs = plt.subplots(4,1)\n",
    "fig.set_size_inches(18.5, 15)\n",
    "\n",
    "# Create the  plot\n",
    "axs[0].plot(range(len(Precision_Test_RF)), Precision_Test_RF, color = 'r',label = 'Random Forest')\n",
    "axs[0].plot(range(len(Precision_Test_Boost)), Precision_Test_Boost, color = 'black', label = 'Gradient Boost')\n",
    "axs[0].plot(range(len(Test_Skew)), Test_Skew,color = 'grey', linestyle ='--',label = 'Random')\n",
    "axs[0].set_ylabel('Precision')\n",
    "axs[0].set_title('Precision')\n",
    "# axs[0].set_xlim([0,1])\n",
    "axs[0].set_ylim([0,1])\n",
    "\n",
    "axs[1].plot(range(len(Recall_Test_RF)), Recall_Test_RF,color = 'r',label = 'Random Forest')\n",
    "axs[1].plot(range(len(Recall_Test_Boost)), Recall_Test_Boost, color = 'black', label = 'Gradient Boost')\n",
    "axs[1].plot(range(len(Train_Skew)), Train_Skew,color = 'grey', linestyle ='--', label = 'Random')\n",
    "axs[1].set_ylabel('Recall')\n",
    "axs[1].set_title('Recall')\n",
    "axs[1].set_ylim([0,1])\n",
    "\n",
    "axs[2].plot(range(len(Recall_Test_RF)), 2*Precision_Test_RF*Recall_Test_RF/(Precision_Test_RF+Recall_Test_RF),color = 'r',label = 'Random Forest')\n",
    "axs[2].plot(range(len(Recall_Test_Boost)), 2*Precision_Test_Boost*Recall_Test_Boost/(Precision_Test_Boost+Recall_Test_Boost), color = 'black', label = 'Gradient Boost')\n",
    "axs[2].plot(range(len(Train_Skew)), Train_Skew,color = 'grey', linestyle ='--', label = 'Random')\n",
    "axs[2].set_ylabel('F1')\n",
    "axs[2].set_title('F1')\n",
    "axs[2].set_ylim([0,1])\n",
    "\n",
    "axs[3].plot(range(len(Accuracy_Test_RF)), Accuracy_Test_RF,color = 'r',label = 'Random Forest')\n",
    "axs[3].plot(range(len(Accuracy_Test_Boost)), Accuracy_Test_Boost,color = 'black', label = 'Gradient Boost')\n",
    "axs[3].plot(range(len(Train_Skew)), Train_Skew*Test_Skew + 0.5*(1-Train_Skew-Test_Skew),color = 'grey', linestyle ='--', label = 'Random')\n",
    "axs[3].set_xlabel('Time')\n",
    "axs[3].set_ylabel('Accuracy')\n",
    "axs[3].set_title('Accuracy')\n",
    "axs[3].set_ylim([0,1])\n",
    "\n",
    "axs[0].legend(loc='upper right')\n",
    "axs[1].legend(loc='upper left')\n",
    "axs[2].legend(loc='upper right')\n",
    "axs[3].legend(loc='upper right')"
   ]
  },
  {
   "cell_type": "markdown",
   "metadata": {},
   "source": [
    "5.4 Run some stresses to determine optimal Model parameters"
   ]
  },
  {
   "cell_type": "code",
   "execution_count": null,
   "metadata": {},
   "outputs": [],
   "source": [
    "Train = np.empty(0)\n",
    "Test = np.empty(0)\n",
    "# Depth_plot = [20,40,50,70,80,100,120,150, 200, 250]\n",
    "Depth_plot = np.empty(0)\n",
    "\n",
    "for Depth in range(2,30,1):\n",
    "# for Depth in range(10,300,10):    \n",
    "#     Model = RandomForestClassifier(max_depth = 10, random_state=4021, n_estimators = Depth)\n",
    "    Model = RandomForestClassifier(max_depth = Depth, random_state=4021, n_estimators = 50)\n",
    "    Model.fit(TrainX, TrainY)\n",
    "\n",
    "    Train_Error =np.sum(Model.predict(TrainX) == TrainY)/len(TrainY)\n",
    "    Train = np.append(Train, Train_Error)\n",
    "    \n",
    "    Test_Error = np.sum(Model.predict(TestX) == TestY)/len(TestY)\n",
    "    Test = np.append(Test, Test_Error)\n",
    "    \n",
    "    Depth_plot = np.append(Depth_plot, Depth)\n",
    "    \n",
    "    print(Depth,\" : \", Train_Error, \" : \", Test_Error)\n",
    "\n",
    "print(\"\")\n",
    "Keep_Track()  "
   ]
  },
  {
   "cell_type": "markdown",
   "metadata": {},
   "source": [
    "5.5 Plot the results"
   ]
  },
  {
   "cell_type": "code",
   "execution_count": null,
   "metadata": {},
   "outputs": [],
   "source": [
    "fig, axs = plt.subplots(2,1)\n",
    "fig.set_size_inches(18.5, 10)\n",
    "\n",
    "# Create the  plot\n",
    "axs[0].scatter(Depth_plot, Train, s=10)\n",
    "\n",
    "# axs[0].scatter(Depth_plot, Test, color = 'r', s= 10)\n",
    "axs[0].set_xlabel('Trees')\n",
    "axs[0].set_ylabel('Acc')\n",
    "axs[0].set_title('Train')\n",
    "# axs[0].set_xlim([0,100])\n",
    "# axs[0].set_ylim([0,1])\n",
    "\n",
    "# Create the  plot\n",
    "# axs[1].scatter(Depth_plot, Train, s=10)\n",
    "\n",
    "axs[1].scatter(Depth_plot, Test, color = 'r', s= 10)\n",
    "# axs[1].scatter(Depth_plot, Test_2, color = 'r', s= 10)\n",
    "axs[1].set_xlabel('Trees')\n",
    "axs[1].set_ylabel('Acc')\n",
    "axs[1].set_title('Train')\n",
    "\n",
    "\n",
    "plt.show()"
   ]
  },
  {
   "cell_type": "markdown",
   "metadata": {},
   "source": [
    "#### 6 Backtest"
   ]
  },
  {
   "cell_type": "code",
   "execution_count": 53,
   "metadata": {},
   "outputs": [
    {
     "name": "stdout",
     "output_type": "stream",
     "text": [
      "* Train / Test split with ~\n",
      "         - Forecast field: Cap_Return%\n",
      "         - Coin          : BTC\n",
      "         -               : Cap_Return%_BTC\n",
      "         - Training      : 2021-06-01 -> 2021-10-01\n",
      "         - Testing       : 2021-10-01 -> 2021-11-01\n",
      "\n",
      "* Test Length   : 44459\n",
      "* Train Length  : 174566\n",
      "* X shape       : (174566, 28)\n",
      "* Y shape       : (174566,)\n",
      "Train Skew      :  0.5306474342082651\n",
      "Test Skew       :  0.4686115297240154\n",
      "* Training RF Model\n",
      "* Generating forecasts\n",
      "\n",
      "Executed successfully. Tue 05 Jul @ 15:10:45\n",
      "\n"
     ]
    }
   ],
   "source": [
    "# Choose some data to use for study/training/backtesting\n",
    "Start = '2021-06-01'\n",
    "Mid = '2021-10-01'\n",
    "\n",
    "# Choose the testing set\n",
    "End = '2021-11-01'\n",
    "\n",
    "# Train the model\n",
    "Train, TrainX, TrainY, Test, TestX, TestY = Train_Test_Build(Coins_Modelling, Coin, Forecast_Field, Start,  Mid, End)\n",
    "\n",
    "Train_Skew = np.append(Train_Skew, np.sum(TrainY)/len(TrainY))\n",
    "Test_Skew = np.append(Test_Skew, np.sum(TestY)/len(TestY))\n",
    "    \n",
    "print(\"* Training RF Model\")\n",
    "Estimators = 60\n",
    "Model_RF = RandomForestClassifier(max_depth= 6, random_state=4021, n_estimators = Estimators)\n",
    "Model_RF.fit(TrainX, TrainY)\n",
    "\n",
    "print('* Generating forecasts')\n",
    "ForecastsY = Model_RF.predict(TestX)\n",
    "\n",
    "Prob = Model_RF.predict_proba(TestX)\n",
    "\n",
    "print('')\n",
    "Keep_Track() "
   ]
  },
  {
   "cell_type": "code",
   "execution_count": 52,
   "metadata": {},
   "outputs": [
    {
     "data": {
      "text/plain": [
       "array([[ 4.35323100e+04,  4.33331200e+04,  4.38257300e+04, ...,\n",
       "        -1.99026541e-01,  6.41935683e-01,  6.91808292e-01],\n",
       "       [ 4.36363400e+04,  4.33694800e+04,  4.38803800e+04, ...,\n",
       "        -4.83821704e-04,  6.25996271e-01,  6.89068545e-01],\n",
       "       [ 4.36216100e+04,  4.33716000e+04,  4.39800000e+04, ...,\n",
       "         2.74316587e+00,  6.66809744e-01,  7.02027676e-01],\n",
       "       ...,\n",
       "       [ 6.06495200e+04,  6.07191800e+04,  6.09225200e+04, ...,\n",
       "        -1.36002351e-01,  4.26643482e-01,  4.27629261e-01],\n",
       "       [ 6.06608700e+04,  6.06572500e+04,  6.09150200e+04, ...,\n",
       "        -1.66912674e+00,  4.24292061e-01,  4.26248150e-01],\n",
       "       [ 6.06994200e+04,  6.06401800e+04,  6.09270400e+04, ...,\n",
       "        -2.39007289e-01,  4.21917817e-01,  4.25952160e-01]])"
      ]
     },
     "execution_count": 52,
     "metadata": {},
     "output_type": "execute_result"
    }
   ],
   "source": [
    "TestX\n"
   ]
  },
  {
   "cell_type": "code",
   "execution_count": 54,
   "metadata": {},
   "outputs": [
    {
     "data": {
      "text/html": [
       "<div>\n",
       "<style scoped>\n",
       "    .dataframe tbody tr th:only-of-type {\n",
       "        vertical-align: middle;\n",
       "    }\n",
       "\n",
       "    .dataframe tbody tr th {\n",
       "        vertical-align: top;\n",
       "    }\n",
       "\n",
       "    .dataframe thead th {\n",
       "        text-align: right;\n",
       "    }\n",
       "</style>\n",
       "<table border=\"1\" class=\"dataframe\">\n",
       "  <thead>\n",
       "    <tr style=\"text-align: right;\">\n",
       "      <th></th>\n",
       "      <th>DateTime</th>\n",
       "      <th>End_Date</th>\n",
       "      <th>Life(s)</th>\n",
       "      <th>Initial_Open</th>\n",
       "      <th>Final_Close</th>\n",
       "      <th>Level</th>\n",
       "      <th>Capital</th>\n",
       "      <th>Cap_Return%</th>\n",
       "      <th>Prob_Start</th>\n",
       "    </tr>\n",
       "  </thead>\n",
       "  <tbody>\n",
       "    <tr>\n",
       "      <th>478765</th>\n",
       "      <td>2021-10-31 00:05:00</td>\n",
       "      <td>2021-10-31 03:05:00</td>\n",
       "      <td>10800.0</td>\n",
       "      <td>62090.18</td>\n",
       "      <td>61815.2</td>\n",
       "      <td>1</td>\n",
       "      <td>2.78</td>\n",
       "      <td>-0.005375</td>\n",
       "      <td>0.356364</td>\n",
       "    </tr>\n",
       "  </tbody>\n",
       "</table>\n",
       "</div>"
      ],
      "text/plain": [
       "                  DateTime            End_Date  Life(s)  Initial_Open  \\\n",
       "478765 2021-10-31 00:05:00 2021-10-31 03:05:00  10800.0      62090.18   \n",
       "\n",
       "        Final_Close  Level  Capital  Cap_Return%  Prob_Start  \n",
       "478765      61815.2      1     2.78    -0.005375    0.356364  "
      ]
     },
     "execution_count": 54,
     "metadata": {},
     "output_type": "execute_result"
    }
   ],
   "source": [
    "# Create a dataset to run the backtesting\n",
    "Backtest_Data = Sample_Data(Core_Data, 'DateTime', UpperDate = End, LowerDate = Mid)\n",
    "Backtest_Data['Prob_Start'] = Prob[:,1]\n",
    "\n",
    "Backtest_Data['DateTime'] = pd.to_datetime(Backtest_Data['DateTime'], dayfirst=True)\n",
    "Backtest_Data['End_Date'] = pd.to_datetime(Backtest_Data['End_Date'], dayfirst=True)\n",
    "\n",
    "# Example\n",
    "Start_Date = '2021-10-31 00:05:00'\n",
    "Backtest_Data[Backtest_Data['DateTime']==Start_Date][['DateTime','End_Date','Life(s)','Initial_Open','Final_Close', 'Level', 'Capital','Cap_Return%', 'Prob_Start']]"
   ]
  },
  {
   "cell_type": "code",
   "execution_count": 57,
   "metadata": {},
   "outputs": [
    {
     "name": "stdout",
     "output_type": "stream",
     "text": [
      "* Threshold set to     : 0.6\n",
      "* Dates in data        : 44459\n",
      "* % start dates        : 0.047616905463460715\n",
      "\n",
      "Executed successfully. Tue 05 Jul @ 15:12:15\n",
      "\n"
     ]
    }
   ],
   "source": [
    "# Calculate the indicators - these are times when the model thinks the start date is good.\n",
    "# Choose a probability threshold\n",
    "Threshold = 0.6\n",
    "\n",
    "# Calculate the corresponding times when the algo would start.\n",
    "Indicator = Backtest_Data['Prob_Start'] > Threshold\n",
    "\n",
    "print('* Threshold set to     :', Threshold)\n",
    "print('* Dates in data        :', len(Backtest_Data))\n",
    "print('* % start dates        :', np.sum(Indicator)/len(Indicator))\n",
    "\n",
    "print('')\n",
    "Keep_Track() "
   ]
  },
  {
   "cell_type": "code",
   "execution_count": 58,
   "metadata": {},
   "outputs": [
    {
     "name": "stdout",
     "output_type": "stream",
     "text": [
      "\n",
      "Executed successfully. Tue 05 Jul @ 15:12:17\n",
      "\n"
     ]
    }
   ],
   "source": [
    "#Create some copies \n",
    "Run_Start = Backtest_Data[Indicator][['DateTime','End_Date','Level','Life(s)','Cap_Return%']].copy()\n",
    "Run_End = Backtest_Data[Indicator][['DateTime','End_Date','Level','Life(s)','Cap_Return%']].copy()\n",
    "\n",
    "# Add one minute to the end date to force the next algo to start at the next time (rather than immediately)\n",
    "Run_Start['End_Date'] = Run_Start['End_Date'] + pd.offsets.DateOffset(minutes=1)\n",
    "Run_End['End_Date'] = Run_End['End_Date'] + pd.offsets.DateOffset(minutes=1)\n",
    "\n",
    "# Include additional measures if calculated\n",
    "# Run_Start = Out_All[Indicator][['Start_Date','End_Date','Level','Life(s)','Cap_Return%','Sharpe','Max_Drawdown']].copy()\n",
    "# Run_End = Out_All[Indicator][['Start_Date','End_Date','Level','Life(s)','Cap_Return%','Sharpe','Max_Drawdown']].copy()\n",
    "\n",
    "# Add in a distant date to terminate the process later\n",
    "End_Record = Run_Start[Run_Start['DateTime']==np.max(Run_Start['DateTime'])].copy()\n",
    "End_Record['DateTime'] = End_Record['DateTime'] + pd.offsets.DateOffset(years=20)\n",
    "End_Record['End_Date'] = End_Record['DateTime']\n",
    "\n",
    "# For this new date we have no results of interest.  Set to Nan so they can be excluded\n",
    "End_Record['Cap_Return%'] = np.nan\n",
    "End_Record['Level'] = np.nan\n",
    "End_Record['Life(s)'] = np.nan\n",
    "# End_Record['Sharpe'] = np.nan\n",
    "# End_Record['Max_Drawdown'] = np.nan\n",
    "\n",
    "# Add the records in\n",
    "Run_Start = pd.concat([Run_Start,End_Record])\n",
    "Run_End = pd.concat([Run_End,End_Record])\n",
    "\n",
    "# Order Run_start by start date and Run_End by end date so we can use merge_asof\n",
    "Run_Start = Run_Start.sort_values(by=['End_Date'])\n",
    "Run_End = Run_End.sort_values(by=['DateTime'])\n",
    "\n",
    "\n",
    "print('')\n",
    "Keep_Track()"
   ]
  },
  {
   "cell_type": "markdown",
   "metadata": {},
   "source": [
    "Build the paths.  Each algo runs until it stops.  We then wait until the next start date allowed (for example the next date an indicator is true) then it runs again.  etc."
   ]
  },
  {
   "cell_type": "code",
   "execution_count": 37,
   "metadata": {},
   "outputs": [
    {
     "name": "stdout",
     "output_type": "stream",
     "text": [
      "* Build non-overlapping paths function complete\n",
      "\n",
      "Executed successfully. Tue 05 Jul @ 14:49:05\n",
      "\n"
     ]
    }
   ],
   "source": [
    "def Build_Paths(Run_Start, Run_End):\n",
    "\n",
    "    print('* Running ...')\n",
    "    # Loop over joins until all data used.\n",
    "    Continue = True\n",
    "\n",
    "    # only need a limited number - 400 should be enough (the number of algos)\n",
    "    for i in range(400):\n",
    "\n",
    "        if Continue:\n",
    "            print(i,'|',end='')\n",
    "\n",
    "            if i == 0:\n",
    "                left_name = 'End_Date'\n",
    "            else:\n",
    "                left_name = 'End_Date_' + str(i-1)\n",
    "\n",
    "            suffix_name = '_'+str(i)\n",
    "            sort_name = 'End_Date_' +str(i)\n",
    "\n",
    "            Run_Start = pd.merge_asof(Run_Start, Run_End, left_on=left_name, right_on = 'DateTime', suffixes=('', suffix_name), direction='forward').sort_values(by=[sort_name])\n",
    "\n",
    "            # Loop until all end dates are the last date.\n",
    "            Continue = ~(Run_Start[left_name] == np.array(End_Record['DateTime'])[0]).all()\n",
    "            \n",
    "    return Run_Start      \n",
    "\n",
    "print('* Build non-overlapping paths function complete')\n",
    "print('')\n",
    "Keep_Track()"
   ]
  },
  {
   "cell_type": "markdown",
   "metadata": {},
   "source": [
    "Run"
   ]
  },
  {
   "cell_type": "code",
   "execution_count": 59,
   "metadata": {},
   "outputs": [
    {
     "name": "stdout",
     "output_type": "stream",
     "text": [
      "* Running ...\n",
      "0 |1 |2 |3 |4 |5 |6 |7 |8 |9 |10 |11 |12 |13 |14 |15 |16 |17 |18 |19 |20 |21 |22 |23 |24 |25 |26 |27 |28 |29 |30 |31 |32 |33 |34 |35 |36 |37 |38 |39 |40 |41 |42 |43 |44 |45 |46 |47 |48 |49 |50 |51 |52 |53 |54 |55 |56 |57 |58 |59 |60 |61 |62 |63 |64 |65 |66 |67 |68 |69 |70 |71 |72 |73 |74 |75 |76 |77 |78 |79 |80 |81 |82 |83 |84 |85 |86 |87 |88 |\n",
      "\n",
      "Executed successfully. Tue 05 Jul @ 15:12:23\n",
      "\n"
     ]
    }
   ],
   "source": [
    "Results = Build_Paths(Run_Start, Run_End)\n",
    "print('')\n",
    "print('')\n",
    "Keep_Track()"
   ]
  },
  {
   "cell_type": "code",
   "execution_count": 39,
   "metadata": {},
   "outputs": [
    {
     "data": {
      "text/html": [
       "<div>\n",
       "<style scoped>\n",
       "    .dataframe tbody tr th:only-of-type {\n",
       "        vertical-align: middle;\n",
       "    }\n",
       "\n",
       "    .dataframe tbody tr th {\n",
       "        vertical-align: top;\n",
       "    }\n",
       "\n",
       "    .dataframe thead th {\n",
       "        text-align: right;\n",
       "    }\n",
       "</style>\n",
       "<table border=\"1\" class=\"dataframe\">\n",
       "  <thead>\n",
       "    <tr style=\"text-align: right;\">\n",
       "      <th></th>\n",
       "      <th>DateTime</th>\n",
       "      <th>DateTime_0</th>\n",
       "      <th>DateTime_1</th>\n",
       "      <th>DateTime_2</th>\n",
       "      <th>DateTime_3</th>\n",
       "      <th>DateTime_4</th>\n",
       "      <th>DateTime_5</th>\n",
       "      <th>DateTime_6</th>\n",
       "      <th>DateTime_7</th>\n",
       "      <th>DateTime_8</th>\n",
       "      <th>...</th>\n",
       "      <th>DateTime_89</th>\n",
       "      <th>DateTime_90</th>\n",
       "      <th>DateTime_91</th>\n",
       "      <th>DateTime_92</th>\n",
       "      <th>DateTime_93</th>\n",
       "      <th>DateTime_94</th>\n",
       "      <th>DateTime_95</th>\n",
       "      <th>DateTime_96</th>\n",
       "      <th>DateTime_97</th>\n",
       "      <th>DateTime_98</th>\n",
       "    </tr>\n",
       "  </thead>\n",
       "  <tbody>\n",
       "    <tr>\n",
       "      <th>0</th>\n",
       "      <td>2021-10-01 10:28:00</td>\n",
       "      <td>2021-10-01 10:29:00</td>\n",
       "      <td>2021-10-01 10:30:00</td>\n",
       "      <td>2021-10-01 10:31:00</td>\n",
       "      <td>2021-10-01 10:32:00</td>\n",
       "      <td>2021-10-01 10:33:00</td>\n",
       "      <td>2021-10-01 10:42:00</td>\n",
       "      <td>2021-10-01 10:43:00</td>\n",
       "      <td>2021-10-01 10:44:00</td>\n",
       "      <td>2021-10-01 11:52:00</td>\n",
       "      <td>...</td>\n",
       "      <td>2021-10-28 18:46:00</td>\n",
       "      <td>2021-10-28 18:50:00</td>\n",
       "      <td>2021-10-28 18:52:00</td>\n",
       "      <td>2021-10-28 19:48:00</td>\n",
       "      <td>2021-10-28 19:50:00</td>\n",
       "      <td>2021-10-28 19:59:00</td>\n",
       "      <td>2021-10-28 20:53:00</td>\n",
       "      <td>2021-10-30 14:36:00</td>\n",
       "      <td>2041-10-30 14:46:00</td>\n",
       "      <td>2041-10-30 14:46:00</td>\n",
       "    </tr>\n",
       "    <tr>\n",
       "      <th>1939</th>\n",
       "      <td>2021-10-01 11:20:00</td>\n",
       "      <td>2021-10-01 11:52:00</td>\n",
       "      <td>2021-10-01 14:43:00</td>\n",
       "      <td>2021-10-03 21:07:00</td>\n",
       "      <td>2021-10-04 14:55:00</td>\n",
       "      <td>2021-10-04 16:00:00</td>\n",
       "      <td>2021-10-04 16:19:00</td>\n",
       "      <td>2021-10-04 16:20:00</td>\n",
       "      <td>2021-10-04 17:38:00</td>\n",
       "      <td>2021-10-04 17:53:00</td>\n",
       "      <td>...</td>\n",
       "      <td>2041-10-30 14:46:00</td>\n",
       "      <td>2041-10-30 14:46:00</td>\n",
       "      <td>2041-10-30 14:46:00</td>\n",
       "      <td>2041-10-30 14:46:00</td>\n",
       "      <td>2041-10-30 14:46:00</td>\n",
       "      <td>2041-10-30 14:46:00</td>\n",
       "      <td>2041-10-30 14:46:00</td>\n",
       "      <td>2041-10-30 14:46:00</td>\n",
       "      <td>2041-10-30 14:46:00</td>\n",
       "      <td>2041-10-30 14:46:00</td>\n",
       "    </tr>\n",
       "    <tr>\n",
       "      <th>1940</th>\n",
       "      <td>2021-10-01 11:29:00</td>\n",
       "      <td>2021-10-01 11:52:00</td>\n",
       "      <td>2021-10-01 14:43:00</td>\n",
       "      <td>2021-10-03 21:07:00</td>\n",
       "      <td>2021-10-04 14:55:00</td>\n",
       "      <td>2021-10-04 16:00:00</td>\n",
       "      <td>2021-10-04 16:19:00</td>\n",
       "      <td>2021-10-04 16:20:00</td>\n",
       "      <td>2021-10-04 17:38:00</td>\n",
       "      <td>2021-10-04 17:53:00</td>\n",
       "      <td>...</td>\n",
       "      <td>2041-10-30 14:46:00</td>\n",
       "      <td>2041-10-30 14:46:00</td>\n",
       "      <td>2041-10-30 14:46:00</td>\n",
       "      <td>2041-10-30 14:46:00</td>\n",
       "      <td>2041-10-30 14:46:00</td>\n",
       "      <td>2041-10-30 14:46:00</td>\n",
       "      <td>2041-10-30 14:46:00</td>\n",
       "      <td>2041-10-30 14:46:00</td>\n",
       "      <td>2041-10-30 14:46:00</td>\n",
       "      <td>2041-10-30 14:46:00</td>\n",
       "    </tr>\n",
       "    <tr>\n",
       "      <th>1941</th>\n",
       "      <td>2021-10-01 11:21:00</td>\n",
       "      <td>2021-10-01 11:52:00</td>\n",
       "      <td>2021-10-01 14:43:00</td>\n",
       "      <td>2021-10-03 21:07:00</td>\n",
       "      <td>2021-10-04 14:55:00</td>\n",
       "      <td>2021-10-04 16:00:00</td>\n",
       "      <td>2021-10-04 16:19:00</td>\n",
       "      <td>2021-10-04 16:20:00</td>\n",
       "      <td>2021-10-04 17:38:00</td>\n",
       "      <td>2021-10-04 17:53:00</td>\n",
       "      <td>...</td>\n",
       "      <td>2041-10-30 14:46:00</td>\n",
       "      <td>2041-10-30 14:46:00</td>\n",
       "      <td>2041-10-30 14:46:00</td>\n",
       "      <td>2041-10-30 14:46:00</td>\n",
       "      <td>2041-10-30 14:46:00</td>\n",
       "      <td>2041-10-30 14:46:00</td>\n",
       "      <td>2041-10-30 14:46:00</td>\n",
       "      <td>2041-10-30 14:46:00</td>\n",
       "      <td>2041-10-30 14:46:00</td>\n",
       "      <td>2041-10-30 14:46:00</td>\n",
       "    </tr>\n",
       "    <tr>\n",
       "      <th>1942</th>\n",
       "      <td>2021-10-01 11:05:00</td>\n",
       "      <td>2021-10-01 11:52:00</td>\n",
       "      <td>2021-10-01 14:43:00</td>\n",
       "      <td>2021-10-03 21:07:00</td>\n",
       "      <td>2021-10-04 14:55:00</td>\n",
       "      <td>2021-10-04 16:00:00</td>\n",
       "      <td>2021-10-04 16:19:00</td>\n",
       "      <td>2021-10-04 16:20:00</td>\n",
       "      <td>2021-10-04 17:38:00</td>\n",
       "      <td>2021-10-04 17:53:00</td>\n",
       "      <td>...</td>\n",
       "      <td>2041-10-30 14:46:00</td>\n",
       "      <td>2041-10-30 14:46:00</td>\n",
       "      <td>2041-10-30 14:46:00</td>\n",
       "      <td>2041-10-30 14:46:00</td>\n",
       "      <td>2041-10-30 14:46:00</td>\n",
       "      <td>2041-10-30 14:46:00</td>\n",
       "      <td>2041-10-30 14:46:00</td>\n",
       "      <td>2041-10-30 14:46:00</td>\n",
       "      <td>2041-10-30 14:46:00</td>\n",
       "      <td>2041-10-30 14:46:00</td>\n",
       "    </tr>\n",
       "  </tbody>\n",
       "</table>\n",
       "<p>5 rows × 100 columns</p>\n",
       "</div>"
      ],
      "text/plain": [
       "                DateTime          DateTime_0          DateTime_1  \\\n",
       "0    2021-10-01 10:28:00 2021-10-01 10:29:00 2021-10-01 10:30:00   \n",
       "1939 2021-10-01 11:20:00 2021-10-01 11:52:00 2021-10-01 14:43:00   \n",
       "1940 2021-10-01 11:29:00 2021-10-01 11:52:00 2021-10-01 14:43:00   \n",
       "1941 2021-10-01 11:21:00 2021-10-01 11:52:00 2021-10-01 14:43:00   \n",
       "1942 2021-10-01 11:05:00 2021-10-01 11:52:00 2021-10-01 14:43:00   \n",
       "\n",
       "              DateTime_2          DateTime_3          DateTime_4  \\\n",
       "0    2021-10-01 10:31:00 2021-10-01 10:32:00 2021-10-01 10:33:00   \n",
       "1939 2021-10-03 21:07:00 2021-10-04 14:55:00 2021-10-04 16:00:00   \n",
       "1940 2021-10-03 21:07:00 2021-10-04 14:55:00 2021-10-04 16:00:00   \n",
       "1941 2021-10-03 21:07:00 2021-10-04 14:55:00 2021-10-04 16:00:00   \n",
       "1942 2021-10-03 21:07:00 2021-10-04 14:55:00 2021-10-04 16:00:00   \n",
       "\n",
       "              DateTime_5          DateTime_6          DateTime_7  \\\n",
       "0    2021-10-01 10:42:00 2021-10-01 10:43:00 2021-10-01 10:44:00   \n",
       "1939 2021-10-04 16:19:00 2021-10-04 16:20:00 2021-10-04 17:38:00   \n",
       "1940 2021-10-04 16:19:00 2021-10-04 16:20:00 2021-10-04 17:38:00   \n",
       "1941 2021-10-04 16:19:00 2021-10-04 16:20:00 2021-10-04 17:38:00   \n",
       "1942 2021-10-04 16:19:00 2021-10-04 16:20:00 2021-10-04 17:38:00   \n",
       "\n",
       "              DateTime_8  ...         DateTime_89         DateTime_90  \\\n",
       "0    2021-10-01 11:52:00  ... 2021-10-28 18:46:00 2021-10-28 18:50:00   \n",
       "1939 2021-10-04 17:53:00  ... 2041-10-30 14:46:00 2041-10-30 14:46:00   \n",
       "1940 2021-10-04 17:53:00  ... 2041-10-30 14:46:00 2041-10-30 14:46:00   \n",
       "1941 2021-10-04 17:53:00  ... 2041-10-30 14:46:00 2041-10-30 14:46:00   \n",
       "1942 2021-10-04 17:53:00  ... 2041-10-30 14:46:00 2041-10-30 14:46:00   \n",
       "\n",
       "             DateTime_91         DateTime_92         DateTime_93  \\\n",
       "0    2021-10-28 18:52:00 2021-10-28 19:48:00 2021-10-28 19:50:00   \n",
       "1939 2041-10-30 14:46:00 2041-10-30 14:46:00 2041-10-30 14:46:00   \n",
       "1940 2041-10-30 14:46:00 2041-10-30 14:46:00 2041-10-30 14:46:00   \n",
       "1941 2041-10-30 14:46:00 2041-10-30 14:46:00 2041-10-30 14:46:00   \n",
       "1942 2041-10-30 14:46:00 2041-10-30 14:46:00 2041-10-30 14:46:00   \n",
       "\n",
       "             DateTime_94         DateTime_95         DateTime_96  \\\n",
       "0    2021-10-28 19:59:00 2021-10-28 20:53:00 2021-10-30 14:36:00   \n",
       "1939 2041-10-30 14:46:00 2041-10-30 14:46:00 2041-10-30 14:46:00   \n",
       "1940 2041-10-30 14:46:00 2041-10-30 14:46:00 2041-10-30 14:46:00   \n",
       "1941 2041-10-30 14:46:00 2041-10-30 14:46:00 2041-10-30 14:46:00   \n",
       "1942 2041-10-30 14:46:00 2041-10-30 14:46:00 2041-10-30 14:46:00   \n",
       "\n",
       "             DateTime_97         DateTime_98  \n",
       "0    2041-10-30 14:46:00 2041-10-30 14:46:00  \n",
       "1939 2041-10-30 14:46:00 2041-10-30 14:46:00  \n",
       "1940 2041-10-30 14:46:00 2041-10-30 14:46:00  \n",
       "1941 2041-10-30 14:46:00 2041-10-30 14:46:00  \n",
       "1942 2041-10-30 14:46:00 2041-10-30 14:46:00  \n",
       "\n",
       "[5 rows x 100 columns]"
      ]
     },
     "execution_count": 39,
     "metadata": {},
     "output_type": "execute_result"
    }
   ],
   "source": [
    "(Results.loc[:,Results.columns.str.startswith(\"DateTime\")]).head(5)"
   ]
  },
  {
   "cell_type": "code",
   "execution_count": null,
   "metadata": {},
   "outputs": [],
   "source": [
    "# (Results.loc[:,Results.columns.str.startswith(\"DateTime\")]).head(5)"
   ]
  },
  {
   "cell_type": "code",
   "execution_count": 61,
   "metadata": {},
   "outputs": [
    {
     "data": {
      "text/html": [
       "<div>\n",
       "<style scoped>\n",
       "    .dataframe tbody tr th:only-of-type {\n",
       "        vertical-align: middle;\n",
       "    }\n",
       "\n",
       "    .dataframe tbody tr th {\n",
       "        vertical-align: top;\n",
       "    }\n",
       "\n",
       "    .dataframe thead th {\n",
       "        text-align: right;\n",
       "    }\n",
       "</style>\n",
       "<table border=\"1\" class=\"dataframe\">\n",
       "  <thead>\n",
       "    <tr style=\"text-align: right;\">\n",
       "      <th></th>\n",
       "      <th>DateTime</th>\n",
       "      <th>End_Date</th>\n",
       "      <th>Life(s)</th>\n",
       "      <th>Initial_Open</th>\n",
       "      <th>Final_Close</th>\n",
       "      <th>Level</th>\n",
       "      <th>Capital</th>\n",
       "      <th>Cap_Return%</th>\n",
       "      <th>Prob_Start</th>\n",
       "    </tr>\n",
       "  </thead>\n",
       "  <tbody>\n",
       "    <tr>\n",
       "      <th>436188</th>\n",
       "      <td>2021-10-01 10:28:00</td>\n",
       "      <td>2021-10-01 10:28:00</td>\n",
       "      <td>0.0</td>\n",
       "      <td>45703.6</td>\n",
       "      <td>46750.0</td>\n",
       "      <td>0</td>\n",
       "      <td>1.39</td>\n",
       "      <td>0.031825</td>\n",
       "      <td>0.63575</td>\n",
       "    </tr>\n",
       "  </tbody>\n",
       "</table>\n",
       "</div>"
      ],
      "text/plain": [
       "                  DateTime            End_Date  Life(s)  Initial_Open  \\\n",
       "436188 2021-10-01 10:28:00 2021-10-01 10:28:00      0.0       45703.6   \n",
       "\n",
       "        Final_Close  Level  Capital  Cap_Return%  Prob_Start  \n",
       "436188      46750.0      0     1.39     0.031825     0.63575  "
      ]
     },
     "execution_count": 61,
     "metadata": {},
     "output_type": "execute_result"
    }
   ],
   "source": [
    "Start_Date = '2021-10-01 10:28:00'\n",
    "Backtest_Data[Backtest_Data['DateTime']==Start_Date][['DateTime','End_Date','Life(s)','Initial_Open','Final_Close', 'Level', 'Capital','Cap_Return%', 'Prob_Start']]"
   ]
  },
  {
   "cell_type": "code",
   "execution_count": 62,
   "metadata": {},
   "outputs": [
    {
     "data": {
      "text/html": [
       "<div>\n",
       "<style scoped>\n",
       "    .dataframe tbody tr th:only-of-type {\n",
       "        vertical-align: middle;\n",
       "    }\n",
       "\n",
       "    .dataframe tbody tr th {\n",
       "        vertical-align: top;\n",
       "    }\n",
       "\n",
       "    .dataframe thead th {\n",
       "        text-align: right;\n",
       "    }\n",
       "</style>\n",
       "<table border=\"1\" class=\"dataframe\">\n",
       "  <thead>\n",
       "    <tr style=\"text-align: right;\">\n",
       "      <th></th>\n",
       "      <th>Cap_Return%</th>\n",
       "      <th>Cap_Return%_0</th>\n",
       "      <th>Cap_Return%_1</th>\n",
       "      <th>Cap_Return%_2</th>\n",
       "      <th>Cap_Return%_3</th>\n",
       "      <th>Cap_Return%_4</th>\n",
       "      <th>Cap_Return%_5</th>\n",
       "      <th>Cap_Return%_6</th>\n",
       "      <th>Cap_Return%_7</th>\n",
       "      <th>Cap_Return%_8</th>\n",
       "      <th>...</th>\n",
       "      <th>Cap_Return%_79</th>\n",
       "      <th>Cap_Return%_80</th>\n",
       "      <th>Cap_Return%_81</th>\n",
       "      <th>Cap_Return%_82</th>\n",
       "      <th>Cap_Return%_83</th>\n",
       "      <th>Cap_Return%_84</th>\n",
       "      <th>Cap_Return%_85</th>\n",
       "      <th>Cap_Return%_86</th>\n",
       "      <th>Cap_Return%_87</th>\n",
       "      <th>Cap_Return%_88</th>\n",
       "    </tr>\n",
       "  </thead>\n",
       "  <tbody>\n",
       "    <tr>\n",
       "      <th>0</th>\n",
       "      <td>0.031825</td>\n",
       "      <td>0.020592</td>\n",
       "      <td>0.011659</td>\n",
       "      <td>0.008389</td>\n",
       "      <td>0.013572</td>\n",
       "      <td>0.031100</td>\n",
       "      <td>0.015465</td>\n",
       "      <td>0.011783</td>\n",
       "      <td>0.027770</td>\n",
       "      <td>0.009552</td>\n",
       "      <td>...</td>\n",
       "      <td>0.015577</td>\n",
       "      <td>0.016320</td>\n",
       "      <td>0.010203</td>\n",
       "      <td>0.009288</td>\n",
       "      <td>0.008666</td>\n",
       "      <td>0.009431</td>\n",
       "      <td>0.016274</td>\n",
       "      <td>-0.149717</td>\n",
       "      <td>NaN</td>\n",
       "      <td>NaN</td>\n",
       "    </tr>\n",
       "    <tr>\n",
       "      <th>1420</th>\n",
       "      <td>0.011560</td>\n",
       "      <td>0.030250</td>\n",
       "      <td>0.008433</td>\n",
       "      <td>0.039166</td>\n",
       "      <td>0.022283</td>\n",
       "      <td>0.030988</td>\n",
       "      <td>0.036003</td>\n",
       "      <td>0.008620</td>\n",
       "      <td>0.030332</td>\n",
       "      <td>0.029548</td>\n",
       "      <td>...</td>\n",
       "      <td>NaN</td>\n",
       "      <td>NaN</td>\n",
       "      <td>NaN</td>\n",
       "      <td>NaN</td>\n",
       "      <td>NaN</td>\n",
       "      <td>NaN</td>\n",
       "      <td>NaN</td>\n",
       "      <td>NaN</td>\n",
       "      <td>NaN</td>\n",
       "      <td>NaN</td>\n",
       "    </tr>\n",
       "    <tr>\n",
       "      <th>1419</th>\n",
       "      <td>0.009098</td>\n",
       "      <td>0.009552</td>\n",
       "      <td>-0.013412</td>\n",
       "      <td>0.027771</td>\n",
       "      <td>0.009569</td>\n",
       "      <td>0.009163</td>\n",
       "      <td>0.010292</td>\n",
       "      <td>0.008919</td>\n",
       "      <td>0.014798</td>\n",
       "      <td>0.030250</td>\n",
       "      <td>...</td>\n",
       "      <td>NaN</td>\n",
       "      <td>NaN</td>\n",
       "      <td>NaN</td>\n",
       "      <td>NaN</td>\n",
       "      <td>NaN</td>\n",
       "      <td>NaN</td>\n",
       "      <td>NaN</td>\n",
       "      <td>NaN</td>\n",
       "      <td>NaN</td>\n",
       "      <td>NaN</td>\n",
       "    </tr>\n",
       "    <tr>\n",
       "      <th>1418</th>\n",
       "      <td>0.011659</td>\n",
       "      <td>0.008389</td>\n",
       "      <td>0.013572</td>\n",
       "      <td>0.031100</td>\n",
       "      <td>0.015465</td>\n",
       "      <td>0.011783</td>\n",
       "      <td>0.027770</td>\n",
       "      <td>0.009552</td>\n",
       "      <td>-0.013412</td>\n",
       "      <td>0.027771</td>\n",
       "      <td>...</td>\n",
       "      <td>0.010203</td>\n",
       "      <td>0.009288</td>\n",
       "      <td>0.008666</td>\n",
       "      <td>0.009431</td>\n",
       "      <td>0.016274</td>\n",
       "      <td>-0.149717</td>\n",
       "      <td>NaN</td>\n",
       "      <td>NaN</td>\n",
       "      <td>NaN</td>\n",
       "      <td>NaN</td>\n",
       "    </tr>\n",
       "    <tr>\n",
       "      <th>1417</th>\n",
       "      <td>0.027770</td>\n",
       "      <td>0.009552</td>\n",
       "      <td>-0.013412</td>\n",
       "      <td>0.027771</td>\n",
       "      <td>0.009569</td>\n",
       "      <td>0.009163</td>\n",
       "      <td>0.010292</td>\n",
       "      <td>0.008919</td>\n",
       "      <td>0.014798</td>\n",
       "      <td>0.030250</td>\n",
       "      <td>...</td>\n",
       "      <td>NaN</td>\n",
       "      <td>NaN</td>\n",
       "      <td>NaN</td>\n",
       "      <td>NaN</td>\n",
       "      <td>NaN</td>\n",
       "      <td>NaN</td>\n",
       "      <td>NaN</td>\n",
       "      <td>NaN</td>\n",
       "      <td>NaN</td>\n",
       "      <td>NaN</td>\n",
       "    </tr>\n",
       "  </tbody>\n",
       "</table>\n",
       "<p>5 rows × 90 columns</p>\n",
       "</div>"
      ],
      "text/plain": [
       "      Cap_Return%  Cap_Return%_0  Cap_Return%_1  Cap_Return%_2  Cap_Return%_3  \\\n",
       "0        0.031825       0.020592       0.011659       0.008389       0.013572   \n",
       "1420     0.011560       0.030250       0.008433       0.039166       0.022283   \n",
       "1419     0.009098       0.009552      -0.013412       0.027771       0.009569   \n",
       "1418     0.011659       0.008389       0.013572       0.031100       0.015465   \n",
       "1417     0.027770       0.009552      -0.013412       0.027771       0.009569   \n",
       "\n",
       "      Cap_Return%_4  Cap_Return%_5  Cap_Return%_6  Cap_Return%_7  \\\n",
       "0          0.031100       0.015465       0.011783       0.027770   \n",
       "1420       0.030988       0.036003       0.008620       0.030332   \n",
       "1419       0.009163       0.010292       0.008919       0.014798   \n",
       "1418       0.011783       0.027770       0.009552      -0.013412   \n",
       "1417       0.009163       0.010292       0.008919       0.014798   \n",
       "\n",
       "      Cap_Return%_8  ...  Cap_Return%_79  Cap_Return%_80  Cap_Return%_81  \\\n",
       "0          0.009552  ...        0.015577        0.016320        0.010203   \n",
       "1420       0.029548  ...             NaN             NaN             NaN   \n",
       "1419       0.030250  ...             NaN             NaN             NaN   \n",
       "1418       0.027771  ...        0.010203        0.009288        0.008666   \n",
       "1417       0.030250  ...             NaN             NaN             NaN   \n",
       "\n",
       "      Cap_Return%_82  Cap_Return%_83  Cap_Return%_84  Cap_Return%_85  \\\n",
       "0           0.009288        0.008666        0.009431        0.016274   \n",
       "1420             NaN             NaN             NaN             NaN   \n",
       "1419             NaN             NaN             NaN             NaN   \n",
       "1418        0.009431        0.016274       -0.149717             NaN   \n",
       "1417             NaN             NaN             NaN             NaN   \n",
       "\n",
       "      Cap_Return%_86  Cap_Return%_87  Cap_Return%_88  \n",
       "0          -0.149717             NaN             NaN  \n",
       "1420             NaN             NaN             NaN  \n",
       "1419             NaN             NaN             NaN  \n",
       "1418             NaN             NaN             NaN  \n",
       "1417             NaN             NaN             NaN  \n",
       "\n",
       "[5 rows x 90 columns]"
      ]
     },
     "execution_count": 62,
     "metadata": {},
     "output_type": "execute_result"
    }
   ],
   "source": [
    "# Example Cap return\n",
    "(Results.loc[:,Results.columns.str.startswith(\"Cap_Return%\")]).head(5)"
   ]
  },
  {
   "cell_type": "markdown",
   "metadata": {},
   "source": [
    "Summary Statistics"
   ]
  },
  {
   "cell_type": "code",
   "execution_count": 63,
   "metadata": {},
   "outputs": [
    {
     "name": "stdout",
     "output_type": "stream",
     "text": [
      "Cap Return Run Mean : 0.009\n",
      "Level Run Mean      : 1.305\n",
      "Run time Mean (min) : 57.7\n"
     ]
    }
   ],
   "source": [
    "print('Cap Return Run Mean :',round(((Results.loc[:,Results.columns.str.startswith(\"Cap_Return%\")]).mean(axis = 1).mean()),3))\n",
    "print('Level Run Mean      :',round(((Results.loc[:,Results.columns.str.startswith(\"Level\")]).mean(axis = 1).mean()),3))\n",
    "print('Run time Mean (min) :',round(((Results.loc[:,Results.columns.str.startswith(\"Life(s)\")]).mean(axis = 1).mean()/60),2))\n",
    "\n",
    "# print('Sharpe Mean         :',round(((Results.loc[:,Results.columns.str.startswith(\"Sharpe\")]).mean(axis = 1).mean()), 4))\n",
    "# print('Drawdown            :',round(((Results.loc[:,Results.columns.str.startswith(\"Max_Drawdown\")]).min(axis = 1).mean()), 4))"
   ]
  }
 ],
 "metadata": {
  "kernelspec": {
   "display_name": "Python 3 (ipykernel)",
   "language": "python",
   "name": "python3"
  },
  "language_info": {
   "codemirror_mode": {
    "name": "ipython",
    "version": 3
   },
   "file_extension": ".py",
   "mimetype": "text/x-python",
   "name": "python",
   "nbconvert_exporter": "python",
   "pygments_lexer": "ipython3",
   "version": "3.9.7"
  }
 },
 "nbformat": 4,
 "nbformat_minor": 4
}
