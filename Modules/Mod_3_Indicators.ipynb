{
 "cells": [
  {
   "cell_type": "markdown",
   "id": "87c0e861",
   "metadata": {},
   "source": [
    "### ------------------ Module 3: Compute Indicators ------------------"
   ]
  },
  {
   "cell_type": "markdown",
   "id": "e7c9684b",
   "metadata": {},
   "source": [
    "- What: Load algo results and compute indicator components\n",
    "- When: 26 May 2022"
   ]
  },
  {
   "cell_type": "markdown",
   "id": "a08011f4",
   "metadata": {},
   "source": [
    "$\\color{red}{\\text{Define Parameters:}}$"
   ]
  },
  {
   "cell_type": "code",
   "execution_count": 1,
   "id": "81ac3789",
   "metadata": {},
   "outputs": [],
   "source": [
    "# Load results from file\n",
    "FileName = '../OneDrive_1_5-6-2022/ethbusd_1min_Results.csv'\n",
    "\n",
    "# Location to save results to\n",
    "SaveFile = '../OneDrive_1_5-6-2022/ethbusd_1min_Results_Indicators.csv'"
   ]
  },
  {
   "cell_type": "markdown",
   "id": "0e67a3a0",
   "metadata": {},
   "source": [
    "#### 1. Load libraries"
   ]
  },
  {
   "cell_type": "code",
   "execution_count": 2,
   "id": "a97d087d",
   "metadata": {},
   "outputs": [
    {
     "name": "stdout",
     "output_type": "stream",
     "text": [
      "Executed successfully. Thu 26 May @ 16:00:44\n",
      "\n"
     ]
    }
   ],
   "source": [
    "import pandas as pd\n",
    "import matplotlib.pyplot as plt\n",
    "import numpy as np\n",
    "import datetime as dt\n",
    "\n",
    "# Little function to keep track of code execution.\n",
    "def Keep_Track():\n",
    "    print(\"Executed successfully. \" + dt.datetime.now().strftime(\"%a %d %b @ %H:%M:%S\") + \"\\n\")\n",
    "\n",
    "Keep_Track()\n"
   ]
  },
  {
   "cell_type": "markdown",
   "id": "569657d3",
   "metadata": {},
   "source": [
    "#### 2. Load the data"
   ]
  },
  {
   "cell_type": "code",
   "execution_count": 3,
   "id": "55977e79",
   "metadata": {},
   "outputs": [
    {
     "name": "stdout",
     "output_type": "stream",
     "text": [
      "* Loading data.\n",
      "* Data loaded   : 57590 records.\n",
      "* Create datetime field\n",
      "* First Date    : 2022-04-01 00:00:00\n",
      "* Last trade    : 2022-05-10 23:59:00\n",
      "\n",
      "Executed successfully. Thu 26 May @ 16:00:59\n",
      "\n"
     ]
    }
   ],
   "source": [
    "print('* Loading data.')\n",
    "Data = pd.read_csv(FileName)\n",
    "\n",
    "# Provide a quick summary of how many records we have\n",
    "print('* Data loaded   :', len(Data),'records.')\n",
    "\n",
    "print('* Create datetime field')\n",
    "\n",
    "# Create a datatime field\n",
    "Data['Start_Date'] = pd.to_datetime(Data['Start_Date'], dayfirst=True)\n",
    "Data = Data.sort_values(by=['Start_Date']).reset_index()\n",
    "\n",
    "print('* First Date    :', np.min(Data['Start_Date']))\n",
    "print('* Last trade    :', np.max(Data['Start_Date']))\n",
    "\n",
    "# Reset the index on the dataframe.\n",
    "Data = Data.set_index('Start_Date')\n",
    "\n",
    "print('')\n",
    "Keep_Track()"
   ]
  },
  {
   "cell_type": "markdown",
   "id": "ab198bf0",
   "metadata": {},
   "source": [
    "Define a function to compute some useful pre-indicators"
   ]
  },
  {
   "cell_type": "code",
   "execution_count": 4,
   "id": "6bfd2876",
   "metadata": {},
   "outputs": [
    {
     "name": "stdout",
     "output_type": "stream",
     "text": [
      "* Vol pre-indicator function built.\n",
      "\n",
      "Executed successfully. Thu 26 May @ 16:01:05\n",
      "\n"
     ]
    }
   ],
   "source": [
    "# Calulate the volume thresholds and reutrn a list of the column names for later use.\n",
    "def Vol_Thresholds(Data, Thresholds = np.array([0,1,2,4])):\n",
    "    \n",
    "    Data['HL_Spread'] = (Data['high_price'] - Data['low_price']) / Data['high_price']\n",
    "    \n",
    "    # Create a list of names collected so they can be auto summed later.\n",
    "    Name_List = np.empty(0)\n",
    "    \n",
    "    # Compute the thresholds\n",
    "    for i in Thresholds[1:]:\n",
    "        Name = str(i)+'%<x'\n",
    "        print('*',Name)\n",
    "        Data[Name] = np.array(i/100 < Data['HL_Spread'], int)\n",
    "        Name_List = np.append(Name_List, Name)\n",
    "        \n",
    "    for idx, i in enumerate(Thresholds[:-1]):\n",
    "        Name = str(i)+'%<x<='+str(Thresholds[idx+1])+'%'\n",
    "        print('*',Name)\n",
    "        Data[Name] = np.array((i/100 < Data['HL_Spread']) & (Data['HL_Spread'] <= Thresholds[idx+1]/100), int)\n",
    "        Name_List = np.append(Name_List, Name)\n",
    "        \n",
    "    return Data, Name_List  \n",
    "\n",
    "print('* Vol pre-indicator function built.')\n",
    "print('')\n",
    "Keep_Track()"
   ]
  },
  {
   "cell_type": "markdown",
   "id": "1de0f6a4",
   "metadata": {},
   "source": [
    "Calculate the vol range fields"
   ]
  },
  {
   "cell_type": "code",
   "execution_count": 5,
   "id": "e95ee693",
   "metadata": {},
   "outputs": [
    {
     "name": "stdout",
     "output_type": "stream",
     "text": [
      "* 1%<x\n",
      "* 2%<x\n",
      "* 4%<x\n",
      "* 0%<x<=1%\n",
      "* 1%<x<=2%\n",
      "* 2%<x<=4%\n",
      "\n",
      "Executed successfully. Thu 26 May @ 16:01:11\n",
      "\n"
     ]
    }
   ],
   "source": [
    "Data, List_Names = Vol_Thresholds(Data)\n",
    "print('')\n",
    "Keep_Track()"
   ]
  },
  {
   "cell_type": "markdown",
   "id": "bdb3b2d6",
   "metadata": {},
   "source": [
    "#### 2. Compute rolling measures"
   ]
  },
  {
   "cell_type": "code",
   "execution_count": 6,
   "id": "d690d850",
   "metadata": {},
   "outputs": [
    {
     "name": "stdout",
     "output_type": "stream",
     "text": [
      "* Compute 24hr volume\n",
      "* Compute 15m high/low price\n",
      "* Compute 24hr high price\n",
      "* Compute vol indicators\n",
      "\n",
      "Executed successfully. Thu 26 May @ 16:01:26\n",
      "\n"
     ]
    }
   ],
   "source": [
    "# Compute rolling 24hr volume.\n",
    "print('* Compute 24hr volume')\n",
    "Vol_24 = Data.rolling('86400s').sum().rename(columns = {'trade_amt':'Vol_24h'})[['Vol_24h']]\n",
    "\n",
    "# Compute 15min High and Low\n",
    "print('* Compute 15m high/low price')\n",
    "Max_15 = Data.rolling('900s').max().rename(columns = {'high_price':'High_15m'})[['High_15m']]\n",
    "Min_15 = Data.rolling('900s').min().rename(columns = {'low_price':'Low_15m'})[['Low_15m']]\n",
    "\n",
    "# Compute 24h high\n",
    "print('* Compute 24hr high price')\n",
    "High_24 = Data.rolling('86400s').max().rename(columns = {'high_price':'High_24'})[['High_24']]\n",
    "\n",
    "Data = pd.concat([Data, Max_15, Min_15,High_24,Vol_24],  axis=1)\n",
    "\n",
    "print('* Compute vol indicators')\n",
    "start = Data[[]]\n",
    "# Loop over the vol names to compute rolling sums automatically (6 hours)\n",
    "for Field in List_Names:\n",
    "    start = pd.concat([start, Data.rolling('21600s').sum().rename(columns = {Field:Field+'_6H'})[[Field+'_6H']]], axis = 1)\n",
    "\n",
    "\n",
    "Data = pd.concat([Data, start], axis = 1)    \n",
    "    \n",
    "# Data = Data.reset_index()\n",
    "\n",
    "print('')\n",
    "Keep_Track()"
   ]
  },
  {
   "cell_type": "markdown",
   "id": "f1407ac8",
   "metadata": {},
   "source": [
    "#### 3. Compute some data target measures"
   ]
  },
  {
   "cell_type": "code",
   "execution_count": 7,
   "id": "1ee198ea",
   "metadata": {},
   "outputs": [
    {
     "name": "stdout",
     "output_type": "stream",
     "text": [
      "\n",
      "Executed successfully. Thu 26 May @ 16:02:27\n",
      "\n"
     ]
    }
   ],
   "source": [
    "# Input_Data: The underlying trade data to calculate the target variables for.\n",
    "# Minutes   : The number of minutes\n",
    "\n",
    "def Add_Targets(Input_Data, Minutes, Names = []):\n",
    "    \n",
    "    # Convert to seconds (probably not necessary)\n",
    "    Seconds = Minutes * 60\n",
    "    \n",
    "    # Calculate the window for the rolling window function\n",
    "    window = str(Seconds)+'s'\n",
    "\n",
    "    # Calculate the lag for the shift calculation - we roll this back to make the data forward looking.\n",
    "    lag = int(Minutes)\n",
    "\n",
    "    print('* Calculating metrics over', window)\n",
    "\n",
    "        # Calculate the return (End/Start).\n",
    "    def Return_Period(x):\n",
    "        return x[-1]/x[0]\n",
    "\n",
    "    # Calculate the max return over the window (return on inital day is not used)\n",
    "    def Return_High_Period(x):\n",
    "        return np.max(x[1:])/x[0]\n",
    "\n",
    "    # Calculate the min return over the window (return on inital day is not used)\n",
    "    def Return_Low_Period(x):\n",
    "        return np.min(x[1:])/x[0]\n",
    "\n",
    "    # Calculate the min return over the window (return on inital day is not used)\n",
    "    def Return_mean_Period(x):\n",
    "        return np.mean(x[1:])/x[0]\n",
    "\n",
    "\n",
    "    # Copy of the DD calculation used in Module 2\n",
    "    def Calculate_Drawdown(x):\n",
    "\n",
    "        Minute_ret = pd.Series(x).pct_change()\n",
    "        cum_ret = (1+Minute_ret).cumprod()\n",
    "\n",
    "        # Calculate the running maximum\n",
    "        running_max = np.maximum.accumulate(cum_ret.dropna())\n",
    "\n",
    "        # Ensure the value never drops below 1\n",
    "        running_max[running_max < 1] = 1\n",
    "\n",
    "        # Calculate the percentage drawdown - i.e. how far down am I on the running max at that point.\n",
    "        drawdown = (cum_ret) / running_max - 1\n",
    "\n",
    "        # The max drop down from a max at any point.\n",
    "        max_dd = drawdown.min()*100\n",
    "\n",
    "        return max_dd\n",
    "\n",
    "    \n",
    "    # Run calculation\n",
    "    Return_Period = Input_Data[['close_price']].rolling(window,closed = 'both').apply(Return_Period).rename(columns = {'close_price':'Y_Return_'+window}).shift(-lag)\n",
    "    Return_High = Input_Data[['close_price']].rolling(window, closed = 'both').apply(Return_High_Period).rename(columns = {'close_price':'Y_Return_high_'+window}).shift(-lag)\n",
    "    Return_Low = Input_Data[['close_price']].rolling(window, closed = 'both').apply(Return_Low_Period).rename(columns = {'close_price':'Y_Return_low_'+window}).shift(-lag)\n",
    "    Draw_Down = Input_Data[['close_price']].rolling(window, closed = 'both').apply(Calculate_Drawdown).rename(columns = {'close_price':'Y_DrawDown_'+window}).shift(-lag)\n",
    "\n",
    "    return pd.concat([Input_Data[['close_price']], Return_Period, Return_High, Return_Low, Draw_Down],  axis=1)\n",
    "\n",
    "print('')\n",
    "Keep_Track()"
   ]
  },
  {
   "cell_type": "code",
   "execution_count": 8,
   "id": "aac780c6",
   "metadata": {},
   "outputs": [
    {
     "name": "stdout",
     "output_type": "stream",
     "text": [
      "* Calculating metrics over 3600s\n",
      "* Creating master.\n",
      "\n",
      "Executed successfully. Thu 26 May @ 16:05:02\n",
      "\n"
     ]
    }
   ],
   "source": [
    "Temp = Add_Targets(Data, 60)\n",
    "print('* Creating master.')\n",
    "Data = pd.concat([Data, Temp[['Y_Return_3600s','Y_Return_high_3600s','Y_Return_low_3600s','Y_DrawDown_3600s']]], axis = 1)\n",
    "\n",
    "Data = Data.reset_index()\n",
    "\n",
    "print('')\n",
    "Keep_Track()"
   ]
  },
  {
   "cell_type": "code",
   "execution_count": null,
   "id": "8c49dc59",
   "metadata": {},
   "outputs": [],
   "source": [
    "# Data"
   ]
  },
  {
   "cell_type": "markdown",
   "id": "099faf8e",
   "metadata": {},
   "source": [
    "#### 4. Save"
   ]
  },
  {
   "cell_type": "code",
   "execution_count": null,
   "id": "171fd19e",
   "metadata": {},
   "outputs": [],
   "source": [
    "print('* Saving file to', SaveFile)\n",
    "Data.to_csv(SaveFile, index=False)\n",
    "\n",
    "print('')\n",
    "Keep_Track()"
   ]
  },
  {
   "cell_type": "markdown",
   "id": "57eb2697",
   "metadata": {},
   "source": [
    "Test"
   ]
  },
  {
   "cell_type": "code",
   "execution_count": null,
   "id": "666343a8",
   "metadata": {},
   "outputs": [],
   "source": [
    "print('* Loading data.')\n",
    "Data = pd.read_csv(SaveFile)\n",
    "print('')\n",
    "Keep_Track()"
   ]
  },
  {
   "cell_type": "code",
   "execution_count": null,
   "id": "1787991e",
   "metadata": {},
   "outputs": [],
   "source": [
    "# Data.info()"
   ]
  },
  {
   "cell_type": "code",
   "execution_count": null,
   "id": "8b835951",
   "metadata": {},
   "outputs": [],
   "source": []
  },
  {
   "cell_type": "code",
   "execution_count": null,
   "id": "09eb55f7",
   "metadata": {},
   "outputs": [],
   "source": []
  }
 ],
 "metadata": {
  "kernelspec": {
   "display_name": "Python 3 (ipykernel)",
   "language": "python",
   "name": "python3"
  },
  "language_info": {
   "codemirror_mode": {
    "name": "ipython",
    "version": 3
   },
   "file_extension": ".py",
   "mimetype": "text/x-python",
   "name": "python",
   "nbconvert_exporter": "python",
   "pygments_lexer": "ipython3",
   "version": "3.9.7"
  }
 },
 "nbformat": 4,
 "nbformat_minor": 5
}
